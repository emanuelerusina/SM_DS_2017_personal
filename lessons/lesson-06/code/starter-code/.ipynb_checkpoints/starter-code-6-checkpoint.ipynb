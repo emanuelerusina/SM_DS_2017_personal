{
 "cells": [
  {
   "cell_type": "markdown",
   "metadata": {},
   "source": [
    "# Lesson 6 - Starter Code"
   ]
  },
  {
   "cell_type": "code",
   "execution_count": 1,
   "metadata": {},
   "outputs": [],
   "source": [
    "%matplotlib inline\n",
    "import numpy as np\n",
    "import pandas as pd\n",
    "from matplotlib import pyplot as plt\n",
    "import seaborn as sns\n",
    "sns.set_style(\"darkgrid\")\n",
    "import sklearn.linear_model\n",
    "\n",
    "# read in the mammal dataset\n",
    "wd = '../dataset/msleep/'\n",
    "mammals = pd.read_csv(wd+'msleep.csv')\n",
    "mammals = mammals[mammals.brainwt.notnull()].copy()"
   ]
  },
  {
   "cell_type": "markdown",
   "metadata": {},
   "source": [
    "### Explore our mammals dataset"
   ]
  },
  {
   "cell_type": "code",
<<<<<<< HEAD
   "execution_count": 2,
=======
   "execution_count": 5,
>>>>>>> master
   "metadata": {},
   "outputs": [
    {
     "data": {
      "text/html": [
       "<div>\n",
<<<<<<< HEAD
       "<style>\n",
       "    .dataframe thead tr:only-child th {\n",
       "        text-align: right;\n",
       "    }\n",
       "\n",
       "    .dataframe thead th {\n",
       "        text-align: left;\n",
       "    }\n",
       "\n",
       "    .dataframe tbody tr th {\n",
       "        vertical-align: top;\n",
       "    }\n",
       "</style>\n",
=======
>>>>>>> master
       "<table border=\"1\" class=\"dataframe\">\n",
       "  <thead>\n",
       "    <tr style=\"text-align: right;\">\n",
       "      <th></th>\n",
       "      <th>name</th>\n",
       "      <th>genus</th>\n",
       "      <th>vore</th>\n",
       "      <th>order</th>\n",
       "      <th>conservation</th>\n",
       "      <th>sleep_total</th>\n",
       "      <th>sleep_rem</th>\n",
       "      <th>sleep_cycle</th>\n",
       "      <th>awake</th>\n",
       "      <th>brainwt</th>\n",
       "      <th>bodywt</th>\n",
       "    </tr>\n",
       "  </thead>\n",
       "  <tbody>\n",
       "    <tr>\n",
       "      <th>1</th>\n",
       "      <td>Owl monkey</td>\n",
       "      <td>Aotus</td>\n",
       "      <td>omni</td>\n",
       "      <td>Primates</td>\n",
       "      <td>NaN</td>\n",
       "      <td>17.0</td>\n",
       "      <td>1.8</td>\n",
       "      <td>NaN</td>\n",
       "      <td>7.0</td>\n",
       "      <td>0.01550</td>\n",
       "      <td>0.480</td>\n",
       "    </tr>\n",
       "    <tr>\n",
       "      <th>3</th>\n",
       "      <td>Greater short-tailed shrew</td>\n",
       "      <td>Blarina</td>\n",
       "      <td>omni</td>\n",
       "      <td>Soricomorpha</td>\n",
       "      <td>lc</td>\n",
       "      <td>14.9</td>\n",
       "      <td>2.3</td>\n",
       "      <td>0.133333</td>\n",
       "      <td>9.1</td>\n",
       "      <td>0.00029</td>\n",
       "      <td>0.019</td>\n",
       "    </tr>\n",
       "    <tr>\n",
       "      <th>4</th>\n",
       "      <td>Cow</td>\n",
       "      <td>Bos</td>\n",
       "      <td>herbi</td>\n",
       "      <td>Artiodactyla</td>\n",
       "      <td>domesticated</td>\n",
       "      <td>4.0</td>\n",
       "      <td>0.7</td>\n",
       "      <td>0.666667</td>\n",
       "      <td>20.0</td>\n",
       "      <td>0.42300</td>\n",
       "      <td>600.000</td>\n",
       "    </tr>\n",
       "    <tr>\n",
       "      <th>8</th>\n",
       "      <td>Dog</td>\n",
       "      <td>Canis</td>\n",
       "      <td>carni</td>\n",
       "      <td>Carnivora</td>\n",
       "      <td>domesticated</td>\n",
       "      <td>10.1</td>\n",
       "      <td>2.9</td>\n",
       "      <td>0.333333</td>\n",
       "      <td>13.9</td>\n",
       "      <td>0.07000</td>\n",
       "      <td>14.000</td>\n",
       "    </tr>\n",
       "    <tr>\n",
       "      <th>9</th>\n",
       "      <td>Roe deer</td>\n",
       "      <td>Capreolus</td>\n",
       "      <td>herbi</td>\n",
       "      <td>Artiodactyla</td>\n",
       "      <td>lc</td>\n",
       "      <td>3.0</td>\n",
       "      <td>NaN</td>\n",
       "      <td>NaN</td>\n",
       "      <td>21.0</td>\n",
       "      <td>0.09820</td>\n",
       "      <td>14.800</td>\n",
       "    </tr>\n",
       "  </tbody>\n",
       "</table>\n",
       "</div>"
      ],
      "text/plain": [
       "                         name      genus   vore         order  conservation  \\\n",
       "1                  Owl monkey      Aotus   omni      Primates           NaN   \n",
       "3  Greater short-tailed shrew    Blarina   omni  Soricomorpha            lc   \n",
       "4                         Cow        Bos  herbi  Artiodactyla  domesticated   \n",
       "8                         Dog      Canis  carni     Carnivora  domesticated   \n",
       "9                    Roe deer  Capreolus  herbi  Artiodactyla            lc   \n",
       "\n",
       "   sleep_total  sleep_rem  sleep_cycle  awake  brainwt   bodywt  \n",
       "1         17.0        1.8          NaN    7.0  0.01550    0.480  \n",
       "3         14.9        2.3     0.133333    9.1  0.00029    0.019  \n",
       "4          4.0        0.7     0.666667   20.0  0.42300  600.000  \n",
       "8         10.1        2.9     0.333333   13.9  0.07000   14.000  \n",
       "9          3.0        NaN          NaN   21.0  0.09820   14.800  "
      ]
     },
<<<<<<< HEAD
     "execution_count": 2,
=======
     "execution_count": 5,
>>>>>>> master
     "metadata": {},
     "output_type": "execute_result"
    }
   ],
   "source": [
    "mammals.head()"
   ]
  },
  {
   "cell_type": "markdown",
   "metadata": {},
   "source": [
    "### Lets check out a scatter plot of body wieght and brain weight"
   ]
  },
  {
   "cell_type": "code",
<<<<<<< HEAD
   "execution_count": 4,
=======
   "execution_count": 2,
>>>>>>> master
   "metadata": {},
   "outputs": [
    {
     "data": {
      "image/png": "iVBORw0KGgoAAAANSUhEUgAAAWYAAAD3CAYAAAAua/5EAAAABHNCSVQICAgIfAhkiAAAAAlwSFlz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\n",
      "text/plain": [
<<<<<<< HEAD
       "<matplotlib.figure.Figure at 0xd6a33c8>"
=======
       "<matplotlib.figure.Figure at 0x5823240>"
>>>>>>> master
      ]
     },
     "metadata": {},
     "output_type": "display_data"
    }
   ],
   "source": [
    "# create a matplotlib figure\n",
    "plt.figure()\n",
    "# generate a scatterplot inside the figure\n",
    "plt.plot(mammals.bodywt, mammals.brainwt, '.')\n",
    "# show the plot\n",
    "plt.show()"
   ]
  },
  {
   "cell_type": "code",
<<<<<<< HEAD
   "execution_count": 6,
=======
   "execution_count": 3,
>>>>>>> master
   "metadata": {},
   "outputs": [
    {
     "data": {
<<<<<<< HEAD
      "image/png": "iVBORw0KGgoAAAANSUhEUgAAAW4AAAD0CAYAAAC7KMweAAAABHNCSVQICAgIfAhkiAAAAAlwSFlz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\nAAAASUVORK5CYII=\n",
      "text/plain": [
       "<matplotlib.figure.Figure at 0xda71630>"
      ]
     },
     "metadata": {},
     "output_type": "display_data"
    }
   ],
   "source": [
    "# remove outliers\n",
    "plt.figure()\n",
    "# generate a scatterplot inside the figure\n",
    "plt.plot(mammals.bodywt[mammals.bodywt<400], mammals.brainwt[mammals.bodywt<400], '.')\n",
    "# show the plot\n",
    "plt.show()"
   ]
  },
  {
   "cell_type": "code",
   "execution_count": 5,
   "metadata": {},
   "outputs": [
    {
     "data": {
      "text/plain": [
       "<seaborn.axisgrid.FacetGrid at 0xd670b38>"
      ]
     },
     "execution_count": 5,
=======
      "text/plain": [
       "<seaborn.axisgrid.FacetGrid at 0xd7fb748>"
      ]
     },
     "execution_count": 3,
>>>>>>> master
     "metadata": {},
     "output_type": "execute_result"
    },
    {
     "data": {
<<<<<<< HEAD
      "image/png": "iVBORw0KGgoAAAANSUhEUgAAAWAAAAFgCAYAAACFYaNMAAAABHNCSVQICAgIfAhkiAAAAAlwSFlz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\nEwYwEVGcMICJiOKEAUxEFCcMYCKiOPn/fG9UopDZnmIAAAAASUVORK5CYII=\n",
      "text/plain": [
       "<matplotlib.figure.Figure at 0xd956400>"
=======
      "image/png": "iVBORw0KGgoAAAANSUhEUgAAAWAAAAFgCAYAAACFYaNMAAAABHNCSVQICAgIfAhkiAAAAAlwSFlz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\nqo9tbn1ZQioAAAAASUVORK5CYII=\n",
      "text/plain": [
       "<matplotlib.figure.Figure at 0xd7f0a90>"
>>>>>>> master
      ]
     },
     "metadata": {},
     "output_type": "display_data"
    }
   ],
   "source": [
    "sns.lmplot('bodywt', 'brainwt', mammals)"
   ]
  },
  {
   "cell_type": "code",
   "execution_count": 7,
   "metadata": {},
   "outputs": [],
   "source": [
<<<<<<< HEAD
    "#log transformation\n",
=======
>>>>>>> master
    "log_columns = ['bodywt', 'brainwt',]\n",
    "log_mammals = mammals.copy()\n",
    "log_mammals[log_columns] = log_mammals[log_columns].apply(np.log10)"
   ]
  },
  {
   "cell_type": "code",
   "execution_count": 8,
   "metadata": {},
   "outputs": [
    {
     "data": {
      "text/plain": [
<<<<<<< HEAD
       "<seaborn.axisgrid.FacetGrid at 0xd6a3c18>"
=======
       "<seaborn.axisgrid.FacetGrid at 0xd6f9eb8>"
>>>>>>> master
      ]
     },
     "execution_count": 8,
     "metadata": {},
     "output_type": "execute_result"
    },
    {
     "data": {
<<<<<<< HEAD
      "image/png": "iVBORw0KGgoAAAANSUhEUgAAAWAAAAFgCAYAAACFYaNMAAAABHNCSVQICAgIfAhkiAAAAAlwSFlz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\nFkKIgEgACyFEQCSAhRAiIBLAQggRkF/5+F5bxiB8IAAAAABJRU5ErkJggg==\n",
      "text/plain": [
       "<matplotlib.figure.Figure at 0xd6a37b8>"
=======
      "image/png": "iVBORw0KGgoAAAANSUhEUgAAAWAAAAFgCAYAAACFYaNMAAAABHNCSVQICAgIfAhkiAAAAAlwSFlz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\nmPwC+49ImYZ1AfAAAAAASUVORK5CYII=\n",
      "text/plain": [
       "<matplotlib.figure.Figure at 0xd807550>"
>>>>>>> master
      ]
     },
     "metadata": {},
     "output_type": "display_data"
    }
   ],
   "source": [
    "sns.lmplot('bodywt', 'brainwt', log_mammals)"
   ]
  },
  {
   "cell_type": "markdown",
   "metadata": {},
   "source": [
    "## Guided Practice: Using Seaborn to generate single variable linear model plots (15 mins)\n",
    "Update and complete the code below to use lmplot and display correlations between body weight and two dependent variables: sleep_rem and awake.\n"
   ]
  },
  {
   "cell_type": "code",
<<<<<<< HEAD
   "execution_count": 18,
=======
   "execution_count": 9,
>>>>>>> master
   "metadata": {
    "collapsed": true
   },
   "outputs": [],
   "source": [
<<<<<<< HEAD
    "log_columns = ['bodywt', 'brainwt']  # any others?\n",
=======
    "log_columns = ['bodywt', 'brainwt',]  # any others?\n",
>>>>>>> master
    "log_mammals = mammals.copy()\n",
    "log_mammals[log_columns] = log_mammals[log_columns].apply(np.log10)\n",
    "\n"
   ]
  },
  {
   "cell_type": "markdown",
   "metadata": {},
   "source": [
    "##### Complete below for sleep_rem and awake as a y, with variables you've already used as x.\n"
   ]
  },
  {
   "cell_type": "code",
<<<<<<< HEAD
   "execution_count": 19,
=======
   "execution_count": 12,
>>>>>>> master
   "metadata": {},
   "outputs": [
    {
     "data": {
      "text/plain": [
<<<<<<< HEAD
       "<seaborn.axisgrid.FacetGrid at 0xf4894e0>"
      ]
     },
     "execution_count": 19,
=======
       "<seaborn.axisgrid.FacetGrid at 0xc84df98>"
      ]
     },
     "execution_count": 12,
>>>>>>> master
     "metadata": {},
     "output_type": "execute_result"
    },
    {
     "data": {
<<<<<<< HEAD
      "image/png": "iVBORw0KGgoAAAANSUhEUgAAAWAAAAFgCAYAAACFYaNMAAAABHNCSVQICAgIfAhkiAAAAAlwSFlz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\n",
      "text/plain": [
       "<matplotlib.figure.Figure at 0xf4891d0>"
=======
      "image/png": "iVBORw0KGgoAAAANSUhEUgAAAWAAAAFgCAYAAACFYaNMAAAABHNCSVQICAgIfAhkiAAAAAlwSFlz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\nAAAASUVORK5CYII=\n",
      "text/plain": [
       "<matplotlib.figure.Figure at 0xc84dd30>"
>>>>>>> master
      ]
     },
     "metadata": {},
     "output_type": "display_data"
    },
    {
     "data": {
<<<<<<< HEAD
      "image/png": "iVBORw0KGgoAAAANSUhEUgAAAWAAAAFgCAYAAACFYaNMAAAABHNCSVQICAgIfAhkiAAAAAlwSFlz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\ngImIbMIETERkk/8PyZp/mssp8rgAAAAASUVORK5CYII=\n",
      "text/plain": [
       "<matplotlib.figure.Figure at 0xf20a908>"
=======
      "image/png": "iVBORw0KGgoAAAANSUhEUgAAAWAAAAFgCAYAAACFYaNMAAAABHNCSVQICAgIfAhkiAAAAAlwSFlz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\n",
      "text/plain": [
       "<matplotlib.figure.Figure at 0xe0e45c0>"
>>>>>>> master
      ]
     },
     "metadata": {},
     "output_type": "display_data"
    }
   ],
   "source": [
<<<<<<< HEAD
    "sns.lmplot('bodywt', 'sleep_rem', mammals)\n",
    "sns.lmplot('bodywt', 'sleep_rem', log_mammals)"
=======
    "sns.lmplot('brainwt', 'sleep_rem', mammals)\n",
    "sns.lmplot('brainwt', 'sleep_rem', log_mammals)"
>>>>>>> master
   ]
  },
  {
   "cell_type": "markdown",
   "metadata": {},
   "source": [
    "## Introduction: Single Regression Analysis in statsmodels & scikit (10 mins)"
   ]
  },
  {
   "cell_type": "code",
<<<<<<< HEAD
   "execution_count": 27,
=======
   "execution_count": 42,
>>>>>>> master
   "metadata": {},
   "outputs": [
    {
     "data": {
      "text/html": [
       "<table class=\"simpletable\">\n",
       "<caption>OLS Regression Results</caption>\n",
       "<tr>\n",
       "  <th>Dep. Variable:</th>            <td>y</td>        <th>  R-squared:         </th> <td>   0.872</td>\n",
       "</tr>\n",
       "<tr>\n",
       "  <th>Model:</th>                   <td>OLS</td>       <th>  Adj. R-squared:    </th> <td>   0.870</td>\n",
       "</tr>\n",
       "<tr>\n",
       "  <th>Method:</th>             <td>Least Squares</td>  <th>  F-statistic:       </th> <td>   367.7</td>\n",
       "</tr>\n",
       "<tr>\n",
<<<<<<< HEAD
       "  <th>Date:</th>             <td>Wed, 30 Aug 2017</td> <th>  Prob (F-statistic):</th> <td>9.16e-26</td>\n",
       "</tr>\n",
       "<tr>\n",
       "  <th>Time:</th>                 <td>20:07:33</td>     <th>  Log-Likelihood:    </th> <td> -20.070</td>\n",
=======
       "  <th>Date:</th>             <td>Thu, 04 Feb 2016</td> <th>  Prob (F-statistic):</th> <td>9.16e-26</td>\n",
       "</tr>\n",
       "<tr>\n",
       "  <th>Time:</th>                 <td>10:28:54</td>     <th>  Log-Likelihood:    </th> <td> -20.070</td>\n",
>>>>>>> master
       "</tr>\n",
       "<tr>\n",
       "  <th>No. Observations:</th>      <td>    56</td>      <th>  AIC:               </th> <td>   44.14</td>\n",
       "</tr>\n",
       "<tr>\n",
       "  <th>Df Residuals:</th>          <td>    54</td>      <th>  BIC:               </th> <td>   48.19</td>\n",
       "</tr>\n",
       "<tr>\n",
       "  <th>Df Model:</th>              <td>     1</td>      <th>                     </th>     <td> </td>   \n",
       "</tr>\n",
       "<tr>\n",
       "  <th>Covariance Type:</th>      <td>nonrobust</td>    <th>                     </th>     <td> </td>   \n",
       "</tr>\n",
       "</table>\n",
       "<table class=\"simpletable\">\n",
       "<tr>\n",
<<<<<<< HEAD
       "      <td></td>         <th>coef</th>     <th>std err</th>      <th>t</th>      <th>P>|t|</th>  <th>[0.025</th>    <th>0.975]</th>  \n",
       "</tr>\n",
       "<tr>\n",
       "  <th>Intercept</th> <td>    0.0859</td> <td>    0.048</td> <td>    1.782</td> <td> 0.080</td> <td>   -0.011</td> <td>    0.183</td>\n",
       "</tr>\n",
       "<tr>\n",
       "  <th>X</th>         <td>    0.0010</td> <td> 5.03e-05</td> <td>   19.176</td> <td> 0.000</td> <td>    0.001</td> <td>    0.001</td>\n",
=======
       "      <td></td>         <th>coef</th>     <th>std err</th>      <th>t</th>      <th>P>|t|</th> <th>[95.0% Conf. Int.]</th> \n",
       "</tr>\n",
       "<tr>\n",
       "  <th>Intercept</th> <td>    0.0859</td> <td>    0.048</td> <td>    1.782</td> <td> 0.080</td> <td>   -0.011     0.183</td>\n",
       "</tr>\n",
       "<tr>\n",
       "  <th>X</th>         <td>    0.0010</td> <td> 5.03e-05</td> <td>   19.176</td> <td> 0.000</td> <td>    0.001     0.001</td>\n",
>>>>>>> master
       "</tr>\n",
       "</table>\n",
       "<table class=\"simpletable\">\n",
       "<tr>\n",
       "  <th>Omnibus:</th>       <td>85.068</td> <th>  Durbin-Watson:     </th> <td>   2.376</td> \n",
       "</tr>\n",
       "<tr>\n",
       "  <th>Prob(Omnibus):</th> <td> 0.000</td> <th>  Jarque-Bera (JB):  </th> <td>1330.630</td> \n",
       "</tr>\n",
       "<tr>\n",
       "  <th>Skew:</th>          <td> 4.258</td> <th>  Prob(JB):          </th> <td>1.14e-289</td>\n",
       "</tr>\n",
       "<tr>\n",
       "  <th>Kurtosis:</th>      <td>25.311</td> <th>  Cond. No.          </th> <td>    981.</td> \n",
       "</tr>\n",
       "</table>"
      ],
      "text/plain": [
       "<class 'statsmodels.iolib.summary.Summary'>\n",
       "\"\"\"\n",
       "                            OLS Regression Results                            \n",
       "==============================================================================\n",
       "Dep. Variable:                      y   R-squared:                       0.872\n",
       "Model:                            OLS   Adj. R-squared:                  0.870\n",
       "Method:                 Least Squares   F-statistic:                     367.7\n",
<<<<<<< HEAD
       "Date:                Wed, 30 Aug 2017   Prob (F-statistic):           9.16e-26\n",
       "Time:                        20:07:33   Log-Likelihood:                -20.070\n",
=======
       "Date:                Thu, 04 Feb 2016   Prob (F-statistic):           9.16e-26\n",
       "Time:                        10:28:54   Log-Likelihood:                -20.070\n",
>>>>>>> master
       "No. Observations:                  56   AIC:                             44.14\n",
       "Df Residuals:                      54   BIC:                             48.19\n",
       "Df Model:                           1                                         \n",
       "Covariance Type:            nonrobust                                         \n",
       "==============================================================================\n",
<<<<<<< HEAD
       "                 coef    std err          t      P>|t|      [0.025      0.975]\n",
       "------------------------------------------------------------------------------\n",
       "Intercept      0.0859      0.048      1.782      0.080      -0.011       0.183\n",
       "X              0.0010   5.03e-05     19.176      0.000       0.001       0.001\n",
=======
       "                 coef    std err          t      P>|t|      [95.0% Conf. Int.]\n",
       "------------------------------------------------------------------------------\n",
       "Intercept      0.0859      0.048      1.782      0.080        -0.011     0.183\n",
       "X              0.0010   5.03e-05     19.176      0.000         0.001     0.001\n",
>>>>>>> master
       "==============================================================================\n",
       "Omnibus:                       85.068   Durbin-Watson:                   2.376\n",
       "Prob(Omnibus):                  0.000   Jarque-Bera (JB):             1330.630\n",
       "Skew:                           4.258   Prob(JB):                    1.14e-289\n",
       "Kurtosis:                      25.311   Cond. No.                         981.\n",
       "==============================================================================\n",
       "\n",
       "Warnings:\n",
       "[1] Standard Errors assume that the covariance matrix of the errors is correctly specified.\n",
       "\"\"\""
      ]
     },
<<<<<<< HEAD
     "execution_count": 27,
=======
     "execution_count": 42,
>>>>>>> master
     "metadata": {},
     "output_type": "execute_result"
    }
   ],
   "source": [
    "# this is the standard import if you're using \"formula notation\" (similar to R)\n",
    "import statsmodels.formula.api as smf\n",
    "\n",
    "X = mammals[['bodywt']]\n",
    "y = mammals['brainwt']\n",
    "\n",
    "# create a fitted model in one line\n",
    "#formula notiation is the equivalent to writting out our models such that 'outcome = predictor'\n",
    "#with the follwing syntax formula = 'outcome ~ predictor1 + predictor2 ... predictorN'\n",
    "lm = smf.ols(formula='y ~ X', data=mammals).fit()\n",
    "#print the full summary\n",
    "lm.summary()\n",
    "\n"
   ]
  },
  {
   "cell_type": "markdown",
   "metadata": {},
   "source": [
    "#### Use Statsmodels to make the prediction"
   ]
  },
  {
   "cell_type": "code",
<<<<<<< HEAD
   "execution_count": 28,
=======
   "execution_count": 43,
>>>>>>> master
   "metadata": {},
   "outputs": [
    {
     "data": {
      "text/html": [
       "<div>\n",
<<<<<<< HEAD
       "<style>\n",
       "    .dataframe thead tr:only-child th {\n",
       "        text-align: right;\n",
       "    }\n",
       "\n",
       "    .dataframe thead th {\n",
       "        text-align: left;\n",
       "    }\n",
       "\n",
       "    .dataframe tbody tr th {\n",
       "        vertical-align: top;\n",
       "    }\n",
       "</style>\n",
=======
>>>>>>> master
       "<table border=\"1\" class=\"dataframe\">\n",
       "  <thead>\n",
       "    <tr style=\"text-align: right;\">\n",
       "      <th></th>\n",
       "      <th>X</th>\n",
       "    </tr>\n",
       "  </thead>\n",
       "  <tbody>\n",
       "    <tr>\n",
       "      <th>0</th>\n",
       "      <td>50</td>\n",
       "    </tr>\n",
       "  </tbody>\n",
       "</table>\n",
       "</div>"
      ],
      "text/plain": [
       "    X\n",
       "0  50"
      ]
     },
<<<<<<< HEAD
     "execution_count": 28,
=======
     "execution_count": 43,
>>>>>>> master
     "metadata": {},
     "output_type": "execute_result"
    }
   ],
   "source": [
    "# you have to create a DataFrame since the Statsmodels formula interface expects it\n",
    "X_new = pd.DataFrame({'X': [50]})\n",
    "X_new.head()"
   ]
  },
  {
   "cell_type": "code",
<<<<<<< HEAD
   "execution_count": 29,
=======
   "execution_count": 44,
>>>>>>> master
   "metadata": {},
   "outputs": [
    {
     "data": {
      "text/plain": [
<<<<<<< HEAD
       "0    0.134115\n",
       "dtype: float64"
      ]
     },
     "execution_count": 29,
=======
       "array([ 0.13411477])"
      ]
     },
     "execution_count": 44,
>>>>>>> master
     "metadata": {},
     "output_type": "execute_result"
    }
   ],
   "source": [
    "lm.predict(X_new)"
   ]
  },
  {
   "cell_type": "markdown",
   "metadata": {},
   "source": [
    "### Repeat in Scikit with handy plotting"
   ]
  },
  {
   "cell_type": "markdown",
   "metadata": {},
   "source": [
    "When modeling with sklearn, you'll use the following base principals:\n",
    "\n",
    "- All sklearn estimators (modeling classes) are based on this base estimator. This allows you to easily rotate through estimators without changing much code.\n",
    "- All estimators take a matrix, X, either sparse or dense.\n",
    "- Many estimators also take a vector, y, when working on a supervised machine learning problem. Regressions are supervised learning because we already have examples of y given X.\n",
    "- All estimators have parameters that can be set. This allows for customization and higher level of detail to the learning process. The parameters are appropriate to each estimator algorithm."
   ]
  },
  {
   "cell_type": "code",
<<<<<<< HEAD
   "execution_count": 31,
=======
   "execution_count": 13,
>>>>>>> master
   "metadata": {},
   "outputs": [
    {
     "name": "stdout",
     "output_type": "stream",
     "text": [
      "P Values: [  9.15540205e-26]\n",
      "Coefficients: [ 0.00096395]\n",
      "y-intercept: 0.0859173102936\n",
      "R-Squared: 0.871949198087\n"
     ]
    },
    {
<<<<<<< HEAD
     "data": {
      "image/png": "iVBORw0KGgoAAAANSUhEUgAAAWsAAAD0CAYAAABdAQdaAAAABHNCSVQICAgIfAhkiAAAAAlwSFlz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\nQmCC\n",
      "text/plain": [
       "<matplotlib.figure.Figure at 0xfdb32b0>"
=======
     "ename": "TypeError",
     "evalue": "'numpy.float64' object cannot be interpreted as an index",
     "output_type": "error",
     "traceback": [
      "\u001b[1;31m\u001b[0m",
      "\u001b[1;31mTypeError\u001b[0mTraceback (most recent call last)",
      "\u001b[1;32m<ipython-input-13-d737108e2aff>\u001b[0m in \u001b[0;36m<module>\u001b[1;34m()\u001b[0m\n\u001b[0;32m     22\u001b[0m \u001b[0my\u001b[0m \u001b[1;33m=\u001b[0m \u001b[0mmammals\u001b[0m\u001b[1;33m[\u001b[0m\u001b[1;34m'brainwt'\u001b[0m\u001b[1;33m]\u001b[0m\u001b[1;33m\u001b[0m\u001b[0m\n\u001b[0;32m     23\u001b[0m \u001b[0mlm\u001b[0m \u001b[1;33m=\u001b[0m \u001b[0mlinear_model\u001b[0m\u001b[1;33m.\u001b[0m\u001b[0mLinearRegression\u001b[0m\u001b[1;33m(\u001b[0m\u001b[1;33m)\u001b[0m\u001b[1;33m\u001b[0m\u001b[0m\n\u001b[1;32m---> 24\u001b[1;33m \u001b[0mlm\u001b[0m \u001b[1;33m=\u001b[0m \u001b[0mget_linear_model_metrics\u001b[0m\u001b[1;33m(\u001b[0m\u001b[0mX\u001b[0m\u001b[1;33m,\u001b[0m \u001b[0my\u001b[0m\u001b[1;33m,\u001b[0m \u001b[0mlm\u001b[0m\u001b[1;33m)\u001b[0m\u001b[1;33m\u001b[0m\u001b[0m\n\u001b[0m",
      "\u001b[1;32m<ipython-input-13-d737108e2aff>\u001b[0m in \u001b[0;36mget_linear_model_metrics\u001b[1;34m(X, y, algo)\u001b[0m\n\u001b[0;32m     15\u001b[0m     \u001b[1;32mprint\u001b[0m \u001b[1;34m'R-Squared:'\u001b[0m\u001b[1;33m,\u001b[0m \u001b[0malgo\u001b[0m\u001b[1;33m.\u001b[0m\u001b[0mscore\u001b[0m\u001b[1;33m(\u001b[0m\u001b[0mX\u001b[0m\u001b[1;33m,\u001b[0m\u001b[0my\u001b[0m\u001b[1;33m)\u001b[0m\u001b[1;33m\u001b[0m\u001b[0m\n\u001b[0;32m     16\u001b[0m     \u001b[0mplt\u001b[0m\u001b[1;33m.\u001b[0m\u001b[0mfigure\u001b[0m\u001b[1;33m(\u001b[0m\u001b[1;33m)\u001b[0m\u001b[1;33m\u001b[0m\u001b[0m\n\u001b[1;32m---> 17\u001b[1;33m     \u001b[0mplt\u001b[0m\u001b[1;33m.\u001b[0m\u001b[0mhist\u001b[0m\u001b[1;33m(\u001b[0m\u001b[0mresiduals\u001b[0m\u001b[1;33m,\u001b[0m \u001b[0mbins\u001b[0m\u001b[1;33m=\u001b[0m\u001b[0mnp\u001b[0m\u001b[1;33m.\u001b[0m\u001b[0mceil\u001b[0m\u001b[1;33m(\u001b[0m\u001b[0mnp\u001b[0m\u001b[1;33m.\u001b[0m\u001b[0msqrt\u001b[0m\u001b[1;33m(\u001b[0m\u001b[0mlen\u001b[0m\u001b[1;33m(\u001b[0m\u001b[0my\u001b[0m\u001b[1;33m)\u001b[0m\u001b[1;33m)\u001b[0m\u001b[1;33m)\u001b[0m\u001b[1;33m)\u001b[0m\u001b[1;33m\u001b[0m\u001b[0m\n\u001b[0m\u001b[0;32m     18\u001b[0m     \u001b[1;31m# keep the model\u001b[0m\u001b[1;33m\u001b[0m\u001b[1;33m\u001b[0m\u001b[0m\n\u001b[0;32m     19\u001b[0m     \u001b[1;32mreturn\u001b[0m \u001b[0malgo\u001b[0m\u001b[1;33m\u001b[0m\u001b[0m\n",
      "\u001b[1;32mC:\\Users\\emanuele.rusina\\AppData\\Local\\Continuum\\Anaconda2\\lib\\site-packages\\matplotlib\\pyplot.pyc\u001b[0m in \u001b[0;36mhist\u001b[1;34m(x, bins, range, normed, weights, cumulative, bottom, histtype, align, orientation, rwidth, log, color, label, stacked, hold, data, **kwargs)\u001b[0m\n\u001b[0;32m   3079\u001b[0m                       \u001b[0mhisttype\u001b[0m\u001b[1;33m=\u001b[0m\u001b[0mhisttype\u001b[0m\u001b[1;33m,\u001b[0m \u001b[0malign\u001b[0m\u001b[1;33m=\u001b[0m\u001b[0malign\u001b[0m\u001b[1;33m,\u001b[0m \u001b[0morientation\u001b[0m\u001b[1;33m=\u001b[0m\u001b[0morientation\u001b[0m\u001b[1;33m,\u001b[0m\u001b[1;33m\u001b[0m\u001b[0m\n\u001b[0;32m   3080\u001b[0m                       \u001b[0mrwidth\u001b[0m\u001b[1;33m=\u001b[0m\u001b[0mrwidth\u001b[0m\u001b[1;33m,\u001b[0m \u001b[0mlog\u001b[0m\u001b[1;33m=\u001b[0m\u001b[0mlog\u001b[0m\u001b[1;33m,\u001b[0m \u001b[0mcolor\u001b[0m\u001b[1;33m=\u001b[0m\u001b[0mcolor\u001b[0m\u001b[1;33m,\u001b[0m \u001b[0mlabel\u001b[0m\u001b[1;33m=\u001b[0m\u001b[0mlabel\u001b[0m\u001b[1;33m,\u001b[0m\u001b[1;33m\u001b[0m\u001b[0m\n\u001b[1;32m-> 3081\u001b[1;33m                       stacked=stacked, data=data, **kwargs)\n\u001b[0m\u001b[0;32m   3082\u001b[0m     \u001b[1;32mfinally\u001b[0m\u001b[1;33m:\u001b[0m\u001b[1;33m\u001b[0m\u001b[0m\n\u001b[0;32m   3083\u001b[0m         \u001b[0max\u001b[0m\u001b[1;33m.\u001b[0m\u001b[0m_hold\u001b[0m \u001b[1;33m=\u001b[0m \u001b[0mwashold\u001b[0m\u001b[1;33m\u001b[0m\u001b[0m\n",
      "\u001b[1;32mC:\\Users\\emanuele.rusina\\AppData\\Local\\Continuum\\Anaconda2\\lib\\site-packages\\matplotlib\\__init__.pyc\u001b[0m in \u001b[0;36minner\u001b[1;34m(ax, *args, **kwargs)\u001b[0m\n\u001b[0;32m   1895\u001b[0m                     warnings.warn(msg % (label_namer, func.__name__),\n\u001b[0;32m   1896\u001b[0m                                   RuntimeWarning, stacklevel=2)\n\u001b[1;32m-> 1897\u001b[1;33m             \u001b[1;32mreturn\u001b[0m \u001b[0mfunc\u001b[0m\u001b[1;33m(\u001b[0m\u001b[0max\u001b[0m\u001b[1;33m,\u001b[0m \u001b[1;33m*\u001b[0m\u001b[0margs\u001b[0m\u001b[1;33m,\u001b[0m \u001b[1;33m**\u001b[0m\u001b[0mkwargs\u001b[0m\u001b[1;33m)\u001b[0m\u001b[1;33m\u001b[0m\u001b[0m\n\u001b[0m\u001b[0;32m   1898\u001b[0m         \u001b[0mpre_doc\u001b[0m \u001b[1;33m=\u001b[0m \u001b[0minner\u001b[0m\u001b[1;33m.\u001b[0m\u001b[0m__doc__\u001b[0m\u001b[1;33m\u001b[0m\u001b[0m\n\u001b[0;32m   1899\u001b[0m         \u001b[1;32mif\u001b[0m \u001b[0mpre_doc\u001b[0m \u001b[1;32mis\u001b[0m \u001b[0mNone\u001b[0m\u001b[1;33m:\u001b[0m\u001b[1;33m\u001b[0m\u001b[0m\n",
      "\u001b[1;32mC:\\Users\\emanuele.rusina\\AppData\\Local\\Continuum\\Anaconda2\\lib\\site-packages\\matplotlib\\axes\\_axes.pyc\u001b[0m in \u001b[0;36mhist\u001b[1;34m(***failed resolving arguments***)\u001b[0m\n\u001b[0;32m   6193\u001b[0m             \u001b[1;31m# this will automatically overwrite bins,\u001b[0m\u001b[1;33m\u001b[0m\u001b[1;33m\u001b[0m\u001b[0m\n\u001b[0;32m   6194\u001b[0m             \u001b[1;31m# so that each histogram uses the same bins\u001b[0m\u001b[1;33m\u001b[0m\u001b[1;33m\u001b[0m\u001b[0m\n\u001b[1;32m-> 6195\u001b[1;33m             \u001b[0mm\u001b[0m\u001b[1;33m,\u001b[0m \u001b[0mbins\u001b[0m \u001b[1;33m=\u001b[0m \u001b[0mnp\u001b[0m\u001b[1;33m.\u001b[0m\u001b[0mhistogram\u001b[0m\u001b[1;33m(\u001b[0m\u001b[0mx\u001b[0m\u001b[1;33m[\u001b[0m\u001b[0mi\u001b[0m\u001b[1;33m]\u001b[0m\u001b[1;33m,\u001b[0m \u001b[0mbins\u001b[0m\u001b[1;33m,\u001b[0m \u001b[0mweights\u001b[0m\u001b[1;33m=\u001b[0m\u001b[0mw\u001b[0m\u001b[1;33m[\u001b[0m\u001b[0mi\u001b[0m\u001b[1;33m]\u001b[0m\u001b[1;33m,\u001b[0m \u001b[1;33m**\u001b[0m\u001b[0mhist_kwargs\u001b[0m\u001b[1;33m)\u001b[0m\u001b[1;33m\u001b[0m\u001b[0m\n\u001b[0m\u001b[0;32m   6196\u001b[0m             \u001b[0mm\u001b[0m \u001b[1;33m=\u001b[0m \u001b[0mm\u001b[0m\u001b[1;33m.\u001b[0m\u001b[0mastype\u001b[0m\u001b[1;33m(\u001b[0m\u001b[0mfloat\u001b[0m\u001b[1;33m)\u001b[0m  \u001b[1;31m# causes problems later if it's an int\u001b[0m\u001b[1;33m\u001b[0m\u001b[0m\n\u001b[0;32m   6197\u001b[0m             \u001b[1;32mif\u001b[0m \u001b[0mmlast\u001b[0m \u001b[1;32mis\u001b[0m \u001b[0mNone\u001b[0m\u001b[1;33m:\u001b[0m\u001b[1;33m\u001b[0m\u001b[0m\n",
      "\u001b[1;32mC:\\Users\\emanuele.rusina\\AppData\\Local\\Continuum\\Anaconda2\\lib\\site-packages\\numpy\\lib\\function_base.pyc\u001b[0m in \u001b[0;36mhistogram\u001b[1;34m(a, bins, range, normed, weights, density)\u001b[0m\n\u001b[0;32m    726\u001b[0m \u001b[1;33m\u001b[0m\u001b[0m\n\u001b[0;32m    727\u001b[0m         \u001b[1;31m# Initialize empty histogram\u001b[0m\u001b[1;33m\u001b[0m\u001b[1;33m\u001b[0m\u001b[0m\n\u001b[1;32m--> 728\u001b[1;33m         \u001b[0mn\u001b[0m \u001b[1;33m=\u001b[0m \u001b[0mnp\u001b[0m\u001b[1;33m.\u001b[0m\u001b[0mzeros\u001b[0m\u001b[1;33m(\u001b[0m\u001b[0mbins\u001b[0m\u001b[1;33m,\u001b[0m \u001b[0mntype\u001b[0m\u001b[1;33m)\u001b[0m\u001b[1;33m\u001b[0m\u001b[0m\n\u001b[0m\u001b[0;32m    729\u001b[0m         \u001b[1;31m# Pre-compute histogram scaling factor\u001b[0m\u001b[1;33m\u001b[0m\u001b[1;33m\u001b[0m\u001b[0m\n\u001b[0;32m    730\u001b[0m         \u001b[0mnorm\u001b[0m \u001b[1;33m=\u001b[0m \u001b[0mbins\u001b[0m \u001b[1;33m/\u001b[0m \u001b[1;33m(\u001b[0m\u001b[0mmx\u001b[0m \u001b[1;33m-\u001b[0m \u001b[0mmn\u001b[0m\u001b[1;33m)\u001b[0m\u001b[1;33m\u001b[0m\u001b[0m\n",
      "\u001b[1;31mTypeError\u001b[0m: 'numpy.float64' object cannot be interpreted as an index"
     ]
    },
    {
     "data": {
      "image/png": "iVBORw0KGgoAAAANSUhEUgAAAXUAAAD3CAYAAADi8sSvAAAABHNCSVQICAgIfAhkiAAAAAlwSFlz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\nkD6fAAAAAABJRU5ErkJggg==\n",
      "text/plain": [
       "<matplotlib.figure.Figure at 0xe3a6828>"
>>>>>>> master
      ]
     },
     "metadata": {},
     "output_type": "display_data"
    }
   ],
   "source": [
    "from sklearn import feature_selection, linear_model\n",
    "\n",
    "def get_linear_model_metrics(X, y, algo):\n",
    "    # get the pvalue of X given y. Ignore f-stat for now.\n",
    "    pvals = feature_selection.f_regression(X, y)[1]\n",
    "    # start with an empty linear regression object\n",
    "    # .fit() runs the linear regression function on X and y\n",
    "    algo.fit(X,y)\n",
    "    residuals = (y-algo.predict(X)).values\n",
    "\n",
    "    # print the necessary values\n",
    "    print 'P Values:', pvals\n",
    "    print 'Coefficients:', algo.coef_\n",
    "    print 'y-intercept:', algo.intercept_\n",
    "    print 'R-Squared:', algo.score(X,y)\n",
    "    plt.figure()\n",
<<<<<<< HEAD
    "    plt.hist(residuals, bins=int(np.ceil(np.sqrt(len(y)))))\n",
=======
    "    plt.hist(residuals, bins=np.ceil(np.sqrt(len(y))))\n",
>>>>>>> master
    "    # keep the model\n",
    "    return algo\n",
    "\n",
    "X = mammals[['bodywt']]\n",
    "y = mammals['brainwt']\n",
    "lm = linear_model.LinearRegression()\n",
    "lm = get_linear_model_metrics(X, y, lm)"
   ]
  },
  {
   "cell_type": "markdown",
   "metadata": {},
   "source": [
    "## Demo: Significance is Key (20 mins)"
   ]
  },
  {
   "cell_type": "markdown",
   "metadata": {},
   "source": [
    "### What does our output tell us?"
   ]
  },
  {
   "cell_type": "markdown",
   "metadata": {},
   "source": [
    "Our output tells us that:\n",
    "\n",
    "* The relationship between bodywt and brainwt isn't random (p value approaching 0)  \n",
    "* The model explains, roughly, 87% of the variance of the dataset (the largest errors being in the large brain and body sizes)  \n",
    "* With this current model, brainwt is roughly bodywt * 0.00096395  \n",
    "* The residuals, or error in the prediction, is not normal, with outliers on the right. A better with will have similar to normally distributed error."
   ]
  },
  {
   "cell_type": "markdown",
   "metadata": {},
   "source": [
    "### Evaluating Fit, Evaluating Sense"
   ]
  },
  {
   "cell_type": "markdown",
   "metadata": {},
   "source": [
    "Although we know there is a better solution to the model, we should evaluate some other sense things first. For example, given this model, what is an animal's brainwt if their bodywt is 0?"
   ]
  },
  {
   "cell_type": "code",
<<<<<<< HEAD
   "execution_count": 30,
   "metadata": {},
   "outputs": [
    {
     "ename": "PatsyError",
     "evalue": "Number of rows mismatch between data argument and X (1 versus 56)\n    y ~ X\n        ^",
     "output_type": "error",
     "traceback": [
      "\u001b[1;31m\u001b[0m",
      "\u001b[1;31mPatsyError\u001b[0mTraceback (most recent call last)",
      "\u001b[1;32m<ipython-input-30-db2fa724e87c>\u001b[0m in \u001b[0;36m<module>\u001b[1;34m()\u001b[0m\n\u001b[0;32m      1\u001b[0m \u001b[1;31m# prediction at 0?\u001b[0m\u001b[1;33m\u001b[0m\u001b[1;33m\u001b[0m\u001b[0m\n\u001b[1;32m----> 2\u001b[1;33m \u001b[1;32mprint\u001b[0m \u001b[0mlm\u001b[0m\u001b[1;33m.\u001b[0m\u001b[0mpredict\u001b[0m\u001b[1;33m(\u001b[0m\u001b[1;33m[\u001b[0m\u001b[1;33m[\u001b[0m\u001b[1;36m0\u001b[0m\u001b[1;33m]\u001b[0m\u001b[1;33m]\u001b[0m\u001b[1;33m)\u001b[0m\u001b[1;33m\u001b[0m\u001b[0m\n\u001b[0m",
      "\u001b[1;32mC:\\Users\\emanuele.rusina\\AppData\\Local\\Continuum\\Anaconda2\\lib\\site-packages\\statsmodels\\base\\model.pyc\u001b[0m in \u001b[0;36mpredict\u001b[1;34m(self, exog, transform, *args, **kwargs)\u001b[0m\n\u001b[0;32m    774\u001b[0m                 \u001b[0mexog_index\u001b[0m \u001b[1;33m=\u001b[0m \u001b[0mexog\u001b[0m\u001b[1;33m.\u001b[0m\u001b[0mindex\u001b[0m\u001b[1;33m\u001b[0m\u001b[0m\n\u001b[0;32m    775\u001b[0m             exog = dmatrix(self.model.data.design_info.builder,\n\u001b[1;32m--> 776\u001b[1;33m                            exog, return_type=\"dataframe\")\n\u001b[0m\u001b[0;32m    777\u001b[0m             \u001b[1;32mif\u001b[0m \u001b[0mlen\u001b[0m\u001b[1;33m(\u001b[0m\u001b[0mexog\u001b[0m\u001b[1;33m)\u001b[0m \u001b[1;33m<\u001b[0m \u001b[0mlen\u001b[0m\u001b[1;33m(\u001b[0m\u001b[0mexog_index\u001b[0m\u001b[1;33m)\u001b[0m\u001b[1;33m:\u001b[0m\u001b[1;33m\u001b[0m\u001b[0m\n\u001b[0;32m    778\u001b[0m                 \u001b[1;31m# missing values, rows have been dropped\u001b[0m\u001b[1;33m\u001b[0m\u001b[1;33m\u001b[0m\u001b[0m\n",
      "\u001b[1;32mC:\\Users\\emanuele.rusina\\AppData\\Local\\Continuum\\Anaconda2\\lib\\site-packages\\patsy\\highlevel.pyc\u001b[0m in \u001b[0;36mdmatrix\u001b[1;34m(formula_like, data, eval_env, NA_action, return_type)\u001b[0m\n\u001b[0;32m    289\u001b[0m     \u001b[0meval_env\u001b[0m \u001b[1;33m=\u001b[0m \u001b[0mEvalEnvironment\u001b[0m\u001b[1;33m.\u001b[0m\u001b[0mcapture\u001b[0m\u001b[1;33m(\u001b[0m\u001b[0meval_env\u001b[0m\u001b[1;33m,\u001b[0m \u001b[0mreference\u001b[0m\u001b[1;33m=\u001b[0m\u001b[1;36m1\u001b[0m\u001b[1;33m)\u001b[0m\u001b[1;33m\u001b[0m\u001b[0m\n\u001b[0;32m    290\u001b[0m     (lhs, rhs) = _do_highlevel_design(formula_like, data, eval_env,\n\u001b[1;32m--> 291\u001b[1;33m                                       NA_action, return_type)\n\u001b[0m\u001b[0;32m    292\u001b[0m     \u001b[1;32mif\u001b[0m \u001b[0mlhs\u001b[0m\u001b[1;33m.\u001b[0m\u001b[0mshape\u001b[0m\u001b[1;33m[\u001b[0m\u001b[1;36m1\u001b[0m\u001b[1;33m]\u001b[0m \u001b[1;33m!=\u001b[0m \u001b[1;36m0\u001b[0m\u001b[1;33m:\u001b[0m\u001b[1;33m\u001b[0m\u001b[0m\n\u001b[0;32m    293\u001b[0m         raise PatsyError(\"encountered outcome variables for a model \"\n",
      "\u001b[1;32mC:\\Users\\emanuele.rusina\\AppData\\Local\\Continuum\\Anaconda2\\lib\\site-packages\\patsy\\highlevel.pyc\u001b[0m in \u001b[0;36m_do_highlevel_design\u001b[1;34m(formula_like, data, eval_env, NA_action, return_type)\u001b[0m\n\u001b[0;32m    167\u001b[0m         return build_design_matrices(design_infos, data,\n\u001b[0;32m    168\u001b[0m                                      \u001b[0mNA_action\u001b[0m\u001b[1;33m=\u001b[0m\u001b[0mNA_action\u001b[0m\u001b[1;33m,\u001b[0m\u001b[1;33m\u001b[0m\u001b[0m\n\u001b[1;32m--> 169\u001b[1;33m                                      return_type=return_type)\n\u001b[0m\u001b[0;32m    170\u001b[0m     \u001b[1;32melse\u001b[0m\u001b[1;33m:\u001b[0m\u001b[1;33m\u001b[0m\u001b[0m\n\u001b[0;32m    171\u001b[0m         \u001b[1;31m# No builders, but maybe we can still get matrices\u001b[0m\u001b[1;33m\u001b[0m\u001b[1;33m\u001b[0m\u001b[0m\n",
      "\u001b[1;32mC:\\Users\\emanuele.rusina\\AppData\\Local\\Continuum\\Anaconda2\\lib\\site-packages\\patsy\\build.pyc\u001b[0m in \u001b[0;36mbuild_design_matrices\u001b[1;34m(design_infos, data, NA_action, return_type, dtype)\u001b[0m\n\u001b[0;32m    891\u001b[0m                 \u001b[0mname\u001b[0m \u001b[1;33m=\u001b[0m \u001b[0mfactor_info\u001b[0m\u001b[1;33m.\u001b[0m\u001b[0mfactor\u001b[0m\u001b[1;33m.\u001b[0m\u001b[0mname\u001b[0m\u001b[1;33m(\u001b[0m\u001b[1;33m)\u001b[0m\u001b[1;33m\u001b[0m\u001b[0m\n\u001b[0;32m    892\u001b[0m                 \u001b[0morigin\u001b[0m \u001b[1;33m=\u001b[0m \u001b[0mfactor_info\u001b[0m\u001b[1;33m.\u001b[0m\u001b[0mfactor\u001b[0m\u001b[1;33m.\u001b[0m\u001b[0morigin\u001b[0m\u001b[1;33m\u001b[0m\u001b[0m\n\u001b[1;32m--> 893\u001b[1;33m                 \u001b[0mrows_checker\u001b[0m\u001b[1;33m.\u001b[0m\u001b[0mcheck\u001b[0m\u001b[1;33m(\u001b[0m\u001b[0mvalue\u001b[0m\u001b[1;33m.\u001b[0m\u001b[0mshape\u001b[0m\u001b[1;33m[\u001b[0m\u001b[1;36m0\u001b[0m\u001b[1;33m]\u001b[0m\u001b[1;33m,\u001b[0m \u001b[0mname\u001b[0m\u001b[1;33m,\u001b[0m \u001b[0morigin\u001b[0m\u001b[1;33m)\u001b[0m\u001b[1;33m\u001b[0m\u001b[0m\n\u001b[0m\u001b[0;32m    894\u001b[0m                 if (have_pandas\n\u001b[0;32m    895\u001b[0m                     and isinstance(value, (pandas.Series, pandas.DataFrame))):\n",
      "\u001b[1;32mC:\\Users\\emanuele.rusina\\AppData\\Local\\Continuum\\Anaconda2\\lib\\site-packages\\patsy\\build.pyc\u001b[0m in \u001b[0;36mcheck\u001b[1;34m(self, seen_value, desc, origin)\u001b[0m\n\u001b[0;32m    793\u001b[0m                 \u001b[1;31m# XX FIXME: this is a case where having discontiguous Origins\u001b[0m\u001b[1;33m\u001b[0m\u001b[1;33m\u001b[0m\u001b[0m\n\u001b[0;32m    794\u001b[0m                 \u001b[1;31m# would be useful...\u001b[0m\u001b[1;33m\u001b[0m\u001b[1;33m\u001b[0m\u001b[0m\n\u001b[1;32m--> 795\u001b[1;33m                 \u001b[1;32mraise\u001b[0m \u001b[0mPatsyError\u001b[0m\u001b[1;33m(\u001b[0m\u001b[0mmsg\u001b[0m\u001b[1;33m,\u001b[0m \u001b[0morigin\u001b[0m\u001b[1;33m)\u001b[0m\u001b[1;33m\u001b[0m\u001b[0m\n\u001b[0m\u001b[0;32m    796\u001b[0m \u001b[1;33m\u001b[0m\u001b[0m\n\u001b[0;32m    797\u001b[0m def build_design_matrices(design_infos, data,\n",
      "\u001b[1;31mPatsyError\u001b[0m: Number of rows mismatch between data argument and X (1 versus 56)\n    y ~ X\n        ^"
=======
   "execution_count": 46,
   "metadata": {},
   "outputs": [
    {
     "name": "stdout",
     "output_type": "stream",
     "text": [
      "[ 0.08591731]\n"
>>>>>>> master
     ]
    }
   ],
   "source": [
    "# prediction at 0?\n",
    "print lm.predict([[0]])"
   ]
  },
  {
   "cell_type": "code",
<<<<<<< HEAD
   "execution_count": 32,
=======
   "execution_count": 47,
>>>>>>> master
   "metadata": {},
   "outputs": [
    {
     "name": "stdout",
     "output_type": "stream",
     "text": [
      "P Values: [  9.15540205e-26]\n",
      "Coefficients: [ 0.00098291]\n",
      "y-intercept: 0.0\n",
      "R-Squared: 0.864418807451\n",
      "[ 0.]\n"
     ]
    },
    {
     "data": {
<<<<<<< HEAD
      "image/png": "iVBORw0KGgoAAAANSUhEUgAAAWsAAAD0CAYAAABdAQdaAAAABHNCSVQICAgIfAhkiAAAAAlwSFlz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\nAGINAAYQawAwgFgDgAH/A8yHBNwvHqOpAAAAAElFTkSuQmCC\n",
      "text/plain": [
       "<matplotlib.figure.Figure at 0xfd75860>"
=======
      "image/png": "iVBORw0KGgoAAAANSUhEUgAAAXUAAAECCAYAAAAB2kexAAAABHNCSVQICAgIfAhkiAAAAAlwSFlz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\ngg==\n",
      "text/plain": [
       "<matplotlib.figure.Figure at 0x10c80bad0>"
>>>>>>> master
      ]
     },
     "metadata": {},
     "output_type": "display_data"
    }
   ],
   "source": [
    "lm = linear_model.LinearRegression(fit_intercept=False)\n",
    "lm = get_linear_model_metrics(X, y, lm)\n",
    "# prediction at 0?\n",
    "print lm.predict([[0]])"
   ]
  },
  {
   "cell_type": "markdown",
   "metadata": {},
   "source": [
    "## Intrepretation?\n"
   ]
  },
  {
   "cell_type": "markdown",
   "metadata": {},
   "source": [
    "Answer:"
   ]
  },
  {
   "cell_type": "markdown",
   "metadata": {},
   "source": [
    "## Guided Practice: Using the LinearRegression object (15 mins)\n",
    "\n",
    "We learned earlier that the data in its current state does not allow for the best linear regression fit. \n",
    "\n",
    "With a partner, generate two more models using the log-transformed data to see how this transform changes the model's performance. \n",
    "\n",
    "Complete the following code to update X and y to match the log-transformed data. \n",
    "\n",
    "Complete the loop by setting the list to be one True and one False."
   ]
  },
  {
   "cell_type": "code",
<<<<<<< HEAD
   "execution_count": 37,
   "metadata": {},
   "outputs": [
    {
     "name": "stdout",
     "output_type": "stream",
     "text": [
      "P Values: [  3.56282243e-33]\n",
      "Coefficients: [ 0.76516177]\n",
      "y-intercept: -2.07393164084\n",
      "R-Squared: 0.931851615367\n",
      "LinearRegression(copy_X=True, fit_intercept=True, n_jobs=1, normalize=False)\n"
     ]
    },
    {
     "data": {
      "image/png": "iVBORw0KGgoAAAANSUhEUgAAAWsAAAD0CAYAAABdAQdaAAAABHNCSVQICAgIfAhkiAAAAAlwSFlz\nAAALEgAACxIB0t1+/AAAElxJREFUeJzt3X9s1IX9x/FXe9ee9Ad8Uj2jkZ0DBkZjFhU1MQpmMlLc\nV43aYaGsijMhIOoUVByWStax4Rr8VVG2GsFVReskE1Brombg4i8UrFHxx1AxrUYRe5Fry/XHfb5/\nqCel5931wx3XNzwff+2un7u+uFye+dh9rs1zXdcVAGBYy8/1AABAasQaAAwg1gBgALEGAAOINQAY\nQKwBwAB/tp5416492XrqtJWUBBSJRHM9wxO254bV7VZ3S2zfXzBYmvD+Q/rM2u/35XqCZ2zPDavb\nre6W2J6uQzrWAHCoINYAYACxBgADiDUAGECsAcCAtGLd2tqq6upqSdLu3bs1b948zZo1SzNmzNBn\nn32W1YEAgDSus25sbNT69es1YsQISVJ9fb0uvPBC/eY3v9Grr76qjz/+WKFQKOtDAeBwlvLMOhQK\nqaGhIX5769at+vLLLzV79mxt2LBBZ555ZlYHAgDSOLMuLy9XW1tb/HZ7e7tGjhypNWvW6N5771Vj\nY6P+8Ic/DHpcSUkg5xe7+3z5cpyinG7waijbxy9pyfIabz6qm5brCUNm9T1jdbfE9nQN+ePmjuPo\nvPPOkySdd955uvPOOxMeNxw+Puo4RQqHu3I9wxPL239gcb/V193qbont+8vYx80nTpyoTZs2SZK2\nbNmiX/ziFwe2DACQ0pBjvWjRIj311FOaMWOGXnrpJc2dOzcbuwAA+0jrxyCjR49Wc3OzJOm4447T\n6tWrszoKADAQH4oBAAOINQAYQKwBwABiDQAGEGsAMIBYA4ABxBoADCDWAGAAsQYAA4g1ABhArAHA\nAGINAAYQawAwgFgDgAHEGgAMINYAYACxBgADiDUAGJBWrFtbW1VdXT3gvg0bNqiysjIrowAAA6X8\nG4yNjY1av369RowYEb/vvffe07/+9S+5rpvVcQCA76Q8sw6FQmpoaIjf7ujo0B133KHFixdndRgA\n4Ecpz6zLy8vV1tYmServ79ett96qP/7xjwoEAkkfV1ISkN/vy8xKj3y+fDlOUU43eGV5+w8s7rf6\nulvdLbE9XSljva93331XO3fu1NKlSxWNRvW///1Py5Yt06233jro2EgkmrGRXjlOkcLhrlzP8MTy\n9h9Y3G/1dbe6W2L7/oLB0oT3DynWv/zlL/X0009Lktra2rRgwYKEoQYAZBaX7gGAAWnFevTo0Wpu\nbk55HwAgOzizBgADiDUAGECsAcAAYg0ABhBrADCAWAOAAcQaAAwg1gBgALEGAAOINQAYQKwBwABi\nDQAGEGsAMIBYA4ABxBoADCDWAGAAsQYAA4g1ABiQVqxbW1tVXV0tSdq+fbuqqqpUXV2tq666Sl9/\n/XVWBwIA0oh1Y2OjampqFI1GJUnLli3TkiVL1NTUpKlTp6qxsTHrIwHgcJcy1qFQSA0NDfHbd9xx\nh0488URJUn9/vwKBQPbWAQAkSf5UB5SXl6utrS1+++ijj5Ykbd26VQ8//LAeeeSRhI8rKQnI7/dl\naKY3Pl++HKcoY883fklLxp7rcJDJ1/5gyfR75mCxultie7pSxjqRZ555Rvfff7/+8Y9/qKysLOEx\nkUj0gIZlguMUKRzuyvWMw5bF197qe8bqbont+wsGSxPeP+RYP/XUU3r88cfV1NQkx3EOeBgAILUh\nxbq/v1/Lli3Tscceq2uvvVaSdMYZZ+i6667LyjgAwHfSivXo0aPV3NwsSXr99dezOggAMBgfigEA\nA4g1ABhArAHAAGINAAYQawAwgFgDgAHEGgAMINYAYACxBgADiDUAGECsAcAAYg0ABhBrADCAWAOA\nAcQaAAwg1gBgALEGAAOINQAYkFasW1tbVV1dLUnauXOnZs6cqaqqKt12222KxWJZHQgASCPWjY2N\nqqmpUTQalST99a9/1fXXX69HH31UruvqhRdeyPpIADjcpYx1KBRSQ0ND/Pa7776rM888U5I0efJk\nvfzyy9lbBwCQlMZfNy8vL1dbW1v8tuu6ysvLkyQVFxdrz549CR9XUhKQ3+/L0ExvfL58OU5RTjcc\nziy+9lbfM1Z3S2xPV8pY7y8//8eT8c7OTo0cOTLhcZFI1PuqDHGcIoXDXbmecdiy+Npbfc9Y3S2x\nfX/BYGnC+4d8NchJJ52k1157TZK0efNmnX766Qe2DACQ0pBjvWjRIjU0NKiyslK9vb0qLy/Pxi4A\nwD7S+jHI6NGj1dzcLEkaM2aMHn744ayOAgAMxIdiAMAAYg0ABhBrADCAWAOAAcQaAAwg1gBgALEG\nAAOINQAYMOTfDQKk64wVm3M9IaEtCyfnegIwZJxZA4ABxBoADCDWAGAAsQYAA4g1ABhArAHAAGIN\nAAYQawAwgFgDgAGePsHY29urW265Re3t7crPz1ddXZ3GjRuX6W0AgO95OrPetGmT+vr69Nhjj2n+\n/Pm66667Mr0LALAPT7EeM2aM+vv7FYvFFIlE5PfzK0YAIJs8VbaoqEjt7e06//zz1dHRoVWrVg06\npqQkIL/fd8ADD4TPly/HKcrpBgw/yd4TVt8zVndLbE+Xp1ivWbNG55xzjhYuXKgvvvhCV1xxhTZs\n2KBAIBA/JhKJZmykV45TpHC4K9czMMwke09Yfc9Y3S2xfX/BYGnC+z3FeuTIkSooKJAkjRo1Sn19\nferv7/e+DgCQlKdYz549W4sXL1ZVVZV6e3t1ww03qKjI5n/GAIAFnmJdXFysu+++O9NbAAA/gQ/F\nAIABxBoADCDWAGAAsQYAA4g1ABhArAHAAGINAAYQawAwgFgDgAHEGgAMINYAYACxBgADiDUAGECs\nAcAAYg0ABhBrADCAWAOAAZ7+Uowk/f3vf9eLL76o3t5ezZw5U9OnT8/kLgDAPjzF+rXXXtO2bdu0\ndu1adXd368EHH8z0LgDAPjzF+r///a8mTJig+fPnKxKJ6Oabb870LgDAPjzFuqOjQ59//rlWrVql\ntrY2zZs3Ty0tLcrLy8v0PgCAPMbacRyNHTtWhYWFGjt2rAKBgL755hsdeeSR8WNKSgLy+32eRo1f\n0uLpcUA6zlixOdcTEvqobprnx/p8+XKcogyuOXjYnh5PsZ44caL++c9/6sorr9RXX32l7u5uOY4z\n4JhIJJqRgcDhIhzu8vxYxyk6oMfnEtsHCgZLE97vKda/+tWvtGXLFv32t7+V67qqra2Vz+ftLBoA\nkJrnS/f4PxUB4ODhQzEAYACxBgADiDUAGECsAcAAYg0ABhBrADCAWAOAAcQaAAwg1gBgALEGAAOI\nNQAYQKwBwABiDQAGEGsAMIBYA4ABxBoADCDWAGAAsQYAAw4o1rt379a5556rHTt2ZGoPACABz7Hu\n7e1VbW2tjjjiiEzuAQAk4DnWt99+u2bMmKGjjz46k3sAAAl4ivW6detUVlamSZMmZXoPACCBPNd1\n3aE+aNasWcrLy1NeXp62b9+un//857r//vsVDAbjx3R398jv93kaNX5Ji6fHAci8j+qmZfX5fb58\n9ffHsvo9siUb2wsKEnfT7+XJHnnkkfj/rq6u1tKlSweEWpIikaiXpwYwzITDXVl9fscpyvr3yJZs\nbA8GSxPez6V7AGCApzPrfTU1NWViBwAgCc6sAcAAYg0ABhBrADCAWAOAAcQaAAwg1gBgALEGAAOI\nNQAYQKwBwABiDQAGEGsAMIBYA4ABxBoADCDWAGAAsQYAA4g1ABhArAHAAGINAAZ4+rNevb29Wrx4\nsdrb29XT06N58+ZpypQpmd4GAPiep1ivX79ejuOovr5e4XBYF198MbEGgCzyFOtp06apvLxckuS6\nrnw+X0ZHAQAG8hTr4uJiSVIkEtF1112n66+/ftAxJSUB+f1EHLDOcYqy+vw+X76n7zF+SUsW1mTG\nR3XTMv6cnmItSV988YXmz5+vqqoqXXjhhYO+HolED2gYgOEhHO7K6vM7TlHWv8fBdiD/nmCwNOH9\nnmL99ddf6/e//71qa2t11llneR4FAEiPp0v3Vq1apW+//Vb33XefqqurVV1drb1792Z6GwDge57O\nrGtqalRTU5PpLQCAn8CHYgDAAGINAAYQawAwgFgDgAHEGgAMINYAYACxBgADiDUAGOD5d4MAODyc\nsWJzridAnFkDgAnEGgAMINYAYACxBgADiDUAGECsAcAAYg0ABhBrADCAWAOAAZ4+wRiLxbR06VJ9\n8MEHKiws1J///Gcdf/zxmd4GAPiepzPr559/Xj09PXr88ce1cOFCLV++PNO7AAD78BTrN998U5Mm\nTZIknXLKKXrnnXcyOgoAMJCnH4NEIhGVlJTEb/t8PvX19cnv//HpgsFSz6M+Xf5/nh8LAIciT2fW\nJSUl6uzsjN+OxWIDQg0AyCxPsT7ttNO0efN3vzbxrbfe0oQJEzI6CgAwUJ7ruu5QH/TD1SAffvih\nXNfVX/7yF40bNy4b+wAA8hjr4Wrv3r266aabtHv3bhUXF+v2229XWVnZoONisZjmzJmjKVOmaObM\nmTlYOlA6u9esWaOnn35aknTuuefqmmuuycXUuFSXb7744otauXKl/H6/KioqdNlll+Vw7UCptm/c\nuFEPPfSQfD6fJkyYoKVLlyo/f3h8JCHdy2aXLFmiUaNG6cYbb8zBysRSbX/77be1fPlyua6rYDCo\n+vp6BQKBHC7+Uart69ev1+rVq5Wfn6+KigpVVVVlfoR7CHnwwQfde+65x3Vd1924caNbV1eX8LgV\nK1a406dPdx999NGDOe8npdr92WefuZdcconb19fnxmIxt7Ky0t2+fXsupsY999xz7qJFi1zXdd1t\n27a5c+fOjX+tp6fH/fWvf+2Gw2E3Go26l156qbtr165cTR0k2fbu7m53ypQpbldXl+u6rnvDDTe4\nzz//fE52JpJs+w/Wrl3rXnbZZW59ff3BnpdUsu2xWMy96KKL3E8//dR1Xddtbm52d+zYkZOdiaR6\n3c8++2y3o6PDjUaj8fd+pg2P04UM2feSwsmTJ+uVV14ZdExLS4vy8vLixw0HqXYfc8wxeuCBB+Tz\n+ZSXl6e+vr6cn3Eku3xzx44dCoVCGjVqlAoLCzVx4kRt2bIlV1MHSba9sLBQjz32mEaMGCFJw+K1\n3leqy2a3bt2q1tZWVVZW5mJeUsm2f/LJJ3IcR2vWrNHvfvc7hcNhjR07NldTB0n1up9wwgnas2eP\nenp65Lqu8vLyMr7B7CUcTzzxhB566KEB9x155JEqLf3uksHi4mLt2bNnwNc//PBDbdy4Uffcc49W\nrlx50Lbuy8vugoIClZWVyXVd/e1vf9NJJ52kMWPGHLTNiSS7fDMSicT/PdJ3/6ZIJJKLmQkl256f\nn6+jjjpKktTU1KSuri6dffbZuZo6SLLtX331lVauXKl7771Xzz77bA5XJpZse0dHh7Zt26ba2lqF\nQiHNnTtXJ598ss4666wcLv5RqsuVx48fr4qKCo0YMUJTp07VyJEjM77BbKynT5+u6dOnD7jvmmuu\niV9S2NnZOegF+/e//60vv/xSV1xxhdrb21VQUKDjjjtOkydPHta7JSkajWrx4sUqLi7WbbfddlC2\nJpPs8s39v9bZ2Tkg3rmW6tLTWCym+vp6ffLJJ2poaMjKWZJXyba3tLSoo6NDc+bM0a5du7R3716N\nHTtWl156aa7mDpBsu+M4Ov744+MXKkyaNEnvvPPOsIl1su3vv/++/vOf/+iFF15QUVGRbrrpJj37\n7LM6//zzM7rhkPoxyGmnnaZNmzZJkjZv3qyJEycO+PrNN9+sJ554Qk1NTbrkkks0e/bsgxrqn5Jq\nt+u6uvrqq3XCCSfoT3/6k3w+Xy5mDpDs8s1x48Zp586dCofD6unp0RtvvKFTTz01V1MHSXXpaW1t\nraLRqO677774j0OGi2TbL7/8cq1bt05NTU2aM2eOLrjggmETain59p/97Gfq7OzUzp07JUlvvPGG\nxo8fn5OdiSTbXlpaqiOOOEKBQEA+n09lZWX69ttvM77hkLoapLu7W4sWLdKuXbtUUFCgFStWKBgM\navXq1QqFQpoyZUr82IaGBh111FHD4mqQVLtjsZgWLFigU045Jf6YBQsW5DSAiS7ffO+999TV1aXK\nysr41SCu66qiokKzZs3K2db9Jdt+8sknq6KiQqeffnr8jPryyy/X1KlTc7z6O6le9x+sW7dOH3/8\n8bC8GuSntr/yyitasWKFXNfVqaeeqpqamlxPjku1fe3atXryySdVUFCgUCikuro6FRYWZnTDIRVr\nADhUHVI/BgGAQxWxBgADiDUAGECsAcAAYg0ABhBrADCAWAOAAcQaAAz4f81x7wtKY2mpAAAAAElF\nTkSuQmCC\n",
      "text/plain": [
       "<matplotlib.figure.Figure at 0xfdf33c8>"
      ]
     },
     "metadata": {},
     "output_type": "display_data"
    }
   ],
   "source": [
    "#starter\n",
    "X = log_mammals[['bodywt']]\n",
    "y = log_mammals['brainwt']\n",
    "loop = []\n",
    "#for boolean in loop:\n",
    "# print 'y-intercept:', boolean\n",
    "lm = linear_model.LinearRegression()\n",
    "print get_linear_model_metrics(X, y, lm)"
=======
   "execution_count": null,
   "metadata": {
    "collapsed": true
   },
   "outputs": [],
   "source": [
    "#starter\n",
    "X =\n",
    "y =\n",
    "loop = []\n",
    "for boolean in loop:\n",
    "    print 'y-intercept:', boolean\n",
    "    lm = linear_model.LinearRegression(fit_intercept=boolean)\n",
    "    get_linear_model_metrics(X, y, lm)\n",
    "    print"
>>>>>>> master
   ]
  },
  {
   "cell_type": "markdown",
   "metadata": {},
   "source": [
    "### Which model performed the best? The worst? Why?\n"
   ]
  },
  {
   "cell_type": "markdown",
   "metadata": {},
   "source": [
<<<<<<< HEAD
    "Answer: Second (Higher R^2, intercept)"
=======
    "Answer: "
>>>>>>> master
   ]
  },
  {
   "cell_type": "markdown",
   "metadata": {},
   "source": [
    "### Advanced Methods! \n",
    "\n",
    "We will go over different estimators in detail in the future but check it out in the docs if you're curious (and finish a little early)"
   ]
  },
  {
   "cell_type": "code",
<<<<<<< HEAD
   "execution_count": 38,
=======
   "execution_count": 49,
>>>>>>> master
   "metadata": {},
   "outputs": [
    {
     "name": "stdout",
     "output_type": "stream",
     "text": [
      "Lasso(alpha=1.0, copy_X=True, fit_intercept=True, max_iter=1000,\n",
      "   normalize=False, positive=False, precompute=False, random_state=None,\n",
      "   selection='cyclic', tol=0.0001, warm_start=False)\n",
      "P Values: [  3.56282243e-33]\n",
      "Coefficients: [ 0.23454772]\n",
      "y-intercept: -1.85931606304\n",
      "R-Squared: 0.483728109403\n",
      "\n",
      "Ridge(alpha=1.0, copy_X=True, fit_intercept=True, max_iter=None,\n",
<<<<<<< HEAD
      "   normalize=False, random_state=None, solver='auto', tol=0.001)\n",
=======
      "   normalize=False, solver='auto', tol=0.001)\n",
>>>>>>> master
      "P Values: [  3.56282243e-33]\n",
      "Coefficients: [ 0.75797972]\n",
      "y-intercept: -2.07102674342\n",
      "R-Squared: 0.931769516561\n",
      "\n",
      "ElasticNet(alpha=1.0, copy_X=True, fit_intercept=True, l1_ratio=0.5,\n",
      "      max_iter=1000, normalize=False, positive=False, precompute=False,\n",
      "      random_state=None, selection='cyclic', tol=0.0001, warm_start=False)\n",
      "P Values: [  3.56282243e-33]\n",
      "Coefficients: [ 0.39504621]\n",
      "y-intercept: -1.9242323166\n",
      "R-Squared: 0.71382228495\n",
      "\n"
     ]
    },
    {
     "data": {
<<<<<<< HEAD
      "image/png": "iVBORw0KGgoAAAANSUhEUgAAAWsAAAD0CAYAAABdAQdaAAAABHNCSVQICAgIfAhkiAAAAAlwSFlz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\nYACxBgADiDUAGPBfORp8z5f+W8UAAAAASUVORK5CYII=\n",
      "text/plain": [
       "<matplotlib.figure.Figure at 0xfa188d0>"
=======
      "image/png": "iVBORw0KGgoAAAANSUhEUgAAAXQAAAECCAYAAADuGCyPAAAABHNCSVQICAgIfAhkiAAAAAlwSFlz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\nIf4PZCr4l3wYYBsAAAAASUVORK5CYII=\n",
      "text/plain": [
       "<matplotlib.figure.Figure at 0x10be991d0>"
>>>>>>> master
      ]
     },
     "metadata": {},
     "output_type": "display_data"
    },
    {
     "data": {
<<<<<<< HEAD
      "image/png": "iVBORw0KGgoAAAANSUhEUgAAAWsAAAD0CAYAAABdAQdaAAAABHNCSVQICAgIfAhkiAAAAAlwSFlz\nAAALEgAACxIB0t1+/AAAEndJREFUeJzt3X9s1PXhx/HX9dqe9Ad8Uj2zRXYKCGbGLCpqYhyYyUhx\nXzVixUJZlWwJgeGcwpQNSyXr2HAN/qCiaA1gqqJVyQScXaJm4DLncLAuKpsOFdPOMGS9yLXl+uPe\n3z/QWwvHXfvpfe7TNzwff3nXu8uLy+WZj+VzfALGGCMAwKiW5/cAAEBmxBoALECsAcACxBoALECs\nAcACxBoALJDv1QsfOnTEq5celpKSkGKxuN8zho3duWfrdnbnnpfbw+HSlPef8kfW+flBvye4wu7c\ns3U7u3PPj+2nfKwB4FRArAHAAsQaACxArAHAAsQaACxArAHAAsQaACxArAHAAp59gxG5c/naXX5P\nSGn3sul+TwBOGRxZA4AFiDUAWIBYA4AFiDUAWIBYA4AFiDUAWIBYA4AFiDUAWGBIsW5tbVV1dbUk\n6fDhw1q8eLHmz5+vuXPn6tNPP/V0IABgCN9gbGxs1LZt2zRmzBhJUn19va6//np973vf05///Gd9\n9NFHikQing8FgNNZxiPrSCSihoaG5O09e/bo4MGDWrBggbZv364rrrjC04EAgCEcWZeXl6utrS15\nu729XWPHjtXmzZv1yCOPqLGxUT/5yU9OeF5JSWhUXBAzGMyT4xT5PWPYbN09kG37bX3P2Z17fmwf\n9j/k5DiOrrnmGknSNddcowcffDDl40bLJeYdp0jRaJffM4bN1t0D2bbf1vec3bnn5fZwuDTl/cM+\nG2Tq1KnauXOnJGn37t06//zzR7YMAJDRsGO9fPlyvfzyy5o7d67efPNNLVq0yItdAIABhvRrkPHj\nx6u5uVmSdM4552jTpk2ejgIADMaXYgDAAsQaACxArAHAAsQaACxArAHAAsQaACxArAHAAsQaACxA\nrAHAAsQaACxArAHAAsQaACxArAHAAsQaACxArAHAAsQaACxArAHAAkOKdWtrq6qrqwfdt337dlVW\nVnoyCgAwWMbLejU2Nmrbtm0aM2ZM8r73339fL774oowxno4DAByT8cg6EomooaEhebujo0MPPPCA\nVqxY4ekwAMD/ZDyyLi8vV1tbmySpv79f9957r37+858rFAqlfV5JSUj5+cHsrByBYDBPjlPk94xh\ns3X3QLbtt/U9Z3fu+bF9SFc3/8p7772nAwcOaNWqVYrH4/rXv/6l1atX69577z3hsbFYPGsjR8Jx\nihSNdvk9Y9hs3T2Qbfttfc/ZnXtebg+HS1PeP6xYf+tb39Irr7wiSWpra9PSpUtThhoAkF2cugcA\nFhhSrMePH6/m5uaM9wEAvMGRNQBYgFgDgAWINQBYgFgDgAWINQBYgFgDgAWINQBYgFgDgAWINQBY\ngFgDgAWINQBYgFgDgAWINQBYgFgDgAWINQBYgFgDgAWGFOvW1lZVV1dLkvbt26eqqipVV1frhz/8\noT7//HNPBwIAhhDrxsZG1dTUKB4/dgHc1atXa+XKlWpqatLMmTPV2Njo+UgAON1ljHUkElFDQ0Py\n9gMPPKBvfvObkqT+/n6FQiHv1gEAJA3h6ubl5eVqa2tL3j777LMlSXv27NHTTz+tZ555JuXzSkpC\nys8PZmmme8FgnhynKCuvNXllS1Ze53SRrfc9V7L5WckldueeH9szxjqV3/3ud3rsscf0xBNPqKys\nLOVjYrH4iIZli+MUKRrt8nvGacm2993Wzwq7c8/L7eFwacr7hx3rl19+Wc8//7yamprkOM6IhwEA\nMhtWrPv7+7V69Wp9/etf149//GNJ0uWXX6477rjDk3EAgGOGFOvx48erublZkvSXv/zF00EAgBPx\npRgAsACxBgALEGsAsACxBgALEGsAsACxBgALEGsAsACxBgALEGsAsACxBgALEGsAsACxBgALEGsA\nsACxBgALEGsAsACxBgALDCnWra2tqq6uliQdOHBA8+bNU1VVle677z4lEglPBwIAhhDrxsZG1dTU\nKB4/dgHcX//617rzzjv17LPPyhij119/3fORAHC6yxjrSCSihoaG5O333ntPV1xxhSRp+vTp+tOf\n/uTdOgCApCFcg7G8vFxtbW3J28YYBQIBSVJxcbGOHDmS8nklJSHl5wezNNO9YDBPjlPk94zTkm3v\nu62fFXbnnh/bh3V1c0nKy/vfwXhnZ6fGjh2b8nGxWNz9qixynCJFo11+zzgt2fa+2/pZYXfuebk9\nHC5Nef+wzwa58MIL9fbbb0uSdu3apcsuu2xkywAAGQ071suXL1dDQ4MqKyvV29ur8vJyL3YBAAYY\n0q9Bxo8fr+bmZknShAkT9PTTT3s6CgAwGF+KAQALEGsAsACxBgALEGsAsACxBgALEGsAsACxBgAL\nEGsAsACxBgALEGsAsACxBgALEGsAsACxBgALEGsAsACxBgALEGsAsACxBgALDPuCuZLU29urn/3s\nZ2pvb1deXp7q6uo0adKkbG8DAHzJ1ZH1zp071dfXp+eee05LlizRQw89lO1dAIABXMV6woQJ6u/v\nVyKRUCwWU36+qwN0AMAQuapsUVGR2tvbde2116qjo0MbNmw44TElJSHl5wdHPHCkgsE8OU6R3zNO\nS5ev3eX3hJQ+rJuV8n5bPyvszj0/truK9ebNm/Xtb39by5Yt02effabbbrtN27dvVygUSj4mFotn\nbeRIOE6RotEuv2dgFDnZ58HWzwq7c8/L7eFwacr7XcV67NixKigokCSNGzdOfX196u/vd78OAJCW\nq1gvWLBAK1asUFVVlXp7e3XXXXepqMjO/50BABu4inVxcbEefvjhbG8BAJwEX4oBAAsQawCwALEG\nAAsQawCwALEGAAsQawCwALEGAAsQawCwALEGAAsQawCwALEGAAsQawCwALEGAAsQawCwALEGAAsQ\nawCwgOvLkj/++ON644031Nvbq3nz5mnOnDnZ3AUAGMBVrN9++23t3btXW7ZsUXd3tzZu3JjtXQCA\nAVzF+o9//KOmTJmiJUuWKBaL6Z577sn2LgDAAAFjjBnuk2pqavTvf/9bGzZsUFtbmxYvXqyWlhYF\nAoHkY7q7e5SfH3Q1avLKFlfPA2z2Yd0sV88LBvPU35/I8hrv2bpb8nZ7QUHqbro6snYcRxMnTlRh\nYaEmTpyoUCik//73vzrzzDOTj4nF4u6WAqepaLTL1fMcp8j1c/1k627J2+3hcGnK+12dDTJ16lS9\n+eabMsbo4MGD6u7uluM4IxoIADg5V0fW3/nOd7R7927dfPPNMsaotrZWwaC7X3kAADJzfeoef6kI\nALnDl2IAwALEGgAsQKwBwALEGgAsQKwBwALEGgAsQKwBwAKuz7MGkF2Xr93l94SUdi+b7vcEiCNr\nALACsQYACxBrALAAsQYACxBrALAAsQYACxBrALAAsQYAC4wo1ocPH9bVV1+t/fv3Z2sPACAF17Hu\n7e1VbW2tzjjjjGzuAQCk4DrW999/v+bOnauzzz47m3sAACm4ivXWrVtVVlamadOmZXsPACCFgDHG\nDPdJ8+fPVyAQUCAQ0L59+3TeeefpscceUzgcTj6mu7tH+fnurng+eWWLq+cByL4P62Z58rrBYJ76\n+xOevLbXvNxeUJC6m67+1b1nnnkm+d/V1dVatWrVoFBLUiwWd/PSAEaZaLTLk9d1nCLPXttrXm4P\nh0tT3s+pewBggRH/e9ZNTU3Z2AEASIMjawCwALEGAAsQawCwALEGAAsQawCwALEGAAsQawCwALEG\nAAsQawCwALEGAAsQawCwALEGAAsQawCwALEGAAsQawCwALEGAAsQawCwgKsrxfT29mrFihVqb29X\nT0+PFi9erBkzZmR7GwDgS65ivW3bNjmOo/r6ekWjUd14443EGgA85CrWs2bNUnl5uSTJGKNgMPWl\n0wEA2eEq1sXFxZKkWCymO+64Q3feeecJjykpCSk/n4gDtnOcIk9eNxjMG9FrT17ZksU12fVh3ays\nv6brq5t/9tlnWrJkiaqqqnT99def8PNYLD6iYQBGh2i0y5PXdZwiz17bbyP5c4XDpSnvdxXrzz//\nXD/4wQ9UW1urK6+80vUoAMDQuDp1b8OGDfriiy/06KOPqrq6WtXV1Tp69Gi2twEAvuTqyLqmpkY1\nNTXZ3gIAOAm+FAMAFiDWAGABYg0AFiDWAGABYg0AFiDWAGABYg0AFiDWAGABYg0AFiDWAGABYg0A\nFiDWAGABYg0AFiDWAGABYg0AFiDWAGABVxcfSCQSWrVqlf75z3+qsLBQv/zlL3XuuedmexsA4Euu\njqxfe+019fT06Pnnn9eyZcu0Zs2abO8CAAzgKtZ//etfNW3aNEnSxRdfrHfffTerowAAg7n6NUgs\nFlNJSUnydjAYVF9fn/Lz//dyJ7uc+lB8sub/XD8XgD3oxNC5OrIuKSlRZ2dn8nYikRgUagBAdrmK\n9aWXXqpdu3ZJkv72t79pypQpWR0FABgsYIwxw33SV2eDfPDBBzLG6Fe/+pUmTZrkxT4AgFzGerQ6\nevSo7r77bh0+fFjFxcW6//77VVZWdsLjEomEFi5cqBkzZmjevHk+LD3RULZv3rxZr7zyiiTp6quv\n1u233+7HVEmZT9984403tH79euXn56uiokK33HKLb1sHyrR7x44deuqppxQMBjVlyhStWrVKeXn+\nfx1hqKfLrly5UuPGjdNPf/pTH1amlmn73//+d61Zs0bGGIXDYdXX1ysUCvm4+JhMu7dt26ZNmzYp\nLy9PFRUVqqqq8naQOYVs3LjRrFu3zhhjzI4dO0xdXV3Kx61du9bMmTPHPPvss7mcl1am7Z9++qmZ\nPXu26evrM4lEwlRWVpp9+/b5MdUYY8zvf/97s3z5cmOMMXv37jWLFi1K/qynp8d897vfNdFo1MTj\ncXPTTTeZQ4cO+TV1kHS7u7u7zYwZM0xXV5cxxpi77rrLvPbaa77sPF663V/ZsmWLueWWW0x9fX2u\n56WVbnsikTA33HCD+eSTT4wxxjQ3N5v9+/f7svN4md7zq666ynR0dJh4PJ78vHvJ/0OGLBp4SuH0\n6dP11ltvnfCYlpYWBQKB5ONGi0zbv/a1r+nJJ59UMBhUIBBQX1+fr0cf6U7f3L9/vyKRiMaNG6fC\nwkJNnTpVu3fv9mvqIOl2FxYW6rnnntOYMWMkyff3eKBMp8vu2bNHra2tqqys9GNeWum2f/zxx3Ic\nR5s3b9b3v/99RaNRTZw40a+pg2R6zy+44AIdOXJEPT09MsYoEAh4usfaUzheeOEFPfXUU4PuO/PM\nM1VaeuxUoOLiYh05cmTQzz/44APt2LFD69at0/r163O29XhuthcUFKisrEzGGP3mN7/RhRdeqAkT\nJuRs8/HSnb4Zi8WSfxbp2J8nFov5MfME6Xbn5eXprLPOkiQ1NTWpq6tLV111lV9TB0m3+z//+Y/W\nr1+vRx55RK+++qqPK1NLt72jo0N79+5VbW2tIpGIFi1apIsuukhXXnmlj4uPyXSK8uTJk1VRUaEx\nY8Zo5syZGjt2rKd7rI31nDlzNGfOnEH33X777clTCjs7O094837729/q4MGDuu2229Te3q6CggKd\nc845mj59es52S+62S1I8HteKFStUXFys++67LydbTybd6ZvH/6yzs3NQvP2U6bTTRCKh+vp6ffzx\nx2poaPD8aGmo0u1uaWlRR0eHFi5cqEOHDuno0aOaOHGibrrpJr/mDpJuu+M4Ovfcc5MnKEybNk3v\nvvvuqIh1ut3/+Mc/9Ic//EGvv/66ioqKdPfdd+vVV1/Vtdde69meU+rXIJdeeql27twpSdq1a5em\nTp066Of33HOPXnjhBTU1NWn27NlasGBBzkN9Mpm2G2P0ox/9SBdccIF+8YtfKBgM+jEzKd3pm5Mm\nTdKBAwcUjUbV09Ojd955R5dccolfUwfJdNppbW2t4vG4Hn300eSvQ0aDdLtvvfVWbd26VU1NTVq4\ncKGuu+66URNqKf32b3zjG+rs7NSBAwckSe+8844mT57sy87jpdtdWlqqM844Q6FQSMFgUGVlZfri\niy883XNKnQ3S3d2t5cuX69ChQyooKNDatWsVDoe1adMmRSIRzZgxI/nYhoYGnXXWWaPmbJBM2xOJ\nhJYuXaqLL744+ZylS5f6FsFUp2++//776urqUmVlZfJsEGOMKioqNH/+fF92Hi/d7osuukgVFRW6\n7LLLkkfUt956q2bOnOnz6szv91e2bt2qjz76aFSeDXKy7W+99ZbWrl0rY4wuueQS1dTU+D1ZUubd\nW7Zs0UsvvaSCggJFIhHV1dWpsLDQsz2nVKwB4FR1Sv0aBABOVcQaACxArAHAAsQaACxArAHAAsQa\nACxArAHAAsQaACzw/wv3AT6gaRD+AAAAAElFTkSuQmCC\n",
      "text/plain": [
       "<matplotlib.figure.Figure at 0xe0bb160>"
=======
      "image/png": "iVBORw0KGgoAAAANSUhEUgAAAXMAAAECCAYAAAAMxDf2AAAABHNCSVQICAgIfAhkiAAAAAlwSFlz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\n",
      "text/plain": [
       "<matplotlib.figure.Figure at 0x10d2e1050>"
>>>>>>> master
      ]
     },
     "metadata": {},
     "output_type": "display_data"
    },
    {
     "data": {
<<<<<<< HEAD
      "image/png": "iVBORw0KGgoAAAANSUhEUgAAAWsAAAD0CAYAAABdAQdaAAAABHNCSVQICAgIfAhkiAAAAAlwSFlz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\nYg0ABvwbAQLk8JPwxJkAAAAASUVORK5CYII=\n",
      "text/plain": [
       "<matplotlib.figure.Figure at 0xf0a3198>"
=======
      "image/png": "iVBORw0KGgoAAAANSUhEUgAAAXMAAAECCAYAAAAMxDf2AAAABHNCSVQICAgIfAhkiAAAAAlwSFlz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\nGqy7yFLCAAAAAElFTkSuQmCC\n",
      "text/plain": [
       "<matplotlib.figure.Figure at 0x10d338950>"
>>>>>>> master
      ]
     },
     "metadata": {},
     "output_type": "display_data"
    }
   ],
   "source": [
    "# loading other sklearn regression estimators\n",
    "X = log_mammals[['bodywt']]\n",
    "y = log_mammals['brainwt']\n",
    "\n",
    "estimators = [\n",
    "    linear_model.Lasso(),\n",
    "    linear_model.Ridge(),\n",
    "    linear_model.ElasticNet(),\n",
    "]\n",
    "\n",
    "for est in estimators:\n",
    "    print est\n",
    "    get_linear_model_metrics(X, y, est)\n",
    "    print\n"
   ]
  },
  {
   "cell_type": "markdown",
   "metadata": {},
   "source": [
    "## Introduction: Multiple Regression Analysis using citi bike data (10 minutes)\n"
   ]
  },
  {
   "cell_type": "markdown",
   "metadata": {},
   "source": [
    "In the previous example, one variable explained the variance of another; however, more often than not, we will need multiple variables. \n",
    "\n",
    "For example, a house's price may be best measured by square feet, but a lot of other variables play a vital role: bedrooms, bathrooms, location, appliances, etc. \n",
    "\n",
    "For a linear regression, we want these variables to be largely independent of each other, but all of them should help explain the Y variable.\n",
    "\n",
    "We'll work with bikeshare data to showcase what this means and to explain a concept called multicollinearity."
   ]
  },
  {
   "cell_type": "code",
<<<<<<< HEAD
   "execution_count": 45,
=======
   "execution_count": 21,
>>>>>>> master
   "metadata": {},
   "outputs": [
    {
     "data": {
      "text/html": [
       "<div>\n",
       "<style>\n",
       "    .dataframe thead tr:only-child th {\n",
       "        text-align: right;\n",
       "    }\n",
       "\n",
       "    .dataframe thead th {\n",
       "        text-align: left;\n",
       "    }\n",
       "\n",
       "    .dataframe tbody tr th {\n",
       "        vertical-align: top;\n",
       "    }\n",
       "</style>\n",
       "<table border=\"1\" class=\"dataframe\">\n",
       "  <thead>\n",
       "    <tr style=\"text-align: right;\">\n",
       "      <th></th>\n",
       "      <th>instant</th>\n",
       "      <th>dteday</th>\n",
       "      <th>season</th>\n",
       "      <th>yr</th>\n",
       "      <th>mnth</th>\n",
       "      <th>hr</th>\n",
       "      <th>holiday</th>\n",
       "      <th>weekday</th>\n",
       "      <th>workingday</th>\n",
       "      <th>weathersit</th>\n",
       "      <th>temp</th>\n",
       "      <th>atemp</th>\n",
       "      <th>hum</th>\n",
       "      <th>windspeed</th>\n",
       "      <th>casual</th>\n",
       "      <th>registered</th>\n",
       "      <th>cnt</th>\n",
       "    </tr>\n",
       "  </thead>\n",
       "  <tbody>\n",
       "    <tr>\n",
       "      <th>0</th>\n",
       "      <td>1</td>\n",
       "      <td>2011-01-01</td>\n",
       "      <td>1</td>\n",
       "      <td>0</td>\n",
       "      <td>1</td>\n",
       "      <td>0</td>\n",
       "      <td>0</td>\n",
       "      <td>6</td>\n",
       "      <td>0</td>\n",
       "      <td>1</td>\n",
       "      <td>0.24</td>\n",
       "      <td>0.2879</td>\n",
       "      <td>0.81</td>\n",
       "      <td>0.0</td>\n",
       "      <td>3</td>\n",
       "      <td>13</td>\n",
       "      <td>16</td>\n",
       "    </tr>\n",
       "    <tr>\n",
       "      <th>1</th>\n",
       "      <td>2</td>\n",
       "      <td>2011-01-01</td>\n",
       "      <td>1</td>\n",
       "      <td>0</td>\n",
       "      <td>1</td>\n",
       "      <td>1</td>\n",
       "      <td>0</td>\n",
       "      <td>6</td>\n",
       "      <td>0</td>\n",
       "      <td>1</td>\n",
       "      <td>0.22</td>\n",
       "      <td>0.2727</td>\n",
       "      <td>0.80</td>\n",
       "      <td>0.0</td>\n",
       "      <td>8</td>\n",
       "      <td>32</td>\n",
       "      <td>40</td>\n",
       "    </tr>\n",
       "    <tr>\n",
       "      <th>2</th>\n",
       "      <td>3</td>\n",
       "      <td>2011-01-01</td>\n",
       "      <td>1</td>\n",
       "      <td>0</td>\n",
       "      <td>1</td>\n",
       "      <td>2</td>\n",
       "      <td>0</td>\n",
       "      <td>6</td>\n",
       "      <td>0</td>\n",
       "      <td>1</td>\n",
       "      <td>0.22</td>\n",
       "      <td>0.2727</td>\n",
       "      <td>0.80</td>\n",
       "      <td>0.0</td>\n",
       "      <td>5</td>\n",
       "      <td>27</td>\n",
       "      <td>32</td>\n",
       "    </tr>\n",
       "    <tr>\n",
       "      <th>3</th>\n",
       "      <td>4</td>\n",
       "      <td>2011-01-01</td>\n",
       "      <td>1</td>\n",
       "      <td>0</td>\n",
       "      <td>1</td>\n",
       "      <td>3</td>\n",
       "      <td>0</td>\n",
       "      <td>6</td>\n",
       "      <td>0</td>\n",
       "      <td>1</td>\n",
       "      <td>0.24</td>\n",
       "      <td>0.2879</td>\n",
       "      <td>0.75</td>\n",
       "      <td>0.0</td>\n",
       "      <td>3</td>\n",
       "      <td>10</td>\n",
       "      <td>13</td>\n",
       "    </tr>\n",
       "    <tr>\n",
       "      <th>4</th>\n",
       "      <td>5</td>\n",
       "      <td>2011-01-01</td>\n",
       "      <td>1</td>\n",
       "      <td>0</td>\n",
       "      <td>1</td>\n",
       "      <td>4</td>\n",
       "      <td>0</td>\n",
       "      <td>6</td>\n",
       "      <td>0</td>\n",
       "      <td>1</td>\n",
       "      <td>0.24</td>\n",
       "      <td>0.2879</td>\n",
       "      <td>0.75</td>\n",
       "      <td>0.0</td>\n",
       "      <td>0</td>\n",
       "      <td>1</td>\n",
       "      <td>1</td>\n",
       "    </tr>\n",
       "  </tbody>\n",
       "</table>\n",
       "</div>"
      ],
      "text/plain": [
       "   instant      dteday  season  yr  mnth  hr  holiday  weekday  workingday  \\\n",
       "0        1  2011-01-01       1   0     1   0        0        6           0   \n",
       "1        2  2011-01-01       1   0     1   1        0        6           0   \n",
       "2        3  2011-01-01       1   0     1   2        0        6           0   \n",
       "3        4  2011-01-01       1   0     1   3        0        6           0   \n",
       "4        5  2011-01-01       1   0     1   4        0        6           0   \n",
       "\n",
       "   weathersit  temp   atemp   hum  windspeed  casual  registered  cnt  \n",
       "0           1  0.24  0.2879  0.81        0.0       3          13   16  \n",
       "1           1  0.22  0.2727  0.80        0.0       8          32   40  \n",
       "2           1  0.22  0.2727  0.80        0.0       5          27   32  \n",
       "3           1  0.24  0.2879  0.75        0.0       3          10   13  \n",
       "4           1  0.24  0.2879  0.75        0.0       0           1    1  "
      ]
     },
<<<<<<< HEAD
     "execution_count": 45,
=======
     "execution_count": 21,
>>>>>>> master
     "metadata": {},
     "output_type": "execute_result"
    }
   ],
   "source": [
    "wd = '../dataset/bikeshare/'\n",
    "bike_data = pd.read_csv(wd+'bikeshare.csv')\n",
    "bike_data.head()"
   ]
  },
  {
   "cell_type": "markdown",
   "metadata": {},
   "source": [
    "### What is Multicollinearity?\n",
    "\n",
    "With the bike share data, let's compare three data points: actual temperature, \"feel\" temperature, and guest ridership. \n",
    "\n",
    "Our data is already normalized between 0 and 1, so we'll start off with the correlations and modeling."
   ]
  },
  {
   "cell_type": "code",
<<<<<<< HEAD
   "execution_count": 46,
   "metadata": {},
   "outputs": [
    {
     "name": "stdout",
     "output_type": "stream",
     "text": [
      "            temp     atemp    casual\n",
      "temp    1.000000  0.987672  0.459616\n",
      "atemp   0.987672  1.000000  0.454080\n",
      "casual  0.459616  0.454080  1.000000\n",
      "Axes(0.125,0.125;0.62x0.755)\n"
     ]
    },
    {
     "data": {
      "image/png": "iVBORw0KGgoAAAANSUhEUgAAAVMAAAD3CAYAAACgsbc4AAAABHNCSVQICAgIfAhkiAAAAAlwSFlz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\ngg==\n",
      "text/plain": [
       "<matplotlib.figure.Figure at 0xf9ed8d0>"
      ]
     },
     "metadata": {},
     "output_type": "display_data"
=======
   "execution_count": 14,
   "metadata": {},
   "outputs": [
    {
     "ename": "NameError",
     "evalue": "name 'bike_data' is not defined",
     "output_type": "error",
     "traceback": [
      "\u001b[1;31m\u001b[0m",
      "\u001b[1;31mNameError\u001b[0mTraceback (most recent call last)",
      "\u001b[1;32m<ipython-input-14-48f539156791>\u001b[0m in \u001b[0;36m<module>\u001b[1;34m()\u001b[0m\n\u001b[0;32m      1\u001b[0m \u001b[0mcmap\u001b[0m \u001b[1;33m=\u001b[0m \u001b[0msns\u001b[0m\u001b[1;33m.\u001b[0m\u001b[0mdiverging_palette\u001b[0m\u001b[1;33m(\u001b[0m\u001b[1;36m220\u001b[0m\u001b[1;33m,\u001b[0m \u001b[1;36m10\u001b[0m\u001b[1;33m,\u001b[0m \u001b[0mas_cmap\u001b[0m\u001b[1;33m=\u001b[0m\u001b[0mTrue\u001b[0m\u001b[1;33m)\u001b[0m\u001b[1;33m\u001b[0m\u001b[0m\n\u001b[0;32m      2\u001b[0m \u001b[1;33m\u001b[0m\u001b[0m\n\u001b[1;32m----> 3\u001b[1;33m \u001b[0mcorrelations\u001b[0m \u001b[1;33m=\u001b[0m \u001b[0mbike_data\u001b[0m\u001b[1;33m[\u001b[0m\u001b[1;33m[\u001b[0m\u001b[1;34m'temp'\u001b[0m\u001b[1;33m,\u001b[0m \u001b[1;34m'atemp'\u001b[0m\u001b[1;33m,\u001b[0m \u001b[1;34m'casual'\u001b[0m\u001b[1;33m]\u001b[0m\u001b[1;33m]\u001b[0m\u001b[1;33m.\u001b[0m\u001b[0mcorr\u001b[0m\u001b[1;33m(\u001b[0m\u001b[1;33m)\u001b[0m\u001b[1;33m\u001b[0m\u001b[0m\n\u001b[0m\u001b[0;32m      4\u001b[0m \u001b[1;32mprint\u001b[0m \u001b[0mcorrelations\u001b[0m\u001b[1;33m\u001b[0m\u001b[0m\n\u001b[0;32m      5\u001b[0m \u001b[1;32mprint\u001b[0m \u001b[0msns\u001b[0m\u001b[1;33m.\u001b[0m\u001b[0mheatmap\u001b[0m\u001b[1;33m(\u001b[0m\u001b[0mcorrelations\u001b[0m\u001b[1;33m,\u001b[0m \u001b[0mcmap\u001b[0m\u001b[1;33m=\u001b[0m\u001b[0mcmap\u001b[0m\u001b[1;33m)\u001b[0m\u001b[1;33m\u001b[0m\u001b[0m\n",
      "\u001b[1;31mNameError\u001b[0m: name 'bike_data' is not defined"
     ]
>>>>>>> master
    }
   ],
   "source": [
    "cmap = sns.diverging_palette(220, 10, as_cmap=True)\n",
    "\n",
    "correlations = bike_data[['temp', 'atemp', 'casual']].corr()\n",
    "print correlations\n",
    "print sns.heatmap(correlations, cmap=cmap)"
   ]
  },
  {
   "cell_type": "markdown",
   "metadata": {},
   "source": [
    "### What does the correlation matrix explain?"
   ]
  },
  {
   "cell_type": "markdown",
   "metadata": {},
   "source": [
    "Answer: "
   ]
  },
  {
   "cell_type": "markdown",
   "metadata": {},
   "source": [
    "## We can measure this effect in the coefficients:\n",
    "\n"
   ]
  },
  {
   "cell_type": "code",
<<<<<<< HEAD
   "execution_count": 50,
=======
   "execution_count": 80,
>>>>>>> master
   "metadata": {},
   "outputs": [
    {
     "name": "stdout",
     "output_type": "stream",
     "text": [
      "temp\n",
      "P Values: [ 0.]\n",
      "Coefficients: [ 117.68705779]\n",
      "y-intercept: -22.812739188\n",
      "R-Squared: 0.21124654163\n",
      "\n",
      "atemp\n",
      "P Values: [ 0.]\n",
      "Coefficients: [ 130.27875081]\n",
      "y-intercept: -26.3071675481\n",
      "R-Squared: 0.206188705733\n",
      "\n",
      "temp, atemp\n",
      "P Values: [ 0.  0.]\n",
      "Coefficients: [ 116.34021588    1.52795677]\n",
      "y-intercept: -22.8703398286\n",
      "R-Squared: 0.21124723661\n",
      "\n"
     ]
    },
    {
     "data": {
<<<<<<< HEAD
      "image/png": "iVBORw0KGgoAAAANSUhEUgAAAXcAAAD0CAYAAABgk2Y8AAAABHNCSVQICAgIfAhkiAAAAAlwSFlz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\nABjo/wClzXNqR+3PRwAAAABJRU5ErkJggg==\n",
      "text/plain": [
       "<matplotlib.figure.Figure at 0xfe7c198>"
=======
      "image/png": "iVBORw0KGgoAAAANSUhEUgAAAYAAAAECCAYAAAD3vwBsAAAABHNCSVQICAgIfAhkiAAAAAlwSFlz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\n/wfNl0g3Ge9pZAAAAABJRU5ErkJggg==\n",
      "text/plain": [
       "<matplotlib.figure.Figure at 0x10d19b7d0>"
>>>>>>> master
      ]
     },
     "metadata": {},
     "output_type": "display_data"
    },
    {
     "data": {
<<<<<<< HEAD
      "image/png": "iVBORw0KGgoAAAANSUhEUgAAAXEAAAD0CAYAAABtjRZ7AAAABHNCSVQICAgIfAhkiAAAAAlwSFlz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\n",
      "text/plain": [
       "<matplotlib.figure.Figure at 0x10875898>"
=======
      "image/png": "iVBORw0KGgoAAAANSUhEUgAAAYAAAAECCAYAAAD3vwBsAAAABHNCSVQICAgIfAhkiAAAAAlwSFlz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\nfUIAAAAASUVORK5CYII=\n",
      "text/plain": [
       "<matplotlib.figure.Figure at 0x10bcee610>"
>>>>>>> master
      ]
     },
     "metadata": {},
     "output_type": "display_data"
    },
    {
     "data": {
<<<<<<< HEAD
      "image/png": "iVBORw0KGgoAAAANSUhEUgAAAXcAAAD0CAYAAABgk2Y8AAAABHNCSVQICAgIfAhkiAAAAAlwSFlz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\nAABJRU5ErkJggg==\n",
      "text/plain": [
       "<matplotlib.figure.Figure at 0xf21c940>"
=======
      "image/png": "iVBORw0KGgoAAAANSUhEUgAAAYAAAAECCAYAAAD3vwBsAAAABHNCSVQICAgIfAhkiAAAAAlwSFlz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\nAUBEJCgGABGRoP4/E90zwgdLCNkAAAAASUVORK5CYII=\n",
      "text/plain": [
       "<matplotlib.figure.Figure at 0x10c915450>"
>>>>>>> master
      ]
     },
     "metadata": {},
     "output_type": "display_data"
    }
   ],
   "source": [
    "y = bike_data['casual']\n",
    "x_sets = (\n",
    "    ['temp'],\n",
    "    ['atemp'],\n",
    "    ['temp', 'atemp'],\n",
    ")\n",
    "\n",
    "for x in x_sets:\n",
    "    print ', '.join(x)\n",
    "    get_linear_model_metrics(bike_data[x], y, linear_model.LinearRegression())\n",
    "    print"
   ]
  },
  {
   "cell_type": "markdown",
   "metadata": {},
   "source": [
    "###  Intrepretation?"
   ]
  },
  {
   "cell_type": "markdown",
   "metadata": {},
   "source": [
    "Answer: "
   ]
  },
  {
   "cell_type": "markdown",
   "metadata": {},
   "source": [
    "### What happens if we use a second variable that isn't highly correlated with temperature, like humidity?\n"
   ]
  },
  {
   "cell_type": "code",
<<<<<<< HEAD
   "execution_count": 48,
=======
   "execution_count": 99,
>>>>>>> master
   "metadata": {},
   "outputs": [
    {
     "name": "stdout",
     "output_type": "stream",
     "text": [
      "P Values: [ 0.  0.]\n",
      "Coefficients: [ 112.02457031  -80.87301833]\n",
      "y-intercept: 30.7273338581\n",
      "R-Squared: 0.310901196913\n"
     ]
    },
    {
     "data": {
      "text/plain": [
       "LinearRegression(copy_X=True, fit_intercept=True, n_jobs=1, normalize=False)"
      ]
     },
<<<<<<< HEAD
     "execution_count": 48,
=======
     "execution_count": 99,
>>>>>>> master
     "metadata": {},
     "output_type": "execute_result"
    },
    {
     "data": {
<<<<<<< HEAD
      "image/png": "iVBORw0KGgoAAAANSUhEUgAAAXcAAAD1CAYAAACrz7WZAAAABHNCSVQICAgIfAhkiAAAAAlwSFlz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\nADAQ5Q4ABqLcAcBAlDsAGIhyBwAD/T+HXf2KyNhP/gAAAABJRU5ErkJggg==\n",
      "text/plain": [
       "<matplotlib.figure.Figure at 0xfa1e3c8>"
=======
      "image/png": "iVBORw0KGgoAAAANSUhEUgAAAYAAAAECCAYAAAD3vwBsAAAABHNCSVQICAgIfAhkiAAAAAlwSFlz\nAAALEgAACxIB0t1+/AAAG7xJREFUeJzt3W9wVOXd//HPhixK9k8gTtIqNwabifywGu5ZDSP+SXlQ\nNG0ZtWqkCZpO1QrpaNG0qZE/BrQaK2UYZ4hFq53W1FuStkx/9kkrUjUj6RgtJSIodnIXiIUCEsjs\nWSC7Yc/9IJ5lEwLZTfZfct6vJ8A5h+x3r+zuZ69zznVdDtM0TQEAbCcr3QUAANKDAAAAmyIAAMCm\nCAAAsCkCAABsigAAAJsaMQA6Ozt1zz33SJL27dunyspKLV68WKtXr5Z1B2lra6vuuOMOLVq0SG+/\n/bYk6dSpU3rooYe0ePFiPfDAA+rp6UneswAAxO28AfDLX/5SK1euVCgUkiQ1NjaqtrZWr776qkzT\n1NatW3XkyBE1Nzdr06ZNevnll7Vu3ToFg0G99tprmjVrll599VXddttt+sUvfpGSJwQAiM15A6Cw\nsFAbNmyIfNPfvXu3SktLJUllZWVqb2/Xzp075fP55HQ65Xa7VVhYqD179mj79u0qKyuTJN144436\n29/+luSnAgCIx3kD4KabbtKkSZMi/44eNOxyueT3+2UYhjwez6DthmHIMAy5XK5BxwIAMkdcF4Gz\nss4cbhiGvF6v3G63AoFAZHsgEJDH4xm0PRAIyOv1JqhkAEAixBUAs2fPVkdHhySpra1N11xzjUpK\nSvTBBx8oGAzK7/erq6tLl19+uXw+n9ra2gYdOxKmJQKA1MmO5SCHwyFJqq+v16pVqxQKhVRUVKTy\n8nI5HA5VV1erqqpK4XBYtbW1mjx5siorK/Xoo4+qqqpKkydP1rp162J6nCNHMutUUX6+h5pilIl1\nUVNsqCl2mVhXfr5n5IOG4ci02UAzsWGpKTaZWBc1xYaaYpeJdY02ABgIBgA2RQAAgE0RAABgUwQA\nANhUTHcBIXWCwaC6u/dJkmbMKNTkyZPTXBGAiYoeQIbp7t6nZWtf17K1r0eCAACSgR5ABsrJLUh3\nCQBsgB4AANgUAQAANkUAAIBNEQAAYFNcBM5Q4dP92r+f20EBJA89gAx1yjiqdS2d3A4KIGnoAWQw\nbgcFkEz0AADApggAALApAgAAbIoAAACbIgAAwKYIAACwKQIAAGyKAAAAm2IgWIaLnhJCGpgWAgAS\ngQDIcANTQvQoJ/egTvQe1nN1t2j69IvSXRaACYAAGAdycgvknjY93WUAmGAIgAxhLQYffboHAJKJ\nAMgQ1mLwJ/1HddF/zU53OQBsgADIIAOzf5rpLgOATRAA44h1R1Benlsu10UsEgNgTBgHMI5Yi8Tc\n89j/sEgMgDGjBzDOsEgMgEShBwAANkUAAIBNEQAAYFNcA0gja/CXpLgGgEXPDzRjRiF3AwEYFQIg\njazBXzm5BTr62ccxDwCz5geSOvVc3S0qKipObqEAJiQCIM2seX5O9B6K+/8BwFjEHQDhcFgrVqzQ\n3r17lZWVpSeffFKTJk1SfX29srKyVFxcrIaGBjkcDrW2tqqlpUXZ2dmqqanR/Pnzk/AUAACjEXcA\nvPvuuzp58qRee+01tbe3a/369erv71dtba1KS0vV0NCgrVu3as6cOWpubtbmzZvV19enyspKXXfd\ndZyvBoAMEfddQBdeeKH8fr9M05Tf75fT6dSuXbtUWloqSSorK1N7e7t27twpn88np9Mpt9utwsJC\n7dmzJ+FPAAAwOnH3AHw+n4LBoMrLy3X8+HFt3LhR77//fmS/y+WS3++XYRjyeDyDthuGkZiqAQBj\nFncAvPTSS/L5fHrkkUf0n//8R9XV1erv74/sNwxDXq9XbrdbgUAgsj0QCMjr9Y748/PzPSMek2qJ\nrikYDGrv3r3q7T0y5p+Vl+fOqDbLpFos1BQbaopdptYVr7gD4OTJk3K5XJIkr9er/v5+XXHFFero\n6NDcuXPV1tamefPmqaSkROvXr1cwGFRfX5+6urpUXDzy7YpHjvjjfxZJlJ/vSXhNXV3/TNjc/z09\nRsa0WTLaaqyoKTbUFLtMrGu0gRR3ANx333167LHHVFVVpf7+fv3oRz/SV7/6Va1atUqhUEhFRUUq\nLy+Xw+FQdXW1qqqqFA6HVVtbywXgKMz9DyDd4g4Ar9erpqams7Y3Nzefta2iokIVFRWjqwwAkFTM\nBQQANkUAAIBNEQAAYFMEAADYFAEAADbFbKDjGOsCABgLegDj2MC6AJ1atvb1yMIyABAregDjHOsC\nABgtegAAYFMEAADYFKeAUiB68fcZMwrTXA0ADCAAUsBa/D0cPq26Sl+6ywEASQRAyuTkFuhE7yGt\na+lMyDTQADBWBECKMQ00gEzBRWAAsCkCAABsigAAAJsiAADApggAALApAgAAbIoAAACbIgAAwKYI\nAACwKQIAAGyKAAAAmyIAAMCmCAAAsCkCAABsigAAAJsiAADApggAALApVgSbAMKn+7V//5lF5ydP\nnpzmigCMB/QAJoBTxlGta+nUsrWvq7t7X7rLATBO0AOYIAbWGgaA2NEDAACbIgAAwKZGdQrohRde\n0FtvvaVQKKS7775bPp9P9fX1ysrKUnFxsRoaGuRwONTa2qqWlhZlZ2erpqZG8+fPT3D5AIDRijsA\n3nvvPf3jH//Qpk2bdOLECb300kt64403VFtbq9LSUjU0NGjr1q2aM2eOmpubtXnzZvX19amyslLX\nXXcdd6gAQIaIOwC2bdumWbNm6Qc/+IEMw9BPfvIT/f73v1dpaakkqaysTNu2bVNWVpZ8Pp+cTqec\nTqcKCwu1Z88eXXXVVQl/EgCA+MUdAD09PTp48KBeeOEFdXd3a+nSpTJNM7Lf5XLJ7/fLMAx5PJ5B\n2w3DSEzVAIAxizsApk2bpqKiImVnZ+uyyy7TBRdcoMOHD0f2G4Yhr9crt9utQCAQ2R4IBOT1ehNT\nNQBgzOIOgKuvvlqvvPKKvve97+nQoUM6deqUrr32WnV0dGju3Llqa2vTvHnzVFJSovXr1ysYDKqv\nr09dXV0qLi4e8efn53tGPCbVxlrTsWPuBFUysrw8d1rbcCL+/pKBmmKTiTVJmVtXvOIOgPnz5+v9\n99/XnXfeqXA4rIaGBk2fPl2rVq1SKBRSUVGRysvL5XA4VF1draqqKoXDYdXW1sZ0AfjIEf+onkiy\n5Od7xlxTT0/qTn319Bhpa8NEtFWiUVNsqCl2mVjXaANpVLeB1tXVnbWtubn5rG0VFRWqqKgYzUMA\nAJKMgWAAYFPMBZQkwWAwMjGbNVMnAGQSAiBJurv3adna15WTW6Cjn32si/5rdrpLAoBBOAWURDm5\nBXJPm64pnrx0lwIAZyEAAMCmCAAAsCkCAABsigAAAJsiAADApggAALApAgAAbIoAAACbIgAAwKYI\nAACwKQIAAGyKAAAAm2I20ASzpoFmCmgAmY4ASDBrGuiT/qNMAQ0goxEASZCTWyDJTPnjhk/3D+p5\nzJhRGNM6zADsiQCYQE4ZR7WupUc5uQd1ovewnqu7RUVFxekuC0CGIgAmGGsRGgAYCXcBAYBNEQAA\nYFMEAADYFAEAADZFAACATREAAGBTBAAA2BQBAAA2RQAAgE0RAABgUwQAANgUAQAANkUAAIBNEQAA\nYFNMBz1BRS8Ow8IwAIZDDyBBgsGgurr+mTFrAQ8sDtOpZWtfV3d3ZtQEILOMugdw9OhR3X777fr1\nr3+trKws1dfXKysrS8XFxWpoaJDD4VBra6taWlqUnZ2tmpoazZ8/P4GlZ5ZMXAt4YGlKABjeqHoA\noVBIjz/+uKZMmSLTNNXY2Kja2lq9+uqrMk1TW7du1ZEjR9Tc3KxNmzbp5Zdf1rp16xQMBhNdf0bJ\nyS3QFE9eussAgJiMKgCeffZZVVZWKj8/X5K0e/dulZaWSpLKysrU3t6unTt3yufzyel0yu12q7Cw\nUHv27Elc5QCAMYk7ADZv3qy8vDzdcMMNkiTTNGWaZmS/y+WS3++XYRjyeDyDthuGkYCSAQCJEPc1\ngM2bN8vhcKi9vV2ffPKJ6uvrdezYsch+wzDk9XrldrsVCAQi2wOBgLxeb2KqBgCMWdwB8Nvf/jby\n93vuuUdr1qzRs88+q46ODs2dO1dtbW2aN2+eSkpKtH79egWDQfX19amrq0vFxcUj/vz8fM+Ix6Ra\nLDUdO+ZOQSWjk5fnTlm7jtffX6pRU2wysSYpc+uK15jHATgcDtXX12vVqlUKhUIqKipSeXm5HA6H\nqqurVVVVpXA4rNra2pjuRT9yxD/WkhIqP98TU009PZl5eit8ul87duxST4+R9PEAsbZVKlFTbKgp\ndplY12gDaUwB0NzcPOzfLRUVFaqoqBjLQ2CMBsYD9Ejq1HN1t6ioaOReGAB7YCSwDTAeAMBwCIAx\nCgaD6u7elzEjgAEgVgTAGGXiCGAAiAUBkAADp1jMEY9LJyaHAzAUk8HZBJPDARiKHoCNcDEYQDR6\nAABgUwQAANgUAQAANkUAAIBNEQAAYFMEAADYFAEAADZFAACATREAAGBTBAAA2BQBAAA2RQAAgE0R\nAABgUwQAANgUAQAANsV6AKNgrQMsibWAAYxbBMAoWOsA5+QW6OhnH7MWMIBxiVNAo5STWyD3tOma\n4slLdykAMCr0AGwmenF4iQXiATsjAGxmYHH4HuXkHtSJ3sN6ru4WFRUVp7ssAGlAANiQdfoKgL1x\nDQAAbIoAAACbIgAAwKa4BhAHawAYg78ATAQEQBysAWAn/UcZ/AVg3CMA4pSTWyDJTHcZADBmXAMA\nAJsiAADApggAALApAgAAbCrui8ChUEjLly/XgQMHFAwGVVNTo6KiItXX1ysrK0vFxcVqaGiQw+FQ\na2urWlpalJ2drZqaGs2fPz8JTwEAMBpxB8Cf/vQn5eXlae3atert7dWtt96q2bNnq7a2VqWlpWpo\naNDWrVs1Z84cNTc3a/Pmzerr61NlZaWuu+46Zp4EgAwRdwCUl5fr5ptvliSFw2FlZ2dr9+7dKi0t\nlSSVlZVp27ZtysrKks/nk9PplNPpVGFhofbs2aOrrroqsc8gBRgABmAiivsaQE5OjlwulwzD0LJl\ny/Twww8rHA5H9rtcLvn9fhmGIY/HM2i7YRiJqTrFrAFgP33pr+kuJaGstQG6uv6pYDCY7nIApNio\nBoIdPHhQDz74oBYvXqyFCxdq7dq1kX2GYcjr9crtdisQCES2BwIBeb3eEX92fr5nxGNSLS/PPSEH\ngFlrA0idam6s0vTpl4/5Z2bi74+aYkNNscvUuuIVdwB8/vnnuvfee9XQ0KBrr71WkjR79mx1dHRo\n7ty5amtr07x581RSUqL169crGAyqr69PXV1dKi4eeeGRI0f88T+LJMrP96inZ3z2XGIxEGxST48x\n5rbPz/dk5O+PmkZGTbHLxLpGG0hxB8DGjRvl9/vV1NSkpqYmSdKKFSv01FNPKRQKqaioSOXl5XI4\nHKqurlZVVZXC4bBqa2u5AAwAGSTuAFi5cqVWrlx51vbm5uaztlVUVKiiomJ0lQEAkoqBYABgUwQA\nANgUAXAewWBQn376Kff/A5iQWA/gPFgABsBERgCMYCLe/w8AEgEAnRkRLEkzZhRyuy5gE1wDwBcj\ngju1bO3r6u7megdgF/QAIOnMiGAA9kEPAABsigAAAJsiAADAprgGgLNYC+BYuDMImJgIAJzFGgCX\nk1ugE72H9VzdLSoqGnkqbwDjCwGAiOjxADm5BXJPm57migAkEwEwRPTpD7vNAWStEMbUF4A9EABf\niF74fV1Lp3JyC3T0s49t90HI1BeAfRAAXxg68Zt72nSd6D2U7rLSjmkigImLAIjCt9+zRS8cz8Vg\nYGIhADAipokAJiYGggGATREAAGBTnAJCTKyLwaFQSJLkdDq5KAyMcwQAYnJmjMBfNcVzkSRxURgY\n5wgAxMy6S2roRWFrDMWxY265XBfRKwDGCQIAoxI9PsAaPCfRKwDGE9sGgPWt1TqnffDggTRXNL5Y\np4Rycg/acsQ0MBHYNgCiR/5O8VzE/DejYE0YZ42YZtQwML7YNgCkoee0GQE8VowaBsYXWwcAEi8n\nt2DYW0atv1u4jRRIPwIACTf0llFrZlXrVNu5biONnoqbcACSzxYBwAdL6kWfXrOuE5zrNlKLdV1G\nOvfdRPwugcSxRQDE8sGC1DrXBeORJp4bze+S0ACGZ4sAkAafm5bst9pXprFOE4XD21VX6dOllxae\n9Ts51wd3dEjE8uHOFwBgeLYJAIl71zPNwKLzh75Yge3M78QKamuAWTh8+qyQON8x0RecDx1yaf/+\nfQmd0poeBSaKCR0A0cs8Wobeu470G/o7Gbo28XAhMdIx0RecrWOie4BD70qyDHd30tAPfHoUmCgm\nTABEv0mlwW9UBnmNP0PHZgwX3Oc7ZrgxHkN7gENDYornokE9CSsIrNeRte/MY48NPQmkW1IDIBwO\na/Xq1fr000/ldDr11FNP6dJLL03KY1lv0pzcAhnHDg55ozLICwPOFxLRp6SGXpuI3hfLF4qhU404\nnU5JAx/0wWBQXV3/PO8cSukMh+G+TBFOE1NSA+DNN99UKBTSpk2b1NnZqWeeeUbPP/980h4v+s0d\n6xsVGOpc1yasfcN9oRhubinrNWiNhbC+mOTm5ujxF/923lNT1v+XYg+HRH1wR3+ZOtF7mNNcE1hS\nA2D79u268cYbJUlz5szRRx99lPDHGO48v8Q3f4zdSNeLhpsR9ey5pczzfDE5/6mp6HCI7kkMvfB9\n8cWXSDoTGtFhY+0bKnp0ttPpVG7ulYPeS1bNzO80sSU1AAzDkNvtjvx70qRJCofDysoa+0qU0S9W\nvu0jHYa/q+z8c0uda99wp6aiH2PoqOroC9/WPus9MDhs/jrstY7o0dnh8Gn9dOkR9faeOOu9NPR2\n3aGBMjRIZswolKRBvaHhjj2X6GMOHXLp2LHAoH0jXaCPdd9YjplIkhoAbrdbgcCZX+BoPvx//Oij\nOt7bqytm/T/desu3Itv379+nn/5yi/oCxzX14sslSSd6D0uSTvp7JDnO+edEPSZT6xqPx8R6rDWt\nhfX6S0Zd0Y8x9LGG7ot+Dwz3/4bTFziuup///3O+l6Z4LlJf4Hjk/XaBa2rkzwvdeeo99L+6wDVV\nkrTy+wskacRjh+6L5Rjr51966ZkPYetzIN59Yznmv//7q+rpMSRp3J8ac5immbTzJG+88Ybeeust\nNTY2aseOHXr++ef14osvJuvhAABxSGoAmKap1atXa8+ePZKkxsZGXXbZZcl6OABAHJIaAACAzDX2\nq7EAgHGJAAAAmyIAAMCmCAAAsKm0Tga3ZcsW/fnPf9a6deskSTt27NDTTz+tSZMm6frrr9eDDz4o\nSdqwYYPeeecdTZo0ScuXL1dJSUlS6zJNU2VlZZo5c6Ykyefz6ZFHHjlnfamSyrmVRvLtb387Mshv\nxowZWrJkierr65WVlaXi4mI1NDTI4XCkpJbOzk79/Oc/V3Nzs/bt2zdsHa2trWppaVF2drZqamo0\nf/78lNW0e/duLV26VIWFA/eYV1VV6Rvf+EZKawqFQlq+fLkOHDigYDCompoaFRUVpbWthqvpy1/+\nspYsWRJ576WjrU6fPq2VK1dq7969cjgcWrNmjSZPnpzWthquplAoNPa2MtPkySefNMvLy83a2trI\ntltvvdXcv3+/aZqm+f3vf9/cvXu3+dFHH5nV1dWmaZrmgQMHzDvuuCPpte3du9dcsmTJWduHqy+V\n/vKXv5j19fWmaZrmjh07zJqampQ+vuXUqVPmbbfdNmjbkiVLzI6ODtM0TfPxxx83t2zZkpJaXnzx\nRXPhwoXmokWLzlnH4cOHzYULF5rBYND0+/3mwoULzb6+vpTV1Nraav7qV78adEyqa/rDH/5gPv30\n06Zpmubx48fNr33ta+bSpUvT2lbD1ZQJbbVlyxZz+fLlpmma5nvvvWcuXbo07W01tKaampqEtFXa\nTgH5fD6tXr1a5hd3oRqGoWAwqBkzZkiSbrjhBrW3t2v79u26/vrrJUkXX3yxTp8+rWPHjiW1tl27\ndunw4cOqrq7WAw88oH/961/nrC+VUjG3Uiw++eQTnTx5Uvfdd5+++93vaseOHdq9e7dKS0slSWVl\nZSlrm8LCQm3YsCHyOhqujp07d8rn88npdMrtdquwsDAyNiUVNX300Ud6++23dffdd2vFihUKBAL6\n8MMPU1pTeXm5fvjDH0oa6ElmZ2enva2Gq2nXrl1pb6uvf/3reuKJJyRJ//73v5Wbm6tdu3alta2G\n1uT1ehPSVkk/BfS73/1Or7zyyqBtjY2N+uY3v6n33nsvsm3ovEEul0vd3d264IILNHXq1EHbDcPQ\ntGnTklZfQ0ODlixZoptvvll///vfVVdXp6ampmHrS6Vkzq0UjylTpui+++5TRUWF9u7dq/vvv3/Q\n/pycHPn9/pTUctNNN+mzzz6L/NuMGtbicrnk9/tlGIY8Hs+g7YZhpKymOXPmaNGiRbriiiu0ceNG\nbdiwQbNnz05pTTk5OZIGXkPLli3Tww8/rJ/97GeDHj/VbTW0pkceeUR9fX2666670tpW0sB7q76+\nXm+++aaee+45bdu2bdDjp+N1NbSmQ4cOjbmtkh4AFRUVqqioGPG4ofMGGYYhr9crp9M5aHsgEBj0\nBJNR36lTpzRp0iRJ0tVXX63Dhw/L5XINW18qJWJupUSYOXNm5Hz2zJkzNXXqVH388ceR/YFAIOVt\nY4luD+t3NLTdUl3fggULIq/ZBQsW6Mknn1RpaWnKazp48KAefPBBLV68WAsXLtTatWsj+9LVVtE1\nfetb35Lf78+ItpKkZ555Rp9//rkqKioUDAYj29P5urJquuuuu/Taa6/pS1/6kqTRt1XG3AXkdrvl\ndDrV3d0t0zS1bds2XXPNNfL5fHr33XdlmqYOHDigcDg8qEeQDE1NTfrNb34jaeB0xyWXXHLO+lLJ\n5/Opra1N0sAF81mzZqX08S2bN2/WM888I0k6dOiQAoGArr/+enV0dEiS2traUt42ltmzZ59VR0lJ\niT744AMFg0H5/X51dXWpuDh1k3jdf//9+vDDDyVJ7e3tuvLKK1Ne0+eff657771XdXV1uv322yWl\nv62GqykT2uqPf/yjXnjhBUnShRdeqKysLF155ZVpbauhNTkcDj300ENjbqu03gXkcDgG3SmyZs0a\n/fjHP9bp06d1ww03RO72ueaaa7Ro0SKFw2E1NDQkva4HHnhAdXV1euedd5Sdna3Gxsbz1pcqCxYs\n0LZt2/Sd73xHkiJ1pdqdd96pxx57TIsXL47UMXXqVK1atUqhUEhFRUUqLy9PaU3W66i+vv6sOhwO\nh6qrq1VVVaVwOKza2tqUzGtv1bRmzRqtWbNG2dnZKigo0BNPPCGXy5XSmjZu3Ci/36+mpiY1NTVJ\nklasWKGnnnoqbW01XE3Lly9XY2NjWtuqvLxc9fX1uvvuu9Xf368VK1boK1/5SlpfV8PVdMkll4z5\ndcVcQABgUxlzCggAkFoEAADYFAEAADZFAACATREAAGBTBAAA2BQBAAA2RQAAgE39H5KRtsHgEKn4\nAAAAAElFTkSuQmCC\n",
      "text/plain": [
       "<matplotlib.figure.Figure at 0x10df735d0>"
>>>>>>> master
      ]
     },
     "metadata": {},
     "output_type": "display_data"
    }
   ],
   "source": [
    "y = bike_data['casual']\n",
    "x = bike_data[['temp', 'hum']]\n",
    "get_linear_model_metrics(x, y, linear_model.LinearRegression())\n"
   ]
  },
  {
   "cell_type": "markdown",
   "metadata": {},
   "source": [
    "## Guided Practice: Multicollinearity with dummy variables (15 mins)\n",
    "\n"
   ]
  },
  {
   "cell_type": "markdown",
   "metadata": {},
   "source": [
    "There can be a similar effect from a feature set that is a singular matrix, which is when there is a clear relationship in the matrix (for example, the sum of all rows = 1).\n",
    "\n",
    "### Run through the following code on your own.\n",
    "#### What happens to the coefficients when you include all weather situations instead of just including all except one?"
   ]
  },
  {
   "cell_type": "code",
<<<<<<< HEAD
   "execution_count": 66,
=======
   "execution_count": 100,
>>>>>>> master
   "metadata": {},
   "outputs": [
    {
     "name": "stdout",
     "output_type": "stream",
     "text": [
      "P Values: [  3.75616929e-73   3.43170021e-22   1.57718666e-55   2.46181288e-01]\n",
<<<<<<< HEAD
      "Coefficients: [  5.33996323e+12   5.33996323e+12   5.33996323e+12   5.33996323e+12]\n",
      "y-intercept: -5.33996323254e+12\n",
      "R-Squared: 0.0233906300439\n",
      "\n",
      "P Values: [  3.75616929e-73   3.43170021e-22   1.57718666e-55]\n",
      "Coefficients: [ 37.87876398  26.92862383  13.38900634]\n",
      "y-intercept: 2.66666666667\n",
=======
      "Coefficients: [  4.05930101e+12   4.05930101e+12   4.05930101e+12   4.05930101e+12]\n",
      "y-intercept: -4.05930100616e+12\n",
      "R-Squared: 0.0233497737473\n",
      "\n",
      "P Values: [  3.75616929e-73   3.43170021e-22   1.57718666e-55]\n",
      "Coefficients: [ 37.87876398  26.92862383  13.38900634]\n",
      "y-intercept: 2.66666666652\n",
>>>>>>> master
      "R-Squared: 0.0233906873841\n"
     ]
    },
    {
     "data": {
      "text/plain": [
       "LinearRegression(copy_X=True, fit_intercept=True, n_jobs=1, normalize=False)"
      ]
     },
<<<<<<< HEAD
     "execution_count": 66,
=======
     "execution_count": 100,
>>>>>>> master
     "metadata": {},
     "output_type": "execute_result"
    },
    {
     "data": {
<<<<<<< HEAD
      "image/png": "iVBORw0KGgoAAAANSUhEUgAAAXcAAAD0CAYAAABgk2Y8AAAABHNCSVQICAgIfAhkiAAAAAlwSFlz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\n5S4iYkP/D32KD1IV7uZOAAAAAElFTkSuQmCC\n",
      "text/plain": [
       "<matplotlib.figure.Figure at 0xdab57f0>"
=======
      "image/png": "iVBORw0KGgoAAAANSUhEUgAAAYEAAAECCAYAAAAYfWtSAAAABHNCSVQICAgIfAhkiAAAAAlwSFlz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\nAIDBCAEAMBghAAAGIwQAwGCEAAAY7P8DNsWpue29OC8AAAAASUVORK5CYII=\n",
      "text/plain": [
       "<matplotlib.figure.Figure at 0x10e86cc50>"
>>>>>>> master
      ]
     },
     "metadata": {},
     "output_type": "display_data"
    },
    {
     "data": {
<<<<<<< HEAD
      "image/png": "iVBORw0KGgoAAAANSUhEUgAAAXcAAAD0CAYAAABgk2Y8AAAABHNCSVQICAgIfAhkiAAAAAlwSFlz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\nQ/8PXoEMQkQSX+MAAAAASUVORK5CYII=\n",
      "text/plain": [
       "<matplotlib.figure.Figure at 0xfd8ca20>"
=======
      "image/png": "iVBORw0KGgoAAAANSUhEUgAAAYEAAAECCAYAAAAYfWtSAAAABHNCSVQICAgIfAhkiAAAAAlwSFlz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\n",
      "text/plain": [
       "<matplotlib.figure.Figure at 0x10d829190>"
>>>>>>> master
      ]
     },
     "metadata": {},
     "output_type": "display_data"
    }
   ],
   "source": [
    "lm = linear_model.LinearRegression()\n",
    "weather = pd.get_dummies(bike_data.weathersit)\n",
<<<<<<< HEAD
    "?pd.get_dummies\n",
=======
    "\n",
>>>>>>> master
    "get_linear_model_metrics(weather[[1, 2, 3, 4]], y, lm)\n",
    "print\n",
    "# drop the least significant, weather situation  = 4\n",
    "get_linear_model_metrics(weather[[1, 2, 3]], y, lm)\n"
   ]
  },
  {
   "cell_type": "markdown",
   "metadata": {},
   "source": [
    "### Similar in Statsmodels"
   ]
  },
  {
   "cell_type": "code",
   "execution_count": 101,
   "metadata": {},
   "outputs": [
    {
     "data": {
      "text/html": [
       "<table class=\"simpletable\">\n",
       "<caption>OLS Regression Results</caption>\n",
       "<tr>\n",
       "  <th>Dep. Variable:</th>            <td>y</td>        <th>  R-squared:         </th> <td>   0.023</td> \n",
       "</tr>\n",
       "<tr>\n",
       "  <th>Model:</th>                   <td>OLS</td>       <th>  Adj. R-squared:    </th> <td>   0.023</td> \n",
       "</tr>\n",
       "<tr>\n",
       "  <th>Method:</th>             <td>Least Squares</td>  <th>  F-statistic:       </th> <td>   104.0</td> \n",
       "</tr>\n",
       "<tr>\n",
       "  <th>Date:</th>             <td>Thu, 04 Feb 2016</td> <th>  Prob (F-statistic):</th> <td>1.04e-87</td> \n",
       "</tr>\n",
       "<tr>\n",
       "  <th>Time:</th>                 <td>11:34:52</td>     <th>  Log-Likelihood:    </th> <td> -92197.</td> \n",
       "</tr>\n",
       "<tr>\n",
       "  <th>No. Observations:</th>      <td> 17379</td>      <th>  AIC:               </th> <td>1.844e+05</td>\n",
       "</tr>\n",
       "<tr>\n",
       "  <th>Df Residuals:</th>          <td> 17374</td>      <th>  BIC:               </th> <td>1.844e+05</td>\n",
       "</tr>\n",
       "<tr>\n",
       "  <th>Df Model:</th>              <td>     4</td>      <th>                     </th>     <td> </td>    \n",
       "</tr>\n",
       "<tr>\n",
       "  <th>Covariance Type:</th>      <td>nonrobust</td>    <th>                     </th>     <td> </td>    \n",
       "</tr>\n",
       "</table>\n",
       "<table class=\"simpletable\">\n",
       "<tr>\n",
       "              <td></td>                <th>coef</th>     <th>std err</th>      <th>t</th>      <th>P>|t|</th> <th>[95.0% Conf. Int.]</th> \n",
       "</tr>\n",
       "<tr>\n",
       "  <th>Intercept</th>                <td> 6.782e+11</td> <td> 1.08e+13</td> <td>    0.063</td> <td> 0.950</td> <td>-2.06e+13  2.19e+13</td>\n",
       "</tr>\n",
       "<tr>\n",
       "  <th>weather[[1, 2, 3, 4]][0]</th> <td>-6.782e+11</td> <td> 1.08e+13</td> <td>   -0.063</td> <td> 0.950</td> <td>-2.19e+13  2.06e+13</td>\n",
       "</tr>\n",
       "<tr>\n",
       "  <th>weather[[1, 2, 3, 4]][1]</th> <td>-6.782e+11</td> <td> 1.08e+13</td> <td>   -0.063</td> <td> 0.950</td> <td>-2.19e+13  2.06e+13</td>\n",
       "</tr>\n",
       "<tr>\n",
       "  <th>weather[[1, 2, 3, 4]][2]</th> <td>-6.782e+11</td> <td> 1.08e+13</td> <td>   -0.063</td> <td> 0.950</td> <td>-2.19e+13  2.06e+13</td>\n",
       "</tr>\n",
       "<tr>\n",
       "  <th>weather[[1, 2, 3, 4]][3]</th> <td>-6.782e+11</td> <td> 1.08e+13</td> <td>   -0.063</td> <td> 0.950</td> <td>-2.19e+13  2.06e+13</td>\n",
       "</tr>\n",
       "</table>\n",
       "<table class=\"simpletable\">\n",
       "<tr>\n",
       "  <th>Omnibus:</th>       <td>9002.161</td> <th>  Durbin-Watson:     </th> <td>   0.136</td> \n",
       "</tr>\n",
       "<tr>\n",
       "  <th>Prob(Omnibus):</th>  <td> 0.000</td>  <th>  Jarque-Bera (JB):  </th> <td>58970.408</td>\n",
       "</tr>\n",
       "<tr>\n",
       "  <th>Skew:</th>           <td> 2.469</td>  <th>  Prob(JB):          </th> <td>    0.00</td> \n",
       "</tr>\n",
       "<tr>\n",
       "  <th>Kurtosis:</th>       <td>10.554</td>  <th>  Cond. No.          </th> <td>8.15e+13</td> \n",
       "</tr>\n",
       "</table>"
      ],
      "text/plain": [
       "<class 'statsmodels.iolib.summary.Summary'>\n",
       "\"\"\"\n",
       "                            OLS Regression Results                            \n",
       "==============================================================================\n",
       "Dep. Variable:                      y   R-squared:                       0.023\n",
       "Model:                            OLS   Adj. R-squared:                  0.023\n",
       "Method:                 Least Squares   F-statistic:                     104.0\n",
       "Date:                Thu, 04 Feb 2016   Prob (F-statistic):           1.04e-87\n",
       "Time:                        11:34:52   Log-Likelihood:                -92197.\n",
       "No. Observations:               17379   AIC:                         1.844e+05\n",
       "Df Residuals:                   17374   BIC:                         1.844e+05\n",
       "Df Model:                           4                                         \n",
       "Covariance Type:            nonrobust                                         \n",
       "============================================================================================\n",
       "                               coef    std err          t      P>|t|      [95.0% Conf. Int.]\n",
       "--------------------------------------------------------------------------------------------\n",
       "Intercept                 6.782e+11   1.08e+13      0.063      0.950     -2.06e+13  2.19e+13\n",
       "weather[[1, 2, 3, 4]][0] -6.782e+11   1.08e+13     -0.063      0.950     -2.19e+13  2.06e+13\n",
       "weather[[1, 2, 3, 4]][1] -6.782e+11   1.08e+13     -0.063      0.950     -2.19e+13  2.06e+13\n",
       "weather[[1, 2, 3, 4]][2] -6.782e+11   1.08e+13     -0.063      0.950     -2.19e+13  2.06e+13\n",
       "weather[[1, 2, 3, 4]][3] -6.782e+11   1.08e+13     -0.063      0.950     -2.19e+13  2.06e+13\n",
       "==============================================================================\n",
       "Omnibus:                     9002.161   Durbin-Watson:                   0.136\n",
       "Prob(Omnibus):                  0.000   Jarque-Bera (JB):            58970.408\n",
       "Skew:                           2.469   Prob(JB):                         0.00\n",
       "Kurtosis:                      10.554   Cond. No.                     8.15e+13\n",
       "==============================================================================\n",
       "\n",
       "Warnings:\n",
       "[1] Standard Errors assume that the covariance matrix of the errors is correctly specified.\n",
       "[2] The smallest eigenvalue is 4.04e-24. This might indicate that there are\n",
       "strong multicollinearity problems or that the design matrix is singular.\n",
       "\"\"\""
      ]
     },
     "execution_count": 101,
     "metadata": {},
     "output_type": "execute_result"
    }
   ],
   "source": [
    "# all dummies in the model\n",
    "lm_stats = smf.ols(formula='y ~ weather[[1, 2, 3, 4]]', data=bike_data).fit()\n",
    "lm_stats.summary()"
   ]
  },
  {
   "cell_type": "code",
   "execution_count": 102,
   "metadata": {},
   "outputs": [
    {
     "data": {
      "text/html": [
       "<table class=\"simpletable\">\n",
       "<caption>OLS Regression Results</caption>\n",
       "<tr>\n",
       "  <th>Dep. Variable:</th>            <td>y</td>        <th>  R-squared:         </th> <td>   0.023</td> \n",
       "</tr>\n",
       "<tr>\n",
       "  <th>Model:</th>                   <td>OLS</td>       <th>  Adj. R-squared:    </th> <td>   0.023</td> \n",
       "</tr>\n",
       "<tr>\n",
       "  <th>Method:</th>             <td>Least Squares</td>  <th>  F-statistic:       </th> <td>   138.7</td> \n",
       "</tr>\n",
       "<tr>\n",
       "  <th>Date:</th>             <td>Thu, 04 Feb 2016</td> <th>  Prob (F-statistic):</th> <td>8.08e-89</td> \n",
       "</tr>\n",
       "<tr>\n",
       "  <th>Time:</th>                 <td>11:34:53</td>     <th>  Log-Likelihood:    </th> <td> -92197.</td> \n",
       "</tr>\n",
       "<tr>\n",
       "  <th>No. Observations:</th>      <td> 17379</td>      <th>  AIC:               </th> <td>1.844e+05</td>\n",
       "</tr>\n",
       "<tr>\n",
       "  <th>Df Residuals:</th>          <td> 17375</td>      <th>  BIC:               </th> <td>1.844e+05</td>\n",
       "</tr>\n",
       "<tr>\n",
       "  <th>Df Model:</th>              <td>     3</td>      <th>                     </th>     <td> </td>    \n",
       "</tr>\n",
       "<tr>\n",
       "  <th>Covariance Type:</th>      <td>nonrobust</td>    <th>                     </th>     <td> </td>    \n",
       "</tr>\n",
       "</table>\n",
       "<table class=\"simpletable\">\n",
       "<tr>\n",
       "            <td></td>               <th>coef</th>     <th>std err</th>      <th>t</th>      <th>P>|t|</th> <th>[95.0% Conf. Int.]</th> \n",
       "</tr>\n",
       "<tr>\n",
       "  <th>Intercept</th>             <td>    2.6667</td> <td>   28.134</td> <td>    0.095</td> <td> 0.924</td> <td>  -52.478    57.812</td>\n",
       "</tr>\n",
       "<tr>\n",
       "  <th>weather[[1, 2, 3]][0]</th> <td>   37.8788</td> <td>   28.138</td> <td>    1.346</td> <td> 0.178</td> <td>  -17.274    93.031</td>\n",
       "</tr>\n",
       "<tr>\n",
       "  <th>weather[[1, 2, 3]][1]</th> <td>   26.9286</td> <td>   28.143</td> <td>    0.957</td> <td> 0.339</td> <td>  -28.235    82.092</td>\n",
       "</tr>\n",
       "<tr>\n",
       "  <th>weather[[1, 2, 3]][2]</th> <td>   13.3890</td> <td>   28.164</td> <td>    0.475</td> <td> 0.635</td> <td>  -41.814    68.592</td>\n",
       "</tr>\n",
       "</table>\n",
       "<table class=\"simpletable\">\n",
       "<tr>\n",
       "  <th>Omnibus:</th>       <td>9001.632</td> <th>  Durbin-Watson:     </th> <td>   0.136</td> \n",
       "</tr>\n",
       "<tr>\n",
       "  <th>Prob(Omnibus):</th>  <td> 0.000</td>  <th>  Jarque-Bera (JB):  </th> <td>58962.554</td>\n",
       "</tr>\n",
       "<tr>\n",
       "  <th>Skew:</th>           <td> 2.468</td>  <th>  Prob(JB):          </th> <td>    0.00</td> \n",
       "</tr>\n",
       "<tr>\n",
       "  <th>Kurtosis:</th>       <td>10.553</td>  <th>  Cond. No.          </th> <td>    189.</td> \n",
       "</tr>\n",
       "</table>"
      ],
      "text/plain": [
       "<class 'statsmodels.iolib.summary.Summary'>\n",
       "\"\"\"\n",
       "                            OLS Regression Results                            \n",
       "==============================================================================\n",
       "Dep. Variable:                      y   R-squared:                       0.023\n",
       "Model:                            OLS   Adj. R-squared:                  0.023\n",
       "Method:                 Least Squares   F-statistic:                     138.7\n",
       "Date:                Thu, 04 Feb 2016   Prob (F-statistic):           8.08e-89\n",
       "Time:                        11:34:53   Log-Likelihood:                -92197.\n",
       "No. Observations:               17379   AIC:                         1.844e+05\n",
       "Df Residuals:                   17375   BIC:                         1.844e+05\n",
       "Df Model:                           3                                         \n",
       "Covariance Type:            nonrobust                                         \n",
       "=========================================================================================\n",
       "                            coef    std err          t      P>|t|      [95.0% Conf. Int.]\n",
       "-----------------------------------------------------------------------------------------\n",
       "Intercept                 2.6667     28.134      0.095      0.924       -52.478    57.812\n",
       "weather[[1, 2, 3]][0]    37.8788     28.138      1.346      0.178       -17.274    93.031\n",
       "weather[[1, 2, 3]][1]    26.9286     28.143      0.957      0.339       -28.235    82.092\n",
       "weather[[1, 2, 3]][2]    13.3890     28.164      0.475      0.635       -41.814    68.592\n",
       "==============================================================================\n",
       "Omnibus:                     9001.632   Durbin-Watson:                   0.136\n",
       "Prob(Omnibus):                  0.000   Jarque-Bera (JB):            58962.554\n",
       "Skew:                           2.468   Prob(JB):                         0.00\n",
       "Kurtosis:                      10.553   Cond. No.                         189.\n",
       "==============================================================================\n",
       "\n",
       "Warnings:\n",
       "[1] Standard Errors assume that the covariance matrix of the errors is correctly specified.\n",
       "\"\"\""
      ]
     },
     "execution_count": 102,
     "metadata": {},
     "output_type": "execute_result"
    }
   ],
   "source": [
    "#droping one\n",
    "lm_stats = smf.ols(formula='y ~ weather[[1, 2, 3]]', data=bike_data).fit()\n",
    "lm_stats.summary()"
   ]
  },
  {
   "cell_type": "markdown",
   "metadata": {},
   "source": [
    "### What's the interpretation ? Do you want to keep all your dummy variables or drop one? Why? \n",
    "\n",
    "\n"
   ]
  },
  {
   "cell_type": "markdown",
   "metadata": {},
   "source": [
    "Answer:"
   ]
  },
  {
   "cell_type": "markdown",
   "metadata": {},
   "source": [
    "## Guided Practice: Combining non-correlated features into a better model (15 mins)"
   ]
  },
  {
   "cell_type": "code",
<<<<<<< HEAD
   "execution_count": 53,
=======
   "execution_count": 103,
>>>>>>> master
   "metadata": {},
   "outputs": [
    {
     "data": {
<<<<<<< HEAD
      "text/html": [
       "<div>\n",
       "<style>\n",
       "    .dataframe thead tr:only-child th {\n",
       "        text-align: right;\n",
       "    }\n",
       "\n",
       "    .dataframe thead th {\n",
       "        text-align: left;\n",
       "    }\n",
       "\n",
       "    .dataframe tbody tr th {\n",
       "        vertical-align: top;\n",
       "    }\n",
       "</style>\n",
       "<table border=\"1\" class=\"dataframe\">\n",
       "  <thead>\n",
       "    <tr style=\"text-align: right;\">\n",
       "      <th></th>\n",
       "      <th>instant</th>\n",
       "      <th>dteday</th>\n",
       "      <th>season</th>\n",
       "      <th>yr</th>\n",
       "      <th>mnth</th>\n",
       "      <th>hr</th>\n",
       "      <th>holiday</th>\n",
       "      <th>weekday</th>\n",
       "      <th>workingday</th>\n",
       "      <th>weathersit</th>\n",
       "      <th>temp</th>\n",
       "      <th>atemp</th>\n",
       "      <th>hum</th>\n",
       "      <th>windspeed</th>\n",
       "      <th>casual</th>\n",
       "      <th>registered</th>\n",
       "      <th>cnt</th>\n",
       "    </tr>\n",
       "  </thead>\n",
       "  <tbody>\n",
       "    <tr>\n",
       "      <th>0</th>\n",
       "      <td>1</td>\n",
       "      <td>2011-01-01</td>\n",
       "      <td>1</td>\n",
       "      <td>0</td>\n",
       "      <td>1</td>\n",
       "      <td>0</td>\n",
       "      <td>0</td>\n",
       "      <td>6</td>\n",
       "      <td>0</td>\n",
       "      <td>1</td>\n",
       "      <td>0.24</td>\n",
       "      <td>0.2879</td>\n",
       "      <td>0.81</td>\n",
       "      <td>0.0</td>\n",
       "      <td>3</td>\n",
       "      <td>13</td>\n",
       "      <td>16</td>\n",
       "    </tr>\n",
       "    <tr>\n",
       "      <th>1</th>\n",
       "      <td>2</td>\n",
       "      <td>2011-01-01</td>\n",
       "      <td>1</td>\n",
       "      <td>0</td>\n",
       "      <td>1</td>\n",
       "      <td>1</td>\n",
       "      <td>0</td>\n",
       "      <td>6</td>\n",
       "      <td>0</td>\n",
       "      <td>1</td>\n",
       "      <td>0.22</td>\n",
       "      <td>0.2727</td>\n",
       "      <td>0.80</td>\n",
       "      <td>0.0</td>\n",
       "      <td>8</td>\n",
       "      <td>32</td>\n",
       "      <td>40</td>\n",
       "    </tr>\n",
       "    <tr>\n",
       "      <th>2</th>\n",
       "      <td>3</td>\n",
       "      <td>2011-01-01</td>\n",
       "      <td>1</td>\n",
       "      <td>0</td>\n",
       "      <td>1</td>\n",
       "      <td>2</td>\n",
       "      <td>0</td>\n",
       "      <td>6</td>\n",
       "      <td>0</td>\n",
       "      <td>1</td>\n",
       "      <td>0.22</td>\n",
       "      <td>0.2727</td>\n",
       "      <td>0.80</td>\n",
       "      <td>0.0</td>\n",
       "      <td>5</td>\n",
       "      <td>27</td>\n",
       "      <td>32</td>\n",
       "    </tr>\n",
       "    <tr>\n",
       "      <th>3</th>\n",
       "      <td>4</td>\n",
       "      <td>2011-01-01</td>\n",
       "      <td>1</td>\n",
       "      <td>0</td>\n",
       "      <td>1</td>\n",
       "      <td>3</td>\n",
       "      <td>0</td>\n",
       "      <td>6</td>\n",
       "      <td>0</td>\n",
       "      <td>1</td>\n",
       "      <td>0.24</td>\n",
       "      <td>0.2879</td>\n",
       "      <td>0.75</td>\n",
       "      <td>0.0</td>\n",
       "      <td>3</td>\n",
       "      <td>10</td>\n",
       "      <td>13</td>\n",
       "    </tr>\n",
       "    <tr>\n",
       "      <th>4</th>\n",
       "      <td>5</td>\n",
       "      <td>2011-01-01</td>\n",
       "      <td>1</td>\n",
       "      <td>0</td>\n",
       "      <td>1</td>\n",
       "      <td>4</td>\n",
       "      <td>0</td>\n",
       "      <td>6</td>\n",
       "      <td>0</td>\n",
       "      <td>1</td>\n",
       "      <td>0.24</td>\n",
       "      <td>0.2879</td>\n",
       "      <td>0.75</td>\n",
       "      <td>0.0</td>\n",
       "      <td>0</td>\n",
       "      <td>1</td>\n",
       "      <td>1</td>\n",
       "    </tr>\n",
       "  </tbody>\n",
       "</table>\n",
       "</div>"
      ],
      "text/plain": [
       "   instant      dteday  season  yr  mnth  hr  holiday  weekday  workingday  \\\n",
       "0        1  2011-01-01       1   0     1   0        0        6           0   \n",
       "1        2  2011-01-01       1   0     1   1        0        6           0   \n",
       "2        3  2011-01-01       1   0     1   2        0        6           0   \n",
       "3        4  2011-01-01       1   0     1   3        0        6           0   \n",
       "4        5  2011-01-01       1   0     1   4        0        6           0   \n",
       "\n",
       "   weathersit  temp   atemp   hum  windspeed  casual  registered  cnt  \n",
       "0           1  0.24  0.2879  0.81        0.0       3          13   16  \n",
       "1           1  0.22  0.2727  0.80        0.0       8          32   40  \n",
       "2           1  0.22  0.2727  0.80        0.0       5          27   32  \n",
       "3           1  0.24  0.2879  0.75        0.0       3          10   13  \n",
       "4           1  0.24  0.2879  0.75        0.0       0           1    1  "
      ]
     },
     "execution_count": 53,
=======
      "text/plain": [
       "instant         int64\n",
       "dteday         object\n",
       "season          int64\n",
       "yr              int64\n",
       "mnth            int64\n",
       "hr              int64\n",
       "holiday         int64\n",
       "weekday         int64\n",
       "workingday      int64\n",
       "weathersit      int64\n",
       "temp          float64\n",
       "atemp         float64\n",
       "hum           float64\n",
       "windspeed     float64\n",
       "casual          int64\n",
       "registered      int64\n",
       "cnt             int64\n",
       "dtype: object"
      ]
     },
     "execution_count": 103,
>>>>>>> master
     "metadata": {},
     "output_type": "execute_result"
    }
   ],
   "source": [
<<<<<<< HEAD
    "bike_data.dtypes\n",
    "bike_data.head()"
=======
    "bike_data.dtypes"
>>>>>>> master
   ]
  },
  {
   "cell_type": "markdown",
   "metadata": {},
   "source": [
    "## With a partner, complete this code together and visualize the correlations of all the numerical features built into the data set.\n",
    "\n",
    "We want to:\n",
    "\n",
    "- Add the three significant weather situations into our current model.\n",
    "- Find two more features that are not correlated with current features, but could be strong indicators for predicting guest riders."
   ]
  },
  {
   "cell_type": "code",
<<<<<<< HEAD
   "execution_count": 67,
=======
   "execution_count": 1,
>>>>>>> master
   "metadata": {},
   "outputs": [
    {
     "ename": "SyntaxError",
<<<<<<< HEAD
     "evalue": "invalid syntax (<ipython-input-67-70b5a24e8ec1>, line 6)",
     "output_type": "error",
     "traceback": [
      "\u001b[1;36m  File \u001b[1;32m\"<ipython-input-67-70b5a24e8ec1>\"\u001b[1;36m, line \u001b[1;32m6\u001b[0m\n\u001b[1;33m    correlations = # what are we getting the correlations of?\u001b[0m\n\u001b[1;37m                                                             ^\u001b[0m\n\u001b[1;31mSyntaxError\u001b[0m\u001b[1;31m:\u001b[0m invalid syntax\n"
=======
     "evalue": "invalid syntax (<ipython-input-1-97ddf3a04cab>, line 6)",
     "output_type": "error",
     "traceback": [
      "\u001b[0;36m  File \u001b[0;32m\"<ipython-input-1-97ddf3a04cab>\"\u001b[0;36m, line \u001b[0;32m6\u001b[0m\n\u001b[0;31m    correlations = # what are we getting the correlations of?\u001b[0m\n\u001b[0m                                                             ^\u001b[0m\n\u001b[0;31mSyntaxError\u001b[0m\u001b[0;31m:\u001b[0m invalid syntax\n"
>>>>>>> master
     ]
    }
   ],
   "source": [
    "#starter \n",
    "lm = linear_model.LinearRegression()\n",
    "bikemodel_data = bike_data.join() # add in the three weather situations\n",
    "\n",
    "cmap = sns.diverging_palette(220, 10, as_cmap=True)\n",
    "correlations = # what are we getting the correlations of?\n",
    "print correlations\n",
    "print sns.heatmap(correlations, cmap=cmap)\n",
    "\n",
    "columns_to_keep = [] #[which_variables?]\n",
    "final_feature_set = bikemodel_data[columns_to_keep]\n",
    "\n",
    "get_linear_model_metrics(final_feature_set, y, lm)"
   ]
  },
  {
   "cell_type": "code",
   "execution_count": null,
   "metadata": {
    "collapsed": true
   },
   "outputs": [],
   "source": [
    "#sklearn\n",
    "final_feature_set = bikemodel_data[columns_to_keep]\n",
    "\n",
    "get_linear_model_metrics(final_feature_set, np.log10(y+1), lm)"
   ]
  },
  {
   "cell_type": "code",
   "execution_count": null,
   "metadata": {
    "collapsed": true
   },
   "outputs": [],
   "source": [
    "#Stats models\n",
    "log_y = np.log10(y+1)\n",
    "lm = smf.ols(formula=' log_y ~ temp + hum + windspeed + weather_1 + weather_2 + weather_3 + holiday + hour_1 + hour_2 + hour_3 + hour_4 + hour_5 + hour_6 + hour_7 + hour_8 + hour_9 + hour_10 + hour_11 + hour_12 + hour_13 + hour_14 + hour_15 + hour_16 + hour_18 + hour_19 + hour_20 + hour_21 + hour_22 + hour_23', data=bikemodel_data).fit()\n",
    "#print the full summary\n",
    "lm.summary()"
   ]
  },
  {
   "cell_type": "markdown",
   "metadata": {},
   "source": [
    "## Independent Practice: Building models for other y variables (25 minutes)\n",
    "\n",
    "We've completely a model together that explains casual guest riders. Now it's your turn to build another model, using a different y variable: registered riders.\n",
    "\n",
    "#### Pay attention to:\n",
    "\n",
    "* the distribution of riders (should we rescale the data?)  \n",
    "* checking correlations with variables and registered riders  \n",
    "* having a feature space (our matrix) with low multicollinearity  \n",
    "* model complexity vs explanation of variance: at what point do features in a model stop improving r-squared?  \n",
    "* the linear assumption -- given all feature values being 0, should we have no ridership? negative ridership? positive ridership?\n",
    "\n",
    "#### Bonus\n",
    "\n",
    "* Which variables would make sense to dummy (because they are categorical, not continuous)?  \n",
    "* What features might explain ridership but aren't included in the data set? \n",
    "* Is there a way to build these using pandas and the features available?\n",
    "* Outcomes If your model at least improves upon the original model and the explanatory effects (coefficients) make sense, consider this a complete task. \n",
    "\n",
    "### If your model has an r-squared above .4, this a relatively effective model for the data available. Kudos!"
   ]
  },
  {
   "cell_type": "code",
   "execution_count": null,
   "metadata": {
    "collapsed": true
   },
   "outputs": [],
   "source": []
  }
 ],
 "metadata": {
  "kernelspec": {
   "display_name": "Python 2",
   "language": "python",
   "name": "python2"
  },
  "language_info": {
   "codemirror_mode": {
    "name": "ipython",
    "version": 2
   },
   "file_extension": ".py",
   "mimetype": "text/x-python",
   "name": "python",
   "nbconvert_exporter": "python",
   "pygments_lexer": "ipython2",
   "version": "2.7.13"
  }
 },
 "nbformat": 4,
 "nbformat_minor": 1
}
