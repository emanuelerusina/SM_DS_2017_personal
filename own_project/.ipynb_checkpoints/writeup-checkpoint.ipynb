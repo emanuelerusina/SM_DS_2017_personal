{
 "cells": [
  {
   "cell_type": "markdown",
   "metadata": {},
   "source": [
    "# Project Problem and Hypothesis"
   ]
  },
  {
   "cell_type": "code",
   "execution_count": null,
   "metadata": {
    "collapsed": true
   },
   "outputs": [],
   "source": [
    "* What's the project about? What problem are you solving?\n",
    "* Where does this seem to reside as a machine learning problem? Are you predicting some continuous number, or predicting a binary value?\n",
    "* What kind of impact do you think it could have?\n",
    "* What do you think will have the most impact in predicting the value you are interested in solving for?"
   ]
  },
  {
   "cell_type": "markdown",
   "metadata": {},
   "source": [
    "# Datasets"
   ]
  },
  {
   "cell_type": "code",
   "execution_count": 3,
   "metadata": {},
   "outputs": [
    {
     "ename": "SyntaxError",
     "evalue": "invalid syntax (<ipython-input-3-d454a4f50b44>, line 1)",
     "output_type": "error",
     "traceback": [
      "\u001b[1;36m  File \u001b[1;32m\"<ipython-input-3-d454a4f50b44>\"\u001b[1;36m, line \u001b[1;32m1\u001b[0m\n\u001b[1;33m    * Description of data set available, at the field level (see table)\u001b[0m\n\u001b[1;37m    ^\u001b[0m\n\u001b[1;31mSyntaxError\u001b[0m\u001b[1;31m:\u001b[0m invalid syntax\n"
     ]
    }
   ],
   "source": [
    "* Description of data set available, at the field level (see table)\n",
    "* If from an API, include a sample return (this is usually included in API documentation!) (if doing this in markdown, use the javacription code tag)"
   ]
  },
  {
   "cell_type": "markdown",
   "metadata": {},
   "source": [
    "# Domain knowledge"
   ]
  },
  {
   "cell_type": "code",
   "execution_count": 2,
   "metadata": {},
   "outputs": [
    {
     "ename": "IndentationError",
     "evalue": "unexpected indent (<ipython-input-2-324aa4f95a54>, line 4)",
     "output_type": "error",
     "traceback": [
      "\u001b[1;36m  File \u001b[1;32m\"<ipython-input-2-324aa4f95a54>\"\u001b[1;36m, line \u001b[1;32m4\u001b[0m\n\u001b[1;33m    * Use a quick Google search to see what approaches others have made, or talk with your colleagues if it is work related about previous attempts at similar problems.\u001b[0m\n\u001b[1;37m    ^\u001b[0m\n\u001b[1;31mIndentationError\u001b[0m\u001b[1;31m:\u001b[0m unexpected indent\n"
     ]
    }
   ],
   "source": [
    "* What experience do you already have around this area?\n",
    "* Does it relate or help inform the project in any way?\n",
    "* What other research efforts exist?\n",
    "    * Use a quick Google search to see what approaches others have made, or talk with your colleagues if it is work related about previous attempts at similar problems.\n",
    "    * This could even just be something like \"the marketing team put together a forecast in excel that doesn't do well.\"\n",
    "    * Include a benchmark, how other models have performed, even if you are unsure what the metric means."
   ]
  },
  {
   "cell_type": "markdown",
   "metadata": {},
   "source": [
    "# Project Concerns"
   ]
  },
  {
   "cell_type": "code",
   "execution_count": null,
   "metadata": {
    "collapsed": true
   },
   "outputs": [],
   "source": [
    "* What questions do you have about your project? What are you not sure you quite yet understand? (The more honest you are about this, the easier your instructors can help).\n",
    "* What are the assumptions and caveats to the problem?\n",
    "    * What data do you not have access to but wish you had?\n",
    "    * What is already implied about the observations in your data set? For example, if your primary data set is twitter data, it may not be representative of the whole sample (say, predicting who would win an election)\n",
    "* What are the risks to the project?\n",
    "    * What's the cost of your model being wrong? (What's the benefit of your model being right?)\n",
    "    * Is any of the data incorrect? Could it be incorrect?"
   ]
  },
  {
   "cell_type": "markdown",
   "metadata": {},
   "source": [
    "# Outcomes"
   ]
  },
  {
   "cell_type": "code",
   "execution_count": 1,
   "metadata": {},
   "outputs": [
    {
     "ename": "SyntaxError",
     "evalue": "invalid syntax (<ipython-input-1-fe747f7b6fea>, line 5)",
     "output_type": "error",
     "traceback": [
      "\u001b[1;36m  File \u001b[1;32m\"<ipython-input-1-fe747f7b6fea>\"\u001b[1;36m, line \u001b[1;32m5\u001b[0m\n\u001b[1;33m    * How successful does your project have to be in order to be considered a \"success\"?\u001b[0m\n\u001b[1;37m    ^\u001b[0m\n\u001b[1;31mSyntaxError\u001b[0m\u001b[1;31m:\u001b[0m invalid syntax\n"
     ]
    }
   ],
   "source": [
    "* What do you expect the output to look like?\n",
    "* What does your target audience expect the output to look like?\n",
    "* What gain do you expect from your most important feature on its own?\n",
    "* How complicated does your model have to be?\n",
    "* How successful does your project have to be in order to be considered a \"success\"?\n",
    "* What will you do if the project is a bust (this happens! but it shouldn't here)?"
   ]
  }
 ],
 "metadata": {
  "kernelspec": {
   "display_name": "Python 2",
   "language": "python",
   "name": "python2"
  },
  "language_info": {
   "codemirror_mode": {
    "name": "ipython",
    "version": 2
   },
   "file_extension": ".py",
   "mimetype": "text/x-python",
   "name": "python",
   "nbconvert_exporter": "python",
   "pygments_lexer": "ipython2",
   "version": "2.7.13"
  }
 },
 "nbformat": 4,
 "nbformat_minor": 1
}
