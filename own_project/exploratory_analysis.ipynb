{
 "cells": [
  {
   "cell_type": "markdown",
   "metadata": {},
   "source": [
    "# Exploratory Analysis"
   ]
  },
  {
   "cell_type": "code",
   "execution_count": null,
   "metadata": {
    "collapsed": true
   },
   "outputs": [],
   "source": [
    "## Preliminary Analysis\n",
    "####  Drop Null / Observation count"
   ]
  },
  {
   "cell_type": "code",
   "execution_count": 108,
   "metadata": {},
   "outputs": [],
   "source": [
    "#imports\n",
    "from __future__ import division\n",
    "import pandas as pd\n",
    "import numpy as np\n",
    "import matplotlib.pyplot as plt\n",
    "import statsmodels.api as sm\n",
    "import pylab as pl\n",
    "import numpy as np\n",
    "\n",
    "\n",
    "%matplotlib inline\n"
   ]
  },
  {
   "cell_type": "code",
   "execution_count": 109,
   "metadata": {},
   "outputs": [
    {
     "name": "stdout",
     "output_type": "stream",
     "text": [
      "   userid  autoplayed_series_id  rewatched  genre  macro_genre  \\\n",
      "0   66550                 15354          1     27           34   \n",
      "1   70698                 34254          0     14           35   \n",
      "2   72583                 34177          1     26           33   \n",
      "3   73488                 24620          0     11           34   \n",
      "4   82220                 14871          0     19           36   \n",
      "\n",
      "   previous_series_id  genre_prev  macro_genre_prev  hourofday  \\\n",
      "0               31676          26                33          1   \n",
      "1               33587          14                35         17   \n",
      "2               30439          27                34          1   \n",
      "3               15195          25                35         16   \n",
      "4               35240           3                33         19   \n",
      "\n",
      "   series_popularity    ...     genre_28  genre_29  genre_30  genre_31  \\\n",
      "0                800    ...          0.0    0.0000       0.0       0.0   \n",
      "1               5916    ...          0.0    0.0000       0.0       0.0   \n",
      "2               4600    ...          0.0    0.0000       0.0       0.0   \n",
      "3               2573    ...          0.0    0.0000       0.0       0.0   \n",
      "4             151699    ...          0.0    0.3219       0.0       0.0   \n",
      "\n",
      "   genre_32     genre_33      genre_34     genre_35     genre_36  genre_37  \n",
      "0    0.0000    28.023350    145.510400     0.000000  1123.148133    0.0000  \n",
      "1    0.0000     0.000000   5131.051850   662.186367   306.417317    0.0000  \n",
      "2    0.0000    88.679850  13511.446430   392.401417  1181.720117    0.0000  \n",
      "3  125.5366     1.505267   1134.081183  1374.211750     0.000000  125.5366  \n",
      "4    0.0000  1992.324033     29.533567   439.661200     0.321900    0.0000  \n",
      "\n",
      "[5 rows x 50 columns]\n"
     ]
    }
   ],
   "source": [
    "data_raw = pd.read_csv(\"datasets/autoplay_v4.csv\")\n",
    "data_raw.fillna(0, inplace=True)\n",
    "\n",
    "print data_raw.head()"
   ]
  },
  {
   "cell_type": "markdown",
   "metadata": {},
   "source": [
    "## Preliminary Analysis\n",
    "####  Drop Null / Observation count"
   ]
  },
  {
   "cell_type": "code",
   "execution_count": 285,
   "metadata": {},
   "outputs": [
    {
     "name": "stdout",
     "output_type": "stream",
     "text": [
      "rewatched                           173993\n",
      "total_consumption                   173993\n",
      "genre                               173993\n",
      "macro_genre                         173993\n",
      "same_previous_genre                 173993\n",
      "same_previous_macro_genre           173993\n",
      "daytime                             173993\n",
      "evening                             173993\n",
      "late_night                          173993\n",
      "genre_prev                          173993\n",
      "macro_genre_prev                    173993\n",
      "series_popularity                   173993\n",
      "genre_popularity                    173993\n",
      "same_genre_percent_watched          173993\n",
      "same_macro_genre_percent_watched    173993\n",
      "dtype: int64\n"
     ]
    }
   ],
   "source": [
    "data = data_raw.dropna() \n",
    "data_edit = data_raw\n",
    "data_edit['total_consumption'] = data_edit['genre_33'] + data_edit['genre_34'] + data_edit['genre_35'] + data_edit['genre_36'] + data_edit['genre_37']\n",
    "data_edit['same_previous_genre'] = np.where(data_edit['genre'] == data_edit['genre_prev'], 1,0)\n",
    "data_edit['same_previous_macro_genre'] = np.where(data_edit['macro_genre'] == data_edit['macro_genre_prev'], 1,0)\n",
    "data_edit['time_of_day'] = np.where(data_edit['hourofday'] > 7, np.where(data_edit['hourofday'] > 18,'evening','daytime'),'late_night')\n",
    "timedummy = (pd.get_dummies(data_edit['time_of_day']))\n",
    "data_edit = data_edit.join(timedummy[['daytime', 'evening', 'late_night']])\n",
    "data_edit = data_edit[~(data_edit['genre'] == 32)] \n",
    "data = data_edit[['rewatched','total_consumption','genre','macro_genre','same_previous_genre', 'same_previous_macro_genre','daytime','evening','late_night','genre_prev','macro_genre_prev','series_popularity','genre_popularity','same_genre_percent_watched','same_macro_genre_percent_watched']]\n",
    "print data.count()\n",
    "\n"
   ]
  },
  {
   "cell_type": "markdown",
   "metadata": {},
   "source": [
    "After excluding Null records, the dataset includes x unique observations."
   ]
  },
  {
   "cell_type": "markdown",
   "metadata": {},
   "source": [
    "#### Summary table"
   ]
  },
  {
   "cell_type": "code",
   "execution_count": 286,
   "metadata": {},
   "outputs": [
    {
     "name": "stdout",
     "output_type": "stream",
     "text": [
      "           rewatched  total_consumption          genre    macro_genre  \\\n",
      "count  173993.000000      173993.000000  173993.000000  173993.000000   \n",
      "mean        0.280793        5014.309858      15.468387      34.327938   \n",
      "std         0.449388        5071.428938       8.259989       1.104002   \n",
      "min         0.000000           0.000000       1.000000      33.000000   \n",
      "25%         0.000000        1482.421800       8.000000      33.000000   \n",
      "50%         0.000000        3436.059916      14.000000      34.000000   \n",
      "75%         1.000000        6842.748416      24.000000      35.000000   \n",
      "max         1.000000       54352.125400      31.000000      36.000000   \n",
      "\n",
      "       same_previous_genre  same_previous_macro_genre        daytime  \\\n",
      "count         173993.00000              173993.000000  173993.000000   \n",
      "mean               0.46103                   0.582960       0.432402   \n",
      "std                0.49848                   0.493071       0.495411   \n",
      "min                0.00000                   0.000000       0.000000   \n",
      "25%                0.00000                   0.000000       0.000000   \n",
      "50%                0.00000                   1.000000       0.000000   \n",
      "75%                1.00000                   1.000000       1.000000   \n",
      "max                1.00000                   1.000000       1.000000   \n",
      "\n",
      "             evening     late_night     genre_prev  macro_genre_prev  \\\n",
      "count  173993.000000  173993.000000  173993.000000     173993.000000   \n",
      "mean        0.259614       0.307984      15.649601         34.279678   \n",
      "std         0.438424       0.461661       8.452635          1.097243   \n",
      "min         0.000000       0.000000       1.000000         33.000000   \n",
      "25%         0.000000       0.000000       8.000000         33.000000   \n",
      "50%         0.000000       0.000000      15.000000         34.000000   \n",
      "75%         1.000000       1.000000      22.000000         35.000000   \n",
      "max         1.000000       1.000000      32.000000         36.000000   \n",
      "\n",
      "       series_popularity  genre_popularity  same_genre_percent_watched  \\\n",
      "count      173993.000000     173993.000000               173993.000000   \n",
      "mean        25116.296023     246739.217158                    0.185980   \n",
      "std         44053.289932     115427.810428                    0.256775   \n",
      "min             1.000000       5073.000000                    0.000000   \n",
      "25%          2999.000000     140759.000000                    0.000000   \n",
      "50%          9108.000000     258766.000000                    0.065527   \n",
      "75%         27037.000000     329706.000000                    0.273567   \n",
      "max        476302.000000     521608.000000                    1.000000   \n",
      "\n",
      "       same_macro_genre_percent_watched  \n",
      "count                     173993.000000  \n",
      "mean                           0.276007  \n",
      "std                            0.293746  \n",
      "min                            0.000000  \n",
      "25%                            0.013710  \n",
      "50%                            0.172688  \n",
      "75%                            0.459912  \n",
      "max                            1.000000  \n"
     ]
    }
   ],
   "source": [
    "print data.describe()"
   ]
  },
  {
   "cell_type": "markdown",
   "metadata": {},
   "source": [
    "#### Preliminary observations"
   ]
  },
  {
   "cell_type": "code",
   "execution_count": 287,
   "metadata": {},
   "outputs": [
    {
     "ename": "SyntaxError",
     "evalue": "invalid syntax (<ipython-input-287-a7547df83bf1>, line 1)",
     "output_type": "error",
     "traceback": [
      "\u001b[1;36m  File \u001b[1;32m\"<ipython-input-287-a7547df83bf1>\"\u001b[1;36m, line \u001b[1;32m1\u001b[0m\n\u001b[1;33m    Preliminary observations on each independent var\u001b[0m\n\u001b[1;37m                           ^\u001b[0m\n\u001b[1;31mSyntaxError\u001b[0m\u001b[1;31m:\u001b[0m invalid syntax\n"
     ]
    }
   ],
   "source": [
    "Preliminary observations on each independent var"
   ]
  },
  {
   "cell_type": "markdown",
   "metadata": {},
   "source": [
    "#### Box plots for Independent Variables"
   ]
  },
  {
   "cell_type": "code",
   "execution_count": 288,
   "metadata": {},
   "outputs": [
    {
     "data": {
      "text/plain": [
       "<matplotlib.axes._subplots.AxesSubplot at 0xd41dc50>"
      ]
     },
     "execution_count": 288,
     "metadata": {},
     "output_type": "execute_result"
    },
    {
     "data": {
      "image/png": "[encoded data removed]",
      "text/plain": [
       "<matplotlib.figure.Figure at 0x11baafd0>"
      ]
     },
     "metadata": {},
     "output_type": "display_data"
    },
    {
     "data": {
      "image/png": "[encoded data removed]",
      "text/plain": [
       "<matplotlib.figure.Figure at 0x11baa630>"
      ]
     },
     "metadata": {},
     "output_type": "display_data"
    },
    {
     "data": {
      "image/png": "[encoded data removed]",
      "text/plain": [
       "<matplotlib.figure.Figure at 0x19736c50>"
      ]
     },
     "metadata": {},
     "output_type": "display_data"
    }
   ],
   "source": [
    "data[['total_consumption']].plot(kind='box')\n",
    "data[['series_popularity','genre_popularity']].plot(kind='box')\n",
    "data[['same_genre_percent_watched','same_macro_genre_percent_watched']].plot(kind='box')"
   ]
  },
  {
   "cell_type": "code",
   "execution_count": 289,
   "metadata": {},
   "outputs": [
    {
     "ename": "SyntaxError",
     "evalue": "invalid syntax (<ipython-input-289-cff70bf89e76>, line 1)",
     "output_type": "error",
     "traceback": [
      "\u001b[1;36m  File \u001b[1;32m\"<ipython-input-289-cff70bf89e76>\"\u001b[1;36m, line \u001b[1;32m1\u001b[0m\n\u001b[1;33m    Comment on boxplots\u001b[0m\n\u001b[1;37m             ^\u001b[0m\n\u001b[1;31mSyntaxError\u001b[0m\u001b[1;31m:\u001b[0m invalid syntax\n"
     ]
    }
   ],
   "source": [
    "Comment on boxplots"
   ]
  },
  {
   "cell_type": "markdown",
   "metadata": {},
   "source": [
    "#### Distribution description "
   ]
  },
  {
   "cell_type": "code",
   "execution_count": 291,
   "metadata": {},
   "outputs": [
    {
     "data": {
      "image/png": "[encoded data removed]",
      "text/plain": [
       "<matplotlib.figure.Figure at 0x1b7107b8>"
      ]
     },
     "metadata": {},
     "output_type": "display_data"
    }
   ],
   "source": [
    "fig = plt.figure(figsize = (20,20))\n",
    "ax = fig.gca()\n",
    "data[['genre','macro_genre','genre_prev','macro_genre_prev','series_popularity','genre_popularity','same_genre_percent_watched','same_macro_genre_percent_watched','total_consumption']].hist(ax=ax)\n",
    "pl.show()"
   ]
  },
  {
   "cell_type": "markdown",
   "metadata": {},
   "source": [
    "Comment on distribution"
   ]
  },
  {
   "cell_type": "markdown",
   "metadata": {},
   "source": [
    "#### Correlation"
   ]
  },
  {
   "cell_type": "code",
   "execution_count": 292,
   "metadata": {},
   "outputs": [
    {
     "data": {
      "text/html": [
       "<div>\n",
       "<style>\n",
       "    .dataframe thead tr:only-child th {\n",
       "        text-align: right;\n",
       "    }\n",
       "\n",
       "    .dataframe thead th {\n",
       "        text-align: left;\n",
       "    }\n",
       "\n",
       "    .dataframe tbody tr th {\n",
       "        vertical-align: top;\n",
       "    }\n",
       "</style>\n",
       "<table border=\"1\" class=\"dataframe\">\n",
       "  <thead>\n",
       "    <tr style=\"text-align: right;\">\n",
       "      <th></th>\n",
       "      <th>rewatched</th>\n",
       "      <th>total_consumption</th>\n",
       "      <th>genre</th>\n",
       "      <th>macro_genre</th>\n",
       "      <th>same_previous_genre</th>\n",
       "      <th>same_previous_macro_genre</th>\n",
       "      <th>daytime</th>\n",
       "      <th>evening</th>\n",
       "      <th>late_night</th>\n",
       "      <th>genre_prev</th>\n",
       "      <th>macro_genre_prev</th>\n",
       "      <th>series_popularity</th>\n",
       "      <th>genre_popularity</th>\n",
       "      <th>same_genre_percent_watched</th>\n",
       "      <th>same_macro_genre_percent_watched</th>\n",
       "    </tr>\n",
       "  </thead>\n",
       "  <tbody>\n",
       "    <tr>\n",
       "      <th>rewatched</th>\n",
       "      <td>1.000000</td>\n",
       "      <td>0.033597</td>\n",
       "      <td>0.061650</td>\n",
       "      <td>-0.028773</td>\n",
       "      <td>-0.066094</td>\n",
       "      <td>-0.044383</td>\n",
       "      <td>0.040080</td>\n",
       "      <td>0.069203</td>\n",
       "      <td>-0.108730</td>\n",
       "      <td>0.070911</td>\n",
       "      <td>-0.005163</td>\n",
       "      <td>0.096457</td>\n",
       "      <td>0.056404</td>\n",
       "      <td>0.024635</td>\n",
       "      <td>0.002851</td>\n",
       "    </tr>\n",
       "    <tr>\n",
       "      <th>total_consumption</th>\n",
       "      <td>0.033597</td>\n",
       "      <td>1.000000</td>\n",
       "      <td>0.064693</td>\n",
       "      <td>0.031305</td>\n",
       "      <td>-0.024739</td>\n",
       "      <td>-0.017678</td>\n",
       "      <td>0.004714</td>\n",
       "      <td>-0.054507</td>\n",
       "      <td>0.046705</td>\n",
       "      <td>0.064213</td>\n",
       "      <td>0.030716</td>\n",
       "      <td>-0.060922</td>\n",
       "      <td>-0.022396</td>\n",
       "      <td>-0.083321</td>\n",
       "      <td>-0.050960</td>\n",
       "    </tr>\n",
       "    <tr>\n",
       "      <th>genre</th>\n",
       "      <td>0.061650</td>\n",
       "      <td>0.064693</td>\n",
       "      <td>1.000000</td>\n",
       "      <td>0.001648</td>\n",
       "      <td>0.172128</td>\n",
       "      <td>0.173184</td>\n",
       "      <td>0.072860</td>\n",
       "      <td>0.007624</td>\n",
       "      <td>-0.085427</td>\n",
       "      <td>0.654386</td>\n",
       "      <td>0.046903</td>\n",
       "      <td>-0.117282</td>\n",
       "      <td>-0.086947</td>\n",
       "      <td>0.165740</td>\n",
       "      <td>-0.074307</td>\n",
       "    </tr>\n",
       "    <tr>\n",
       "      <th>macro_genre</th>\n",
       "      <td>-0.028773</td>\n",
       "      <td>0.031305</td>\n",
       "      <td>0.001648</td>\n",
       "      <td>1.000000</td>\n",
       "      <td>-0.074588</td>\n",
       "      <td>-0.050776</td>\n",
       "      <td>-0.040441</td>\n",
       "      <td>0.018081</td>\n",
       "      <td>0.026227</td>\n",
       "      <td>-0.036981</td>\n",
       "      <td>0.353162</td>\n",
       "      <td>-0.084874</td>\n",
       "      <td>-0.275663</td>\n",
       "      <td>-0.052311</td>\n",
       "      <td>-0.189515</td>\n",
       "    </tr>\n",
       "    <tr>\n",
       "      <th>same_previous_genre</th>\n",
       "      <td>-0.066094</td>\n",
       "      <td>-0.024739</td>\n",
       "      <td>0.172128</td>\n",
       "      <td>-0.074588</td>\n",
       "      <td>1.000000</td>\n",
       "      <td>0.782261</td>\n",
       "      <td>-0.022589</td>\n",
       "      <td>-0.033798</td>\n",
       "      <td>0.056337</td>\n",
       "      <td>0.148377</td>\n",
       "      <td>-0.034368</td>\n",
       "      <td>-0.142839</td>\n",
       "      <td>0.113808</td>\n",
       "      <td>0.353226</td>\n",
       "      <td>0.020989</td>\n",
       "    </tr>\n",
       "    <tr>\n",
       "      <th>same_previous_macro_genre</th>\n",
       "      <td>-0.044383</td>\n",
       "      <td>-0.017678</td>\n",
       "      <td>0.173184</td>\n",
       "      <td>-0.050776</td>\n",
       "      <td>0.782261</td>\n",
       "      <td>1.000000</td>\n",
       "      <td>-0.011788</td>\n",
       "      <td>-0.019113</td>\n",
       "      <td>0.030801</td>\n",
       "      <td>0.159586</td>\n",
       "      <td>0.000913</td>\n",
       "      <td>-0.121896</td>\n",
       "      <td>0.053562</td>\n",
       "      <td>0.270216</td>\n",
       "      <td>0.050231</td>\n",
       "    </tr>\n",
       "    <tr>\n",
       "      <th>daytime</th>\n",
       "      <td>0.040080</td>\n",
       "      <td>0.004714</td>\n",
       "      <td>0.072860</td>\n",
       "      <td>-0.040441</td>\n",
       "      <td>-0.022589</td>\n",
       "      <td>-0.011788</td>\n",
       "      <td>1.000000</td>\n",
       "      <td>-0.516843</td>\n",
       "      <td>-0.582277</td>\n",
       "      <td>0.065546</td>\n",
       "      <td>-0.050239</td>\n",
       "      <td>0.001971</td>\n",
       "      <td>0.054604</td>\n",
       "      <td>-0.003458</td>\n",
       "      <td>-0.017451</td>\n",
       "    </tr>\n",
       "    <tr>\n",
       "      <th>evening</th>\n",
       "      <td>0.069203</td>\n",
       "      <td>-0.054507</td>\n",
       "      <td>0.007624</td>\n",
       "      <td>0.018081</td>\n",
       "      <td>-0.033798</td>\n",
       "      <td>-0.019113</td>\n",
       "      <td>-0.516843</td>\n",
       "      <td>1.000000</td>\n",
       "      <td>-0.395039</td>\n",
       "      <td>0.014394</td>\n",
       "      <td>0.024942</td>\n",
       "      <td>0.030327</td>\n",
       "      <td>-0.008846</td>\n",
       "      <td>-0.011984</td>\n",
       "      <td>0.004354</td>\n",
       "    </tr>\n",
       "    <tr>\n",
       "      <th>late_night</th>\n",
       "      <td>-0.108730</td>\n",
       "      <td>0.046705</td>\n",
       "      <td>-0.085427</td>\n",
       "      <td>0.026227</td>\n",
       "      <td>0.056337</td>\n",
       "      <td>0.030801</td>\n",
       "      <td>-0.582277</td>\n",
       "      <td>-0.395039</td>\n",
       "      <td>1.000000</td>\n",
       "      <td>-0.084007</td>\n",
       "      <td>0.030225</td>\n",
       "      <td>-0.030916</td>\n",
       "      <td>-0.050195</td>\n",
       "      <td>0.015092</td>\n",
       "      <td>0.014592</td>\n",
       "    </tr>\n",
       "    <tr>\n",
       "      <th>genre_prev</th>\n",
       "      <td>0.070911</td>\n",
       "      <td>0.064213</td>\n",
       "      <td>0.654386</td>\n",
       "      <td>-0.036981</td>\n",
       "      <td>0.148377</td>\n",
       "      <td>0.159586</td>\n",
       "      <td>0.065546</td>\n",
       "      <td>0.014394</td>\n",
       "      <td>-0.084007</td>\n",
       "      <td>1.000000</td>\n",
       "      <td>0.134538</td>\n",
       "      <td>-0.070925</td>\n",
       "      <td>-0.055893</td>\n",
       "      <td>0.132397</td>\n",
       "      <td>-0.062897</td>\n",
       "    </tr>\n",
       "    <tr>\n",
       "      <th>macro_genre_prev</th>\n",
       "      <td>-0.005163</td>\n",
       "      <td>0.030716</td>\n",
       "      <td>0.046903</td>\n",
       "      <td>0.353162</td>\n",
       "      <td>-0.034368</td>\n",
       "      <td>0.000913</td>\n",
       "      <td>-0.050239</td>\n",
       "      <td>0.024942</td>\n",
       "      <td>0.030225</td>\n",
       "      <td>0.134538</td>\n",
       "      <td>1.000000</td>\n",
       "      <td>-0.007310</td>\n",
       "      <td>-0.120318</td>\n",
       "      <td>-0.017281</td>\n",
       "      <td>-0.019016</td>\n",
       "    </tr>\n",
       "    <tr>\n",
       "      <th>series_popularity</th>\n",
       "      <td>0.096457</td>\n",
       "      <td>-0.060922</td>\n",
       "      <td>-0.117282</td>\n",
       "      <td>-0.084874</td>\n",
       "      <td>-0.142839</td>\n",
       "      <td>-0.121896</td>\n",
       "      <td>0.001971</td>\n",
       "      <td>0.030327</td>\n",
       "      <td>-0.030916</td>\n",
       "      <td>-0.070925</td>\n",
       "      <td>-0.007310</td>\n",
       "      <td>1.000000</td>\n",
       "      <td>0.215635</td>\n",
       "      <td>-0.137764</td>\n",
       "      <td>0.036414</td>\n",
       "    </tr>\n",
       "    <tr>\n",
       "      <th>genre_popularity</th>\n",
       "      <td>0.056404</td>\n",
       "      <td>-0.022396</td>\n",
       "      <td>-0.086947</td>\n",
       "      <td>-0.275663</td>\n",
       "      <td>0.113808</td>\n",
       "      <td>0.053562</td>\n",
       "      <td>0.054604</td>\n",
       "      <td>-0.008846</td>\n",
       "      <td>-0.050195</td>\n",
       "      <td>-0.055893</td>\n",
       "      <td>-0.120318</td>\n",
       "      <td>0.215635</td>\n",
       "      <td>1.000000</td>\n",
       "      <td>0.149638</td>\n",
       "      <td>0.033882</td>\n",
       "    </tr>\n",
       "    <tr>\n",
       "      <th>same_genre_percent_watched</th>\n",
       "      <td>0.024635</td>\n",
       "      <td>-0.083321</td>\n",
       "      <td>0.165740</td>\n",
       "      <td>-0.052311</td>\n",
       "      <td>0.353226</td>\n",
       "      <td>0.270216</td>\n",
       "      <td>-0.003458</td>\n",
       "      <td>-0.011984</td>\n",
       "      <td>0.015092</td>\n",
       "      <td>0.132397</td>\n",
       "      <td>-0.017281</td>\n",
       "      <td>-0.137764</td>\n",
       "      <td>0.149638</td>\n",
       "      <td>1.000000</td>\n",
       "      <td>0.027999</td>\n",
       "    </tr>\n",
       "    <tr>\n",
       "      <th>same_macro_genre_percent_watched</th>\n",
       "      <td>0.002851</td>\n",
       "      <td>-0.050960</td>\n",
       "      <td>-0.074307</td>\n",
       "      <td>-0.189515</td>\n",
       "      <td>0.020989</td>\n",
       "      <td>0.050231</td>\n",
       "      <td>-0.017451</td>\n",
       "      <td>0.004354</td>\n",
       "      <td>0.014592</td>\n",
       "      <td>-0.062897</td>\n",
       "      <td>-0.019016</td>\n",
       "      <td>0.036414</td>\n",
       "      <td>0.033882</td>\n",
       "      <td>0.027999</td>\n",
       "      <td>1.000000</td>\n",
       "    </tr>\n",
       "  </tbody>\n",
       "</table>\n",
       "</div>"
      ],
      "text/plain": [
       "                                  rewatched  total_consumption     genre  \\\n",
       "rewatched                          1.000000           0.033597  0.061650   \n",
       "total_consumption                  0.033597           1.000000  0.064693   \n",
       "genre                              0.061650           0.064693  1.000000   \n",
       "macro_genre                       -0.028773           0.031305  0.001648   \n",
       "same_previous_genre               -0.066094          -0.024739  0.172128   \n",
       "same_previous_macro_genre         -0.044383          -0.017678  0.173184   \n",
       "daytime                            0.040080           0.004714  0.072860   \n",
       "evening                            0.069203          -0.054507  0.007624   \n",
       "late_night                        -0.108730           0.046705 -0.085427   \n",
       "genre_prev                         0.070911           0.064213  0.654386   \n",
       "macro_genre_prev                  -0.005163           0.030716  0.046903   \n",
       "series_popularity                  0.096457          -0.060922 -0.117282   \n",
       "genre_popularity                   0.056404          -0.022396 -0.086947   \n",
       "same_genre_percent_watched         0.024635          -0.083321  0.165740   \n",
       "same_macro_genre_percent_watched   0.002851          -0.050960 -0.074307   \n",
       "\n",
       "                                  macro_genre  same_previous_genre  \\\n",
       "rewatched                           -0.028773            -0.066094   \n",
       "total_consumption                    0.031305            -0.024739   \n",
       "genre                                0.001648             0.172128   \n",
       "macro_genre                          1.000000            -0.074588   \n",
       "same_previous_genre                 -0.074588             1.000000   \n",
       "same_previous_macro_genre           -0.050776             0.782261   \n",
       "daytime                             -0.040441            -0.022589   \n",
       "evening                              0.018081            -0.033798   \n",
       "late_night                           0.026227             0.056337   \n",
       "genre_prev                          -0.036981             0.148377   \n",
       "macro_genre_prev                     0.353162            -0.034368   \n",
       "series_popularity                   -0.084874            -0.142839   \n",
       "genre_popularity                    -0.275663             0.113808   \n",
       "same_genre_percent_watched          -0.052311             0.353226   \n",
       "same_macro_genre_percent_watched    -0.189515             0.020989   \n",
       "\n",
       "                                  same_previous_macro_genre   daytime  \\\n",
       "rewatched                                         -0.044383  0.040080   \n",
       "total_consumption                                 -0.017678  0.004714   \n",
       "genre                                              0.173184  0.072860   \n",
       "macro_genre                                       -0.050776 -0.040441   \n",
       "same_previous_genre                                0.782261 -0.022589   \n",
       "same_previous_macro_genre                          1.000000 -0.011788   \n",
       "daytime                                           -0.011788  1.000000   \n",
       "evening                                           -0.019113 -0.516843   \n",
       "late_night                                         0.030801 -0.582277   \n",
       "genre_prev                                         0.159586  0.065546   \n",
       "macro_genre_prev                                   0.000913 -0.050239   \n",
       "series_popularity                                 -0.121896  0.001971   \n",
       "genre_popularity                                   0.053562  0.054604   \n",
       "same_genre_percent_watched                         0.270216 -0.003458   \n",
       "same_macro_genre_percent_watched                   0.050231 -0.017451   \n",
       "\n",
       "                                   evening  late_night  genre_prev  \\\n",
       "rewatched                         0.069203   -0.108730    0.070911   \n",
       "total_consumption                -0.054507    0.046705    0.064213   \n",
       "genre                             0.007624   -0.085427    0.654386   \n",
       "macro_genre                       0.018081    0.026227   -0.036981   \n",
       "same_previous_genre              -0.033798    0.056337    0.148377   \n",
       "same_previous_macro_genre        -0.019113    0.030801    0.159586   \n",
       "daytime                          -0.516843   -0.582277    0.065546   \n",
       "evening                           1.000000   -0.395039    0.014394   \n",
       "late_night                       -0.395039    1.000000   -0.084007   \n",
       "genre_prev                        0.014394   -0.084007    1.000000   \n",
       "macro_genre_prev                  0.024942    0.030225    0.134538   \n",
       "series_popularity                 0.030327   -0.030916   -0.070925   \n",
       "genre_popularity                 -0.008846   -0.050195   -0.055893   \n",
       "same_genre_percent_watched       -0.011984    0.015092    0.132397   \n",
       "same_macro_genre_percent_watched  0.004354    0.014592   -0.062897   \n",
       "\n",
       "                                  macro_genre_prev  series_popularity  \\\n",
       "rewatched                                -0.005163           0.096457   \n",
       "total_consumption                         0.030716          -0.060922   \n",
       "genre                                     0.046903          -0.117282   \n",
       "macro_genre                               0.353162          -0.084874   \n",
       "same_previous_genre                      -0.034368          -0.142839   \n",
       "same_previous_macro_genre                 0.000913          -0.121896   \n",
       "daytime                                  -0.050239           0.001971   \n",
       "evening                                   0.024942           0.030327   \n",
       "late_night                                0.030225          -0.030916   \n",
       "genre_prev                                0.134538          -0.070925   \n",
       "macro_genre_prev                          1.000000          -0.007310   \n",
       "series_popularity                        -0.007310           1.000000   \n",
       "genre_popularity                         -0.120318           0.215635   \n",
       "same_genre_percent_watched               -0.017281          -0.137764   \n",
       "same_macro_genre_percent_watched         -0.019016           0.036414   \n",
       "\n",
       "                                  genre_popularity  \\\n",
       "rewatched                                 0.056404   \n",
       "total_consumption                        -0.022396   \n",
       "genre                                    -0.086947   \n",
       "macro_genre                              -0.275663   \n",
       "same_previous_genre                       0.113808   \n",
       "same_previous_macro_genre                 0.053562   \n",
       "daytime                                   0.054604   \n",
       "evening                                  -0.008846   \n",
       "late_night                               -0.050195   \n",
       "genre_prev                               -0.055893   \n",
       "macro_genre_prev                         -0.120318   \n",
       "series_popularity                         0.215635   \n",
       "genre_popularity                          1.000000   \n",
       "same_genre_percent_watched                0.149638   \n",
       "same_macro_genre_percent_watched          0.033882   \n",
       "\n",
       "                                  same_genre_percent_watched  \\\n",
       "rewatched                                           0.024635   \n",
       "total_consumption                                  -0.083321   \n",
       "genre                                               0.165740   \n",
       "macro_genre                                        -0.052311   \n",
       "same_previous_genre                                 0.353226   \n",
       "same_previous_macro_genre                           0.270216   \n",
       "daytime                                            -0.003458   \n",
       "evening                                            -0.011984   \n",
       "late_night                                          0.015092   \n",
       "genre_prev                                          0.132397   \n",
       "macro_genre_prev                                   -0.017281   \n",
       "series_popularity                                  -0.137764   \n",
       "genre_popularity                                    0.149638   \n",
       "same_genre_percent_watched                          1.000000   \n",
       "same_macro_genre_percent_watched                    0.027999   \n",
       "\n",
       "                                  same_macro_genre_percent_watched  \n",
       "rewatched                                                 0.002851  \n",
       "total_consumption                                        -0.050960  \n",
       "genre                                                    -0.074307  \n",
       "macro_genre                                              -0.189515  \n",
       "same_previous_genre                                       0.020989  \n",
       "same_previous_macro_genre                                 0.050231  \n",
       "daytime                                                  -0.017451  \n",
       "evening                                                   0.004354  \n",
       "late_night                                                0.014592  \n",
       "genre_prev                                               -0.062897  \n",
       "macro_genre_prev                                         -0.019016  \n",
       "series_popularity                                         0.036414  \n",
       "genre_popularity                                          0.033882  \n",
       "same_genre_percent_watched                                0.027999  \n",
       "same_macro_genre_percent_watched                          1.000000  "
      ]
     },
     "execution_count": 292,
     "metadata": {},
     "output_type": "execute_result"
    }
   ],
   "source": [
    "data.corr()"
   ]
  },
  {
   "cell_type": "markdown",
   "metadata": {},
   "source": [
    "Comments on collinearity"
   ]
  },
  {
   "cell_type": "markdown",
   "metadata": {},
   "source": [
    "#### "
   ]
  },
  {
   "cell_type": "markdown",
   "metadata": {},
   "source": [
    "Comments"
   ]
  },
  {
   "cell_type": "markdown",
   "metadata": {},
   "source": [
    "## Revisions on original work plan"
   ]
  },
  {
   "cell_type": "markdown",
   "metadata": {},
   "source": [
    "#### "
   ]
  },
  {
   "cell_type": "code",
   "execution_count": 281,
   "metadata": {},
   "outputs": [
    {
     "ename": "NameError",
     "evalue": "name 'Detail' is not defined",
     "output_type": "error",
     "traceback": [
      "\u001b[1;31m\u001b[0m",
      "\u001b[1;31mNameError\u001b[0mTraceback (most recent call last)",
      "\u001b[1;32m<ipython-input-281-1559b514040f>\u001b[0m in \u001b[0;36m<module>\u001b[1;34m()\u001b[0m\n\u001b[1;32m----> 1\u001b[1;33m \u001b[0mDetail\u001b[0m\u001b[1;33m\u001b[0m\u001b[0m\n\u001b[0m",
      "\u001b[1;31mNameError\u001b[0m: name 'Detail' is not defined"
     ]
    }
   ],
   "source": [
    "Detail"
   ]
  },
  {
   "cell_type": "markdown",
   "metadata": {},
   "source": [
    "#### "
   ]
  },
  {
   "cell_type": "code",
   "execution_count": null,
   "metadata": {
    "collapsed": true
   },
   "outputs": [],
   "source": []
  },
  {
   "cell_type": "markdown",
   "metadata": {},
   "source": [
    "#### "
   ]
  },
  {
   "cell_type": "markdown",
   "metadata": {},
   "source": [
    "## Additional edits and analysis"
   ]
  },
  {
   "cell_type": "code",
   "execution_count": 293,
   "metadata": {},
   "outputs": [],
   "source": [
    "genre_dummy = (pd.get_dummies(data['genre']))\n",
    "macro_genre_dummy = (pd.get_dummies(data['macro_genre']))\n",
    "data = data.join(genre_dummy).join(macro_genre_dummy)"
   ]
  },
  {
   "cell_type": "code",
   "execution_count": 294,
   "metadata": {
    "collapsed": true
   },
   "outputs": [],
   "source": [
    "log_vars = data[['series_popularity','genre_popularity']]\n",
    "log_vars = log_vars.apply(np.log10)\n",
    "data['series_popularity'] = log_vars['series_popularity']\n",
    "data['genre_popularity'] = log_vars['genre_popularity']"
   ]
  },
  {
   "cell_type": "code",
   "execution_count": 295,
   "metadata": {},
   "outputs": [
    {
     "data": {
      "text/html": [
       "<div>\n",
       "<style>\n",
       "    .dataframe thead tr:only-child th {\n",
       "        text-align: right;\n",
       "    }\n",
       "\n",
       "    .dataframe thead th {\n",
       "        text-align: left;\n",
       "    }\n",
       "\n",
       "    .dataframe tbody tr th {\n",
       "        vertical-align: top;\n",
       "    }\n",
       "</style>\n",
       "<table border=\"1\" class=\"dataframe\">\n",
       "  <thead>\n",
       "    <tr style=\"text-align: right;\">\n",
       "      <th></th>\n",
       "      <th>33</th>\n",
       "      <th>34</th>\n",
       "      <th>35</th>\n",
       "      <th>36</th>\n",
       "    </tr>\n",
       "  </thead>\n",
       "  <tbody>\n",
       "    <tr>\n",
       "      <th>33</th>\n",
       "      <td>1.000000</td>\n",
       "      <td>-0.338037</td>\n",
       "      <td>-0.467546</td>\n",
       "      <td>-0.317954</td>\n",
       "    </tr>\n",
       "    <tr>\n",
       "      <th>34</th>\n",
       "      <td>-0.338037</td>\n",
       "      <td>1.000000</td>\n",
       "      <td>-0.325361</td>\n",
       "      <td>-0.221262</td>\n",
       "    </tr>\n",
       "    <tr>\n",
       "      <th>35</th>\n",
       "      <td>-0.467546</td>\n",
       "      <td>-0.325361</td>\n",
       "      <td>1.000000</td>\n",
       "      <td>-0.306032</td>\n",
       "    </tr>\n",
       "    <tr>\n",
       "      <th>36</th>\n",
       "      <td>-0.317954</td>\n",
       "      <td>-0.221262</td>\n",
       "      <td>-0.306032</td>\n",
       "      <td>1.000000</td>\n",
       "    </tr>\n",
       "  </tbody>\n",
       "</table>\n",
       "</div>"
      ],
      "text/plain": [
       "          33        34        35        36\n",
       "33  1.000000 -0.338037 -0.467546 -0.317954\n",
       "34 -0.338037  1.000000 -0.325361 -0.221262\n",
       "35 -0.467546 -0.325361  1.000000 -0.306032\n",
       "36 -0.317954 -0.221262 -0.306032  1.000000"
      ]
     },
     "execution_count": 295,
     "metadata": {},
     "output_type": "execute_result"
    }
   ],
   "source": [
    "data[[33,34,35,36]].corr()"
   ]
  },
  {
   "cell_type": "code",
   "execution_count": 366,
   "metadata": {},
   "outputs": [
    {
     "name": "stdout",
     "output_type": "stream",
     "text": [
      "Optimization terminated successfully.\n",
      "         Current function value: 0.580085\n",
      "         Iterations 5\n",
      "0.280792905462\n"
     ]
    },
    {
     "data": {
      "text/html": [
       "<table class=\"simpletable\">\n",
       "<caption>Logit Regression Results</caption>\n",
       "<tr>\n",
       "  <th>Dep. Variable:</th>     <td>rewatched</td>    <th>  No. Observations:  </th>   <td>173993</td>   \n",
       "</tr>\n",
       "<tr>\n",
       "  <th>Model:</th>               <td>Logit</td>      <th>  Df Residuals:      </th>   <td>173982</td>   \n",
       "</tr>\n",
       "<tr>\n",
       "  <th>Method:</th>               <td>MLE</td>       <th>  Df Model:          </th>   <td>    10</td>   \n",
       "</tr>\n",
       "<tr>\n",
       "  <th>Date:</th>          <td>Sun, 22 Oct 2017</td> <th>  Pseudo R-squ.:     </th>   <td>0.02293</td>  \n",
       "</tr>\n",
       "<tr>\n",
       "  <th>Time:</th>              <td>12:37:59</td>     <th>  Log-Likelihood:    </th> <td>-1.0093e+05</td>\n",
       "</tr>\n",
       "<tr>\n",
       "  <th>converged:</th>           <td>True</td>       <th>  LL-Null:           </th> <td>-1.0330e+05</td>\n",
       "</tr>\n",
       "<tr>\n",
       "  <th> </th>                      <td> </td>        <th>  LLR p-value:       </th>   <td> 0.000</td>   \n",
       "</tr>\n",
       "</table>\n",
       "<table class=\"simpletable\">\n",
       "<tr>\n",
       "                  <td></td>                    <th>coef</th>     <th>std err</th>      <th>z</th>      <th>P>|z|</th>  <th>[0.025</th>    <th>0.975]</th>  \n",
       "</tr>\n",
       "<tr>\n",
       "  <th>const</th>                            <td>   -3.7004</td> <td>    0.101</td> <td>  -36.519</td> <td> 0.000</td> <td>   -3.899</td> <td>   -3.502</td>\n",
       "</tr>\n",
       "<tr>\n",
       "  <th>total_consumption</th>                <td> 2.196e-05</td> <td> 1.05e-06</td> <td>   20.922</td> <td> 0.000</td> <td> 1.99e-05</td> <td>  2.4e-05</td>\n",
       "</tr>\n",
       "<tr>\n",
       "  <th>same_previous_macro_genre</th>        <td>   -0.1515</td> <td>    0.011</td> <td>  -13.533</td> <td> 0.000</td> <td>   -0.173</td> <td>   -0.130</td>\n",
       "</tr>\n",
       "<tr>\n",
       "  <th>same_macro_genre_percent_watched</th> <td>   -0.0719</td> <td>    0.019</td> <td>   -3.769</td> <td> 0.000</td> <td>   -0.109</td> <td>   -0.034</td>\n",
       "</tr>\n",
       "<tr>\n",
       "  <th>series_popularity</th>                <td>    0.2655</td> <td>    0.008</td> <td>   33.266</td> <td> 0.000</td> <td>    0.250</td> <td>    0.281</td>\n",
       "</tr>\n",
       "<tr>\n",
       "  <th>genre_popularity</th>                 <td>    0.1990</td> <td>    0.019</td> <td>   10.311</td> <td> 0.000</td> <td>    0.161</td> <td>    0.237</td>\n",
       "</tr>\n",
       "<tr>\n",
       "  <th>daytime</th>                          <td>    0.5053</td> <td>    0.013</td> <td>   37.663</td> <td> 0.000</td> <td>    0.479</td> <td>    0.532</td>\n",
       "</tr>\n",
       "<tr>\n",
       "  <th>evening</th>                          <td>    0.6555</td> <td>    0.015</td> <td>   44.454</td> <td> 0.000</td> <td>    0.627</td> <td>    0.684</td>\n",
       "</tr>\n",
       "<tr>\n",
       "  <th>33</th>                               <td>    0.2085</td> <td>    0.017</td> <td>   12.186</td> <td> 0.000</td> <td>    0.175</td> <td>    0.242</td>\n",
       "</tr>\n",
       "<tr>\n",
       "  <th>34</th>                               <td>    0.4280</td> <td>    0.019</td> <td>   22.696</td> <td> 0.000</td> <td>    0.391</td> <td>    0.465</td>\n",
       "</tr>\n",
       "<tr>\n",
       "  <th>35</th>                               <td>    0.3016</td> <td>    0.017</td> <td>   17.561</td> <td> 0.000</td> <td>    0.268</td> <td>    0.335</td>\n",
       "</tr>\n",
       "</table>"
      ],
      "text/plain": [
       "<class 'statsmodels.iolib.summary.Summary'>\n",
       "\"\"\"\n",
       "                           Logit Regression Results                           \n",
       "==============================================================================\n",
       "Dep. Variable:              rewatched   No. Observations:               173993\n",
       "Model:                          Logit   Df Residuals:                   173982\n",
       "Method:                           MLE   Df Model:                           10\n",
       "Date:                Sun, 22 Oct 2017   Pseudo R-squ.:                 0.02293\n",
       "Time:                        12:37:59   Log-Likelihood:            -1.0093e+05\n",
       "converged:                       True   LL-Null:                   -1.0330e+05\n",
       "                                        LLR p-value:                     0.000\n",
       "====================================================================================================\n",
       "                                       coef    std err          z      P>|z|      [0.025      0.975]\n",
       "----------------------------------------------------------------------------------------------------\n",
       "const                               -3.7004      0.101    -36.519      0.000      -3.899      -3.502\n",
       "total_consumption                 2.196e-05   1.05e-06     20.922      0.000    1.99e-05     2.4e-05\n",
       "same_previous_macro_genre           -0.1515      0.011    -13.533      0.000      -0.173      -0.130\n",
       "same_macro_genre_percent_watched    -0.0719      0.019     -3.769      0.000      -0.109      -0.034\n",
       "series_popularity                    0.2655      0.008     33.266      0.000       0.250       0.281\n",
       "genre_popularity                     0.1990      0.019     10.311      0.000       0.161       0.237\n",
       "daytime                              0.5053      0.013     37.663      0.000       0.479       0.532\n",
       "evening                              0.6555      0.015     44.454      0.000       0.627       0.684\n",
       "33                                   0.2085      0.017     12.186      0.000       0.175       0.242\n",
       "34                                   0.4280      0.019     22.696      0.000       0.391       0.465\n",
       "35                                   0.3016      0.017     17.561      0.000       0.268       0.335\n",
       "====================================================================================================\n",
       "\"\"\""
      ]
     },
     "execution_count": 366,
     "metadata": {},
     "output_type": "execute_result"
    }
   ],
   "source": [
    "X = data[['total_consumption','same_previous_macro_genre','same_macro_genre_percent_watched','series_popularity','genre_popularity','daytime','evening',33,34,35]]\n",
    "X = sm.add_constant(X)\n",
    "y = data['rewatched']\n",
    "lm2 = sm.Logit(y, X)\n",
    "result2 = lm2.fit()\n",
    "print data.rewatched.mean()\n",
    "result2.summary()"
   ]
  },
  {
   "cell_type": "code",
   "execution_count": 297,
   "metadata": {},
   "outputs": [
    {
     "name": "stdout",
     "output_type": "stream",
     "text": [
      "const                               0.024715\n",
      "total_consumption                   1.000022\n",
      "same_previous_macro_genre           0.859405\n",
      "same_macro_genre_percent_watched    0.930651\n",
      "series_popularity                   1.304132\n",
      "genre_popularity                    1.220149\n",
      "daytime                             1.657414\n",
      "evening                             1.926076\n",
      "33                                  1.231777\n",
      "34                                  1.534248\n",
      "35                                  1.352074\n",
      "dtype: float64\n"
     ]
    }
   ],
   "source": [
    "print np.exp(result2.params)"
   ]
  },
  {
   "cell_type": "code",
   "execution_count": 298,
   "metadata": {},
   "outputs": [
    {
     "name": "stdout",
     "output_type": "stream",
     "text": [
      "                                      2.5%     97.5%        OR\n",
      "const                             0.020263  0.030144  0.024715\n",
      "total_consumption                 1.000020  1.000024  1.000022\n",
      "same_previous_macro_genre         0.840752  0.878471  0.859405\n",
      "same_macro_genre_percent_watched  0.896513  0.966088  0.930651\n",
      "series_popularity                 1.283887  1.324695  1.304132\n",
      "genre_popularity                  1.174864  1.267180  1.220149\n",
      "daytime                           1.614403  1.701571  1.657414\n",
      "evening                           1.871208  1.982553  1.926076\n",
      "33                                1.191164  1.273775  1.231777\n",
      "34                                1.478570  1.592022  1.534248\n",
      "35                                1.307314  1.398366  1.352074\n"
     ]
    }
   ],
   "source": [
    "params = result2.params\n",
    "conf = result2.conf_int()\n",
    "conf['OR'] = params\n",
    "conf.columns = ['2.5%', '97.5%', 'OR']\n",
    "print np.exp(conf)"
   ]
  },
  {
   "cell_type": "code",
   "execution_count": 409,
   "metadata": {},
   "outputs": [],
   "source": [
    "X1 = data['series_popularity',]"
   ]
  },
  {
   "cell_type": "code",
   "execution_count": 410,
   "metadata": {},
   "outputs": [
    {
     "name": "stdout",
     "output_type": "stream",
     "text": [
      "[ 0.          0.63087582  1.26175165  1.89262747  2.52350329  3.15437911\n",
      "  3.78525494  4.41613076  5.04700658  5.67788241]\n",
      "[ 3.70526486  3.92882924  4.15239361  4.37595799  4.59952237  4.82308674\n",
      "  5.04665112  5.27021549  5.49377987  5.71734424]\n"
     ]
    }
   ],
   "source": [
    "series_pop = np.linspace(data['series_popularity'].min(), data['series_popularity'].max(), 10)\n",
    "genre_pop = np.linspace(data['genre_popularity'].min(), data['genre_popularity'].max(), 10)\n",
    "print series_pop\n",
    "print genre_pop"
   ]
  },
  {
   "cell_type": "code",
   "execution_count": 411,
   "metadata": {
    "collapsed": true
   },
   "outputs": [],
   "source": [
    "def cartesian2(arrays):\n",
    "    arrays = [np.asarray(a) for a in arrays]\n",
    "    shape = (len(x) for x in arrays)\n",
    "\n",
    "    ix = np.indices(shape, dtype=int)\n",
    "    ix = ix.reshape(len(arrays), -1).T\n",
    "\n",
    "    for n, arr in enumerate(arrays):\n",
    "        ix[:, n] = arrays[n][ix[:, n]]\n",
    "\n",
    "    return ix"
   ]
  },
  {
   "cell_type": "code",
   "execution_count": 412,
   "metadata": {},
   "outputs": [
    {
     "name": "stdout",
     "output_type": "stream",
     "text": [
      "0         0.194109\n",
      "1         0.303517\n",
      "2         0.255000\n",
      "3         0.316153\n",
      "4         0.373053\n",
      "5         0.280399\n",
      "6         0.310838\n",
      "7         0.306253\n",
      "8         0.387560\n",
      "9         0.199189\n",
      "13        0.470855\n",
      "15        0.358729\n",
      "16        0.270959\n",
      "17        0.397212\n",
      "18        0.227419\n",
      "19        0.202771\n",
      "20        0.217039\n",
      "21        0.200345\n",
      "22        0.247677\n",
      "23        0.343951\n",
      "24        0.265146\n",
      "25        0.363902\n",
      "26        0.283910\n",
      "27        0.493224\n",
      "28        0.161728\n",
      "29        0.258304\n",
      "30        0.421774\n",
      "31        0.311197\n",
      "32        0.378099\n",
      "33        0.330585\n",
      "            ...   \n",
      "195355    0.234197\n",
      "195356    0.190017\n",
      "195357    0.213423\n",
      "195359    0.142081\n",
      "195360    0.369907\n",
      "195361    0.218287\n",
      "195362    0.316877\n",
      "195364    0.187006\n",
      "195365    0.299495\n",
      "195366    0.213298\n",
      "195367    0.236200\n",
      "195368    0.284310\n",
      "195369    0.158179\n",
      "195370    0.290029\n",
      "195371    0.390474\n",
      "195372    0.335651\n",
      "195373    0.159553\n",
      "195374    0.261012\n",
      "195375    0.138643\n",
      "195376    0.196987\n",
      "195377    0.170202\n",
      "195378    0.179976\n",
      "195379    0.224756\n",
      "195380    0.145446\n",
      "195381    0.335310\n",
      "195382    0.134217\n",
      "195383    0.334060\n",
      "195384    0.213284\n",
      "195385    0.207594\n",
      "195386    0.236185\n",
      "Length: 173993, dtype: float64\n"
     ]
    },
    {
     "name": "stderr",
     "output_type": "stream",
     "text": [
      "C:\\Users\\emanuele.rusina\\AppData\\Local\\Continuum\\Anaconda2\\lib\\site-packages\\ipykernel_launcher.py:9: DeprecationWarning: \n",
      ".ix is deprecated. Please use\n",
      ".loc for label based indexing or\n",
      ".iloc for positional indexing\n",
      "\n",
      "See the documentation here:\n",
      "http://pandas.pydata.org/pandas-docs/stable/indexing.html#ix-indexer-is-deprecated\n",
      "  if __name__ == '__main__':\n"
     ]
    }
   ],
   "source": [
    "combos = pd.DataFrame(cartesian2([series_pop, genre_pop,[33, 34, 35, 36], [1.]]))\n",
    "# recreate the dummy variables\n",
    "combos.columns = ['series_popularity', 'genre_popularity', 'macro_genre', 'intercept']\n",
    "dummy_ranks = pd.get_dummies(combos['macro_genre'], prefix='macro_genre')\n",
    "dummy_ranks.columns = ['macro_genre_33', 'macro_genre_34', 'macro_genre_35', 'macro_genre_36']\n",
    "\n",
    "# keep only what we need for making predictions\n",
    "cols_to_keep = ['series_popularity', 'genre_popularity', 'macro_genre', 'intercept']\n",
    "combos = combos[cols_to_keep].join(dummy_ranks.ix[:, 'macro_genre_34':])\n",
    "\n",
    "Xc = combos[['intercept','series_popularity', 'genre_popularity','macro_genre_34','macro_genre_35','macro_genre_36']]\n",
    "\n",
    "print result2.predict(X)"
   ]
  },
  {
   "cell_type": "code",
   "execution_count": null,
   "metadata": {
    "collapsed": true
   },
   "outputs": [],
   "source": [
    "print result2.predict(Xc)"
   ]
  },
  {
   "cell_type": "code",
   "execution_count": 268,
   "metadata": {},
   "outputs": [
    {
     "name": "stderr",
     "output_type": "stream",
     "text": [
      "C:\\Users\\emanuele.rusina\\AppData\\Local\\Continuum\\Anaconda2\\lib\\site-packages\\ipykernel_launcher.py:9: DeprecationWarning: \n",
      ".ix is deprecated. Please use\n",
      ".loc for label based indexing or\n",
      ".iloc for positional indexing\n",
      "\n",
      "See the documentation here:\n",
      "http://pandas.pydata.org/pandas-docs/stable/indexing.html#ix-indexer-is-deprecated\n",
      "  if __name__ == '__main__':\n"
     ]
    },
    {
     "ename": "ValueError",
     "evalue": "Must pass DataFrame with boolean values only",
     "output_type": "error",
     "traceback": [
      "\u001b[1;31m\u001b[0m",
      "\u001b[1;31mValueError\u001b[0mTraceback (most recent call last)",
      "\u001b[1;32m<ipython-input-268-a1a2addbc40d>\u001b[0m in \u001b[0;36m<module>\u001b[1;34m()\u001b[0m\n\u001b[0;32m     10\u001b[0m \u001b[1;33m\u001b[0m\u001b[0m\n\u001b[0;32m     11\u001b[0m \u001b[1;31m# make predictions on the enumerated dataset\u001b[0m\u001b[1;33m\u001b[0m\u001b[1;33m\u001b[0m\u001b[0m\n\u001b[1;32m---> 12\u001b[1;33m \u001b[0mcombos\u001b[0m\u001b[1;33m[\u001b[0m\u001b[1;34m'rewatch_pred'\u001b[0m\u001b[1;33m]\u001b[0m \u001b[1;33m=\u001b[0m \u001b[0mresult\u001b[0m\u001b[1;33m.\u001b[0m\u001b[0mpredict\u001b[0m\u001b[1;33m(\u001b[0m\u001b[0mcombos\u001b[0m\u001b[1;33m[\u001b[0m\u001b[0mtrain_cols\u001b[0m\u001b[1;33m]\u001b[0m\u001b[1;33m)\u001b[0m\u001b[1;33m\u001b[0m\u001b[0m\n\u001b[0m\u001b[0;32m     13\u001b[0m \u001b[1;33m\u001b[0m\u001b[0m\n\u001b[0;32m     14\u001b[0m \u001b[1;32mprint\u001b[0m \u001b[0mcombos\u001b[0m\u001b[1;33m.\u001b[0m\u001b[0mhead\u001b[0m\u001b[1;33m(\u001b[0m\u001b[1;33m)\u001b[0m\u001b[1;33m\u001b[0m\u001b[0m\n",
      "\u001b[1;32mC:\\Users\\emanuele.rusina\\AppData\\Local\\Continuum\\Anaconda2\\lib\\site-packages\\pandas\\core\\frame.pyc\u001b[0m in \u001b[0;36m__getitem__\u001b[1;34m(self, key)\u001b[0m\n\u001b[0;32m   1958\u001b[0m             \u001b[1;32mreturn\u001b[0m \u001b[0mself\u001b[0m\u001b[1;33m.\u001b[0m\u001b[0m_getitem_array\u001b[0m\u001b[1;33m(\u001b[0m\u001b[0mkey\u001b[0m\u001b[1;33m)\u001b[0m\u001b[1;33m\u001b[0m\u001b[0m\n\u001b[0;32m   1959\u001b[0m         \u001b[1;32melif\u001b[0m \u001b[0misinstance\u001b[0m\u001b[1;33m(\u001b[0m\u001b[0mkey\u001b[0m\u001b[1;33m,\u001b[0m \u001b[0mDataFrame\u001b[0m\u001b[1;33m)\u001b[0m\u001b[1;33m:\u001b[0m\u001b[1;33m\u001b[0m\u001b[0m\n\u001b[1;32m-> 1960\u001b[1;33m             \u001b[1;32mreturn\u001b[0m \u001b[0mself\u001b[0m\u001b[1;33m.\u001b[0m\u001b[0m_getitem_frame\u001b[0m\u001b[1;33m(\u001b[0m\u001b[0mkey\u001b[0m\u001b[1;33m)\u001b[0m\u001b[1;33m\u001b[0m\u001b[0m\n\u001b[0m\u001b[0;32m   1961\u001b[0m         \u001b[1;32melif\u001b[0m \u001b[0mis_mi_columns\u001b[0m\u001b[1;33m:\u001b[0m\u001b[1;33m\u001b[0m\u001b[0m\n\u001b[0;32m   1962\u001b[0m             \u001b[1;32mreturn\u001b[0m \u001b[0mself\u001b[0m\u001b[1;33m.\u001b[0m\u001b[0m_getitem_multilevel\u001b[0m\u001b[1;33m(\u001b[0m\u001b[0mkey\u001b[0m\u001b[1;33m)\u001b[0m\u001b[1;33m\u001b[0m\u001b[0m\n",
      "\u001b[1;32mC:\\Users\\emanuele.rusina\\AppData\\Local\\Continuum\\Anaconda2\\lib\\site-packages\\pandas\\core\\frame.pyc\u001b[0m in \u001b[0;36m_getitem_frame\u001b[1;34m(self, key)\u001b[0m\n\u001b[0;32m   2033\u001b[0m     \u001b[1;32mdef\u001b[0m \u001b[0m_getitem_frame\u001b[0m\u001b[1;33m(\u001b[0m\u001b[0mself\u001b[0m\u001b[1;33m,\u001b[0m \u001b[0mkey\u001b[0m\u001b[1;33m)\u001b[0m\u001b[1;33m:\u001b[0m\u001b[1;33m\u001b[0m\u001b[0m\n\u001b[0;32m   2034\u001b[0m         \u001b[1;32mif\u001b[0m \u001b[0mkey\u001b[0m\u001b[1;33m.\u001b[0m\u001b[0mvalues\u001b[0m\u001b[1;33m.\u001b[0m\u001b[0msize\u001b[0m \u001b[1;32mand\u001b[0m \u001b[1;32mnot\u001b[0m \u001b[0mis_bool_dtype\u001b[0m\u001b[1;33m(\u001b[0m\u001b[0mkey\u001b[0m\u001b[1;33m.\u001b[0m\u001b[0mvalues\u001b[0m\u001b[1;33m)\u001b[0m\u001b[1;33m:\u001b[0m\u001b[1;33m\u001b[0m\u001b[0m\n\u001b[1;32m-> 2035\u001b[1;33m             \u001b[1;32mraise\u001b[0m \u001b[0mValueError\u001b[0m\u001b[1;33m(\u001b[0m\u001b[1;34m'Must pass DataFrame with boolean values only'\u001b[0m\u001b[1;33m)\u001b[0m\u001b[1;33m\u001b[0m\u001b[0m\n\u001b[0m\u001b[0;32m   2036\u001b[0m         \u001b[1;32mreturn\u001b[0m \u001b[0mself\u001b[0m\u001b[1;33m.\u001b[0m\u001b[0mwhere\u001b[0m\u001b[1;33m(\u001b[0m\u001b[0mkey\u001b[0m\u001b[1;33m)\u001b[0m\u001b[1;33m\u001b[0m\u001b[0m\n\u001b[0;32m   2037\u001b[0m \u001b[1;33m\u001b[0m\u001b[0m\n",
      "\u001b[1;31mValueError\u001b[0m: Must pass DataFrame with boolean values only"
     ]
    }
   ],
   "source": [
    "combos = pd.DataFrame(cartesian2([series_pop, genre_pop,[33, 34, 35, 36], [1.]]))\n",
    "# recreate the dummy variables\n",
    "combos.columns = ['series_popularity', 'genre_popularity', 'macro_genre', 'intercept']\n",
    "dummy_ranks = pd.get_dummies(combos['macro_genre'], prefix='macro_genre')\n",
    "dummy_ranks.columns = ['macro_genre_33', 'macro_genre_34', 'macro_genre_35', 'macro_genre_36']\n",
    "\n",
    "# keep only what we need for making predictions\n",
    "cols_to_keep = ['series_popularity', 'genre_popularity', 'macro_genre', 'intercept']\n",
    "combos = combos[cols_to_keep].join(dummy_ranks.ix[:, 'macro_genre_33':])\n",
    "\n",
    "# make predictions on the enumerated dataset\n",
    "combos['rewatch_pred'] = result.predict(combos[train_cols])\n",
    "\n",
    "print combos.head()"
   ]
  },
  {
   "cell_type": "code",
   "execution_count": null,
   "metadata": {
    "collapsed": true
   },
   "outputs": [],
   "source": [
    "def isolate_and_plot(variable):\n",
    "    # isolate gre and class rank\n",
    "    grouped = pd.pivot_table(combos, values=['admit_pred'], index=[variable, 'prestige'],\n",
    "                            aggfunc=np.mean)\n",
    "    \n",
    "    # in case you're curious as to what this looks like\n",
    "    # print grouped.head()\n",
    "    #                      admit_pred\n",
    "    # gre        prestige            \n",
    "    # 220.000000 1           0.282462\n",
    "    #            2           0.169987\n",
    "    #            3           0.096544\n",
    "    #            4           0.079859\n",
    "    # 284.444444 1           0.311718\n",
    "    \n",
    "    # make a plot\n",
    "    colors = 'rbgyrbgy'\n",
    "    for col in combos.prestige.unique():\n",
    "        plt_data = grouped.ix[grouped.index.get_level_values(1)==col]\n",
    "        pl.plot(plt_data.index.get_level_values(0), plt_data['admit_pred'],\n",
    "                color=colors[int(col)])\n",
    "\n",
    "    pl.xlabel(variable)\n",
    "    pl.ylabel(\"P(admit=1)\")\n",
    "    pl.legend(['1', '2', '3', '4'], loc='upper left', title='Prestige')\n",
    "    pl.title(\"Prob(admit=1) isolating \" + variable + \" and presitge\")\n",
    "    pl.show()\n",
    "\n",
    "isolate_and_plot('gre')\n",
    "isolate_and_plot('gpa')"
   ]
  },
  {
   "cell_type": "code",
   "execution_count": null,
   "metadata": {
    "collapsed": true
   },
   "outputs": [],
   "source": []
  },
  {
   "cell_type": "code",
   "execution_count": null,
   "metadata": {
    "collapsed": true
   },
   "outputs": [],
   "source": []
  },
  {
   "cell_type": "code",
   "execution_count": null,
   "metadata": {
    "collapsed": true
   },
   "outputs": [],
   "source": []
  }
 ],
 "metadata": {
  "kernelspec": {
   "display_name": "Python 2",
   "language": "python",
   "name": "python2"
  },
  "language_info": {
   "codemirror_mode": {
    "name": "ipython",
    "version": 2
   },
   "file_extension": ".py",
   "mimetype": "text/x-python",
   "name": "python",
   "nbconvert_exporter": "python",
   "pygments_lexer": "ipython2",
   "version": "2.7.13"
  }
 },
 "nbformat": 4,
 "nbformat_minor": 1
}
