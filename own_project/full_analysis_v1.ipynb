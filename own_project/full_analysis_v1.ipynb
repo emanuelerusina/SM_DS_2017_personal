{
 "cells": [
  {
   "cell_type": "markdown",
   "metadata": {},
   "source": [
    "# Exploratory Analysis"
   ]
  },
  {
   "cell_type": "code",
   "execution_count": 86,
   "metadata": {},
   "outputs": [],
   "source": [
    "#imports\n",
    "from __future__ import division\n",
    "import pandas as pd\n",
    "import numpy as np\n",
    "import matplotlib.pyplot as plt\n",
    "import statsmodels.api as sm\n",
    "import pylab as pl\n",
    "import numpy as np\n",
    "\n",
    "\n",
    "%matplotlib inline\n"
   ]
  },
  {
   "cell_type": "code",
   "execution_count": 87,
   "metadata": {},
   "outputs": [
    {
     "name": "stdout",
     "output_type": "stream",
     "text": [
      "   userid  autoplayed_series_id  rewatched  genre  macro_genre  \\\n",
      "0   66550                 15354          1     27           34   \n",
      "1   70698                 34254          0     14           35   \n",
      "2   72583                 34177          1     26           33   \n",
      "3   73488                 24620          0     11           34   \n",
      "4   82220                 14871          0     19           36   \n",
      "\n",
      "   previous_series_id  genre_prev  macro_genre_prev  hourofday  \\\n",
      "0               31676          26                33          1   \n",
      "1               33587          14                35         17   \n",
      "2               30439          27                34          1   \n",
      "3               15195          25                35         16   \n",
      "4               35240           3                33         19   \n",
      "\n",
      "   series_popularity    ...     genre_28  genre_29  genre_30  genre_31  \\\n",
      "0                800    ...          0.0    0.0000       0.0       0.0   \n",
      "1               5916    ...          0.0    0.0000       0.0       0.0   \n",
      "2               4600    ...          0.0    0.0000       0.0       0.0   \n",
      "3               2573    ...          0.0    0.0000       0.0       0.0   \n",
      "4             151699    ...          0.0    0.3219       0.0       0.0   \n",
      "\n",
      "   genre_32     genre_33      genre_34     genre_35     genre_36  genre_37  \n",
      "0    0.0000    28.023350    145.510400     0.000000  1123.148133    0.0000  \n",
      "1    0.0000     0.000000   5131.051850   662.186367   306.417317    0.0000  \n",
      "2    0.0000    88.679850  13511.446430   392.401417  1181.720117    0.0000  \n",
      "3  125.5366     1.505267   1134.081183  1374.211750     0.000000  125.5366  \n",
      "4    0.0000  1992.324033     29.533567   439.661200     0.321900    0.0000  \n",
      "\n",
      "[5 rows x 50 columns]\n"
     ]
    }
   ],
   "source": [
    "data_raw = pd.read_csv(\"datasets/autoplay_v4.csv\")\n",
    "data_raw.fillna(0, inplace=True)\n",
    "\n",
    "print data_raw.head()"
   ]
  },
  {
   "cell_type": "markdown",
   "metadata": {},
   "source": [
    "## Preliminary Analysis\n",
    "####  Drop Null / Observation count"
   ]
  },
  {
   "cell_type": "code",
   "execution_count": 197,
   "metadata": {},
   "outputs": [
    {
     "name": "stdout",
     "output_type": "stream",
     "text": [
      "   rewatched  total_consumption  genre  macro_genre  same_previous_genre  \\\n",
      "0          1        1296.681883     27           34                    0   \n",
      "1          0        6099.655533     14           35                    1   \n",
      "2          1       15174.247814     26           33                    0   \n",
      "3          0        2635.334800     11           34                    0   \n",
      "4          0        2461.840700     19           36                    0   \n",
      "\n",
      "   same_previous_macro_genre time_of_day  daytime  evening  late_night  \\\n",
      "0                          0  late_night        0        0           1   \n",
      "1                          1     daytime        1        0           0   \n",
      "2                          0  late_night        0        0           1   \n",
      "3                          0     daytime        1        0           0   \n",
      "4                          0     evening        0        1           0   \n",
      "\n",
      "   genre_prev  macro_genre_prev  series_popularity  genre_popularity  \\\n",
      "0          26                33                800            206435   \n",
      "1          14                35               5916            289077   \n",
      "2          27                34               4600            398505   \n",
      "3          25                35               2573            220023   \n",
      "4           3                33             151699            322055   \n",
      "\n",
      "   same_genre_percent_watched  same_macro_genre_percent_watched  \n",
      "0                    0.001767                          0.112218  \n",
      "1                    0.385267                          0.108561  \n",
      "2                    0.042479                          0.005844  \n",
      "3                    0.036496                          0.430337  \n",
      "4                    0.067407                          0.000131  \n",
      "rewatched                           173993\n",
      "total_consumption                   173993\n",
      "genre                               173993\n",
      "macro_genre                         173993\n",
      "same_previous_genre                 173993\n",
      "same_previous_macro_genre           173993\n",
      "time_of_day                         173993\n",
      "daytime                             173993\n",
      "evening                             173993\n",
      "late_night                          173993\n",
      "genre_prev                          173993\n",
      "macro_genre_prev                    173993\n",
      "series_popularity                   173993\n",
      "genre_popularity                    173993\n",
      "same_genre_percent_watched          173993\n",
      "same_macro_genre_percent_watched    173993\n",
      "dtype: int64\n"
     ]
    }
   ],
   "source": [
    "data = data_raw.dropna() \n",
    "data_edit = data_raw\n",
    "data_edit['total_consumption'] = data_edit['genre_33'] + data_edit['genre_34'] + data_edit['genre_35'] + data_edit['genre_36'] + data_edit['genre_37']\n",
    "data_edit['same_previous_genre'] = np.where(data_edit['genre'] == data_edit['genre_prev'], 1,0)\n",
    "data_edit['same_previous_macro_genre'] = np.where(data_edit['macro_genre'] == data_edit['macro_genre_prev'], 1,0)\n",
    "data_edit['time_of_day'] = np.where(data_edit['hourofday'] > 7, np.where(data_edit['hourofday'] > 18,'evening','daytime'),'late_night')\n",
    "timedummy = (pd.get_dummies(data_edit['time_of_day']))\n",
    "data_edit = data_edit.join(timedummy[['daytime', 'evening', 'late_night']])\n",
    "data_edit = data_edit[~(data_edit['genre'] == 32)] \n",
    "data = data_edit[['rewatched','total_consumption','genre','macro_genre','same_previous_genre', 'same_previous_macro_genre','time_of_day','daytime','evening','late_night','genre_prev','macro_genre_prev','series_popularity','genre_popularity','same_genre_percent_watched','same_macro_genre_percent_watched']]\n",
    "print data.head()\n",
    "\n",
    "print data.count()\n"
   ]
  },
  {
   "cell_type": "markdown",
   "metadata": {},
   "source": [
    "After excluding Null records, the dataset includes x unique observations."
   ]
  },
  {
   "cell_type": "markdown",
   "metadata": {},
   "source": [
    "#### Summary table"
   ]
  },
  {
   "cell_type": "code",
   "execution_count": 89,
   "metadata": {},
   "outputs": [
    {
     "name": "stdout",
     "output_type": "stream",
     "text": [
      "           rewatched  total_consumption          genre    macro_genre  \\\n",
      "count  173993.000000      173993.000000  173993.000000  173993.000000   \n",
      "mean        0.280793        5014.309858      15.468387      34.327938   \n",
      "std         0.449388        5071.428938       8.259989       1.104002   \n",
      "min         0.000000           0.000000       1.000000      33.000000   \n",
      "25%         0.000000        1482.421800       8.000000      33.000000   \n",
      "50%         0.000000        3436.059916      14.000000      34.000000   \n",
      "75%         1.000000        6842.748416      24.000000      35.000000   \n",
      "max         1.000000       54352.125400      31.000000      36.000000   \n",
      "\n",
      "       same_previous_genre  same_previous_macro_genre        daytime  \\\n",
      "count         173993.00000              173993.000000  173993.000000   \n",
      "mean               0.46103                   0.582960       0.432402   \n",
      "std                0.49848                   0.493071       0.495411   \n",
      "min                0.00000                   0.000000       0.000000   \n",
      "25%                0.00000                   0.000000       0.000000   \n",
      "50%                0.00000                   1.000000       0.000000   \n",
      "75%                1.00000                   1.000000       1.000000   \n",
      "max                1.00000                   1.000000       1.000000   \n",
      "\n",
      "             evening     late_night     genre_prev  macro_genre_prev  \\\n",
      "count  173993.000000  173993.000000  173993.000000     173993.000000   \n",
      "mean        0.259614       0.307984      15.649601         34.279678   \n",
      "std         0.438424       0.461661       8.452635          1.097243   \n",
      "min         0.000000       0.000000       1.000000         33.000000   \n",
      "25%         0.000000       0.000000       8.000000         33.000000   \n",
      "50%         0.000000       0.000000      15.000000         34.000000   \n",
      "75%         1.000000       1.000000      22.000000         35.000000   \n",
      "max         1.000000       1.000000      32.000000         36.000000   \n",
      "\n",
      "       series_popularity  genre_popularity  same_genre_percent_watched  \\\n",
      "count      173993.000000     173993.000000               173993.000000   \n",
      "mean        25116.296023     246739.217158                    0.185980   \n",
      "std         44053.289932     115427.810428                    0.256775   \n",
      "min             1.000000       5073.000000                    0.000000   \n",
      "25%          2999.000000     140759.000000                    0.000000   \n",
      "50%          9108.000000     258766.000000                    0.065527   \n",
      "75%         27037.000000     329706.000000                    0.273567   \n",
      "max        476302.000000     521608.000000                    1.000000   \n",
      "\n",
      "       same_macro_genre_percent_watched  \n",
      "count                     173993.000000  \n",
      "mean                           0.276007  \n",
      "std                            0.293746  \n",
      "min                            0.000000  \n",
      "25%                            0.013710  \n",
      "50%                            0.172688  \n",
      "75%                            0.459912  \n",
      "max                            1.000000  \n"
     ]
    }
   ],
   "source": [
    "print data.describe()"
   ]
  },
  {
   "cell_type": "markdown",
   "metadata": {},
   "source": [
    "#### Preliminary observations"
   ]
  },
  {
   "cell_type": "code",
   "execution_count": 90,
   "metadata": {},
   "outputs": [
    {
     "ename": "SyntaxError",
     "evalue": "invalid syntax (<ipython-input-90-a7547df83bf1>, line 1)",
     "output_type": "error",
     "traceback": [
      "\u001b[1;36m  File \u001b[1;32m\"<ipython-input-90-a7547df83bf1>\"\u001b[1;36m, line \u001b[1;32m1\u001b[0m\n\u001b[1;33m    Preliminary observations on each independent var\u001b[0m\n\u001b[1;37m                           ^\u001b[0m\n\u001b[1;31mSyntaxError\u001b[0m\u001b[1;31m:\u001b[0m invalid syntax\n"
     ]
    }
   ],
   "source": [
    "Preliminary observations on each independent var"
   ]
  },
  {
   "cell_type": "markdown",
   "metadata": {},
   "source": [
    "#### Box plots for Independent Variables"
   ]
  },
  {
   "cell_type": "code",
   "execution_count": 91,
   "metadata": {},
   "outputs": [
    {
     "data": {
      "text/plain": [
       "<matplotlib.axes._subplots.AxesSubplot at 0x11f28710>"
      ]
     },
     "execution_count": 91,
     "metadata": {},
     "output_type": "execute_result"
    },
    {
     "data": {
      "image/png": "[encoded data removed]",
      "text/plain": [
       "<matplotlib.figure.Figure at 0x26cc4550>"
      ]
     },
     "metadata": {},
     "output_type": "display_data"
    },
    {
     "data": {
      "image/png": "[encoded data removed]",
      "text/plain": [
       "<matplotlib.figure.Figure at 0x26cc45c0>"
      ]
     },
     "metadata": {},
     "output_type": "display_data"
    },
    {
     "data": {
      "image/png": "[encoded data removed]",
      "text/plain": [
       "<matplotlib.figure.Figure at 0x111e27b8>"
      ]
     },
     "metadata": {},
     "output_type": "display_data"
    }
   ],
   "source": [
    "data[['total_consumption']].plot(kind='box')\n",
    "data[['series_popularity','genre_popularity']].plot(kind='box')\n",
    "data[['same_genre_percent_watched','same_macro_genre_percent_watched']].plot(kind='box')"
   ]
  },
  {
   "cell_type": "code",
   "execution_count": 92,
   "metadata": {},
   "outputs": [
    {
     "ename": "SyntaxError",
     "evalue": "invalid syntax (<ipython-input-92-cff70bf89e76>, line 1)",
     "output_type": "error",
     "traceback": [
      "\u001b[1;36m  File \u001b[1;32m\"<ipython-input-92-cff70bf89e76>\"\u001b[1;36m, line \u001b[1;32m1\u001b[0m\n\u001b[1;33m    Comment on boxplots\u001b[0m\n\u001b[1;37m             ^\u001b[0m\n\u001b[1;31mSyntaxError\u001b[0m\u001b[1;31m:\u001b[0m invalid syntax\n"
     ]
    }
   ],
   "source": [
    "Comment on boxplots"
   ]
  },
  {
   "cell_type": "markdown",
   "metadata": {},
   "source": [
    "#### Distribution description "
   ]
  },
  {
   "cell_type": "code",
   "execution_count": 94,
   "metadata": {},
   "outputs": [
    {
     "data": {
      "image/png": "[encoded data removed]",
      "text/plain": [
       "<matplotlib.figure.Figure at 0x144f17f0>"
      ]
     },
     "metadata": {},
     "output_type": "display_data"
    }
   ],
   "source": [
    "fig = plt.figure(figsize = (20,20))\n",
    "ax = fig.gca()\n",
    "data[['genre','macro_genre','genre_prev','macro_genre_prev','series_popularity','genre_popularity','same_genre_percent_watched','same_macro_genre_percent_watched','total_consumption']].hist(ax=ax)\n",
    "pl.show()"
   ]
  },
  {
   "cell_type": "markdown",
   "metadata": {},
   "source": [
    "Comment on distribution"
   ]
  },
  {
   "cell_type": "markdown",
   "metadata": {},
   "source": [
    "#### Correlation"
   ]
  },
  {
   "cell_type": "code",
   "execution_count": 78,
   "metadata": {},
   "outputs": [
    {
     "data": {
      "text/html": [
       "<div>\n",
       "<style>\n",
       "    .dataframe thead tr:only-child th {\n",
       "        text-align: right;\n",
       "    }\n",
       "\n",
       "    .dataframe thead th {\n",
       "        text-align: left;\n",
       "    }\n",
       "\n",
       "    .dataframe tbody tr th {\n",
       "        vertical-align: top;\n",
       "    }\n",
       "</style>\n",
       "<table border=\"1\" class=\"dataframe\">\n",
       "  <thead>\n",
       "    <tr style=\"text-align: right;\">\n",
       "      <th></th>\n",
       "      <th>rewatched</th>\n",
       "      <th>total_consumption</th>\n",
       "      <th>genre</th>\n",
       "      <th>macro_genre</th>\n",
       "      <th>same_previous_genre</th>\n",
       "      <th>same_previous_macro_genre</th>\n",
       "      <th>daytime</th>\n",
       "      <th>evening</th>\n",
       "      <th>late_night</th>\n",
       "      <th>genre_prev</th>\n",
       "      <th>macro_genre_prev</th>\n",
       "      <th>series_popularity</th>\n",
       "      <th>genre_popularity</th>\n",
       "      <th>same_genre_percent_watched</th>\n",
       "      <th>same_macro_genre_percent_watched</th>\n",
       "    </tr>\n",
       "  </thead>\n",
       "  <tbody>\n",
       "    <tr>\n",
       "      <th>rewatched</th>\n",
       "      <td>1.000000</td>\n",
       "      <td>0.033597</td>\n",
       "      <td>0.061650</td>\n",
       "      <td>-0.028773</td>\n",
       "      <td>-0.066094</td>\n",
       "      <td>-0.044383</td>\n",
       "      <td>0.040080</td>\n",
       "      <td>0.069203</td>\n",
       "      <td>-0.108730</td>\n",
       "      <td>0.070911</td>\n",
       "      <td>-0.005163</td>\n",
       "      <td>0.096457</td>\n",
       "      <td>0.056404</td>\n",
       "      <td>0.024635</td>\n",
       "      <td>0.002851</td>\n",
       "    </tr>\n",
       "    <tr>\n",
       "      <th>total_consumption</th>\n",
       "      <td>0.033597</td>\n",
       "      <td>1.000000</td>\n",
       "      <td>0.064693</td>\n",
       "      <td>0.031305</td>\n",
       "      <td>-0.024739</td>\n",
       "      <td>-0.017678</td>\n",
       "      <td>0.004714</td>\n",
       "      <td>-0.054507</td>\n",
       "      <td>0.046705</td>\n",
       "      <td>0.064213</td>\n",
       "      <td>0.030716</td>\n",
       "      <td>-0.060922</td>\n",
       "      <td>-0.022396</td>\n",
       "      <td>-0.083321</td>\n",
       "      <td>-0.050960</td>\n",
       "    </tr>\n",
       "    <tr>\n",
       "      <th>genre</th>\n",
       "      <td>0.061650</td>\n",
       "      <td>0.064693</td>\n",
       "      <td>1.000000</td>\n",
       "      <td>0.001648</td>\n",
       "      <td>0.172128</td>\n",
       "      <td>0.173184</td>\n",
       "      <td>0.072860</td>\n",
       "      <td>0.007624</td>\n",
       "      <td>-0.085427</td>\n",
       "      <td>0.654386</td>\n",
       "      <td>0.046903</td>\n",
       "      <td>-0.117282</td>\n",
       "      <td>-0.086947</td>\n",
       "      <td>0.165740</td>\n",
       "      <td>-0.074307</td>\n",
       "    </tr>\n",
       "    <tr>\n",
       "      <th>macro_genre</th>\n",
       "      <td>-0.028773</td>\n",
       "      <td>0.031305</td>\n",
       "      <td>0.001648</td>\n",
       "      <td>1.000000</td>\n",
       "      <td>-0.074588</td>\n",
       "      <td>-0.050776</td>\n",
       "      <td>-0.040441</td>\n",
       "      <td>0.018081</td>\n",
       "      <td>0.026227</td>\n",
       "      <td>-0.036981</td>\n",
       "      <td>0.353162</td>\n",
       "      <td>-0.084874</td>\n",
       "      <td>-0.275663</td>\n",
       "      <td>-0.052311</td>\n",
       "      <td>-0.189515</td>\n",
       "    </tr>\n",
       "    <tr>\n",
       "      <th>same_previous_genre</th>\n",
       "      <td>-0.066094</td>\n",
       "      <td>-0.024739</td>\n",
       "      <td>0.172128</td>\n",
       "      <td>-0.074588</td>\n",
       "      <td>1.000000</td>\n",
       "      <td>0.782261</td>\n",
       "      <td>-0.022589</td>\n",
       "      <td>-0.033798</td>\n",
       "      <td>0.056337</td>\n",
       "      <td>0.148377</td>\n",
       "      <td>-0.034368</td>\n",
       "      <td>-0.142839</td>\n",
       "      <td>0.113808</td>\n",
       "      <td>0.353226</td>\n",
       "      <td>0.020989</td>\n",
       "    </tr>\n",
       "    <tr>\n",
       "      <th>same_previous_macro_genre</th>\n",
       "      <td>-0.044383</td>\n",
       "      <td>-0.017678</td>\n",
       "      <td>0.173184</td>\n",
       "      <td>-0.050776</td>\n",
       "      <td>0.782261</td>\n",
       "      <td>1.000000</td>\n",
       "      <td>-0.011788</td>\n",
       "      <td>-0.019113</td>\n",
       "      <td>0.030801</td>\n",
       "      <td>0.159586</td>\n",
       "      <td>0.000913</td>\n",
       "      <td>-0.121896</td>\n",
       "      <td>0.053562</td>\n",
       "      <td>0.270216</td>\n",
       "      <td>0.050231</td>\n",
       "    </tr>\n",
       "    <tr>\n",
       "      <th>daytime</th>\n",
       "      <td>0.040080</td>\n",
       "      <td>0.004714</td>\n",
       "      <td>0.072860</td>\n",
       "      <td>-0.040441</td>\n",
       "      <td>-0.022589</td>\n",
       "      <td>-0.011788</td>\n",
       "      <td>1.000000</td>\n",
       "      <td>-0.516843</td>\n",
       "      <td>-0.582277</td>\n",
       "      <td>0.065546</td>\n",
       "      <td>-0.050239</td>\n",
       "      <td>0.001971</td>\n",
       "      <td>0.054604</td>\n",
       "      <td>-0.003458</td>\n",
       "      <td>-0.017451</td>\n",
       "    </tr>\n",
       "    <tr>\n",
       "      <th>evening</th>\n",
       "      <td>0.069203</td>\n",
       "      <td>-0.054507</td>\n",
       "      <td>0.007624</td>\n",
       "      <td>0.018081</td>\n",
       "      <td>-0.033798</td>\n",
       "      <td>-0.019113</td>\n",
       "      <td>-0.516843</td>\n",
       "      <td>1.000000</td>\n",
       "      <td>-0.395039</td>\n",
       "      <td>0.014394</td>\n",
       "      <td>0.024942</td>\n",
       "      <td>0.030327</td>\n",
       "      <td>-0.008846</td>\n",
       "      <td>-0.011984</td>\n",
       "      <td>0.004354</td>\n",
       "    </tr>\n",
       "    <tr>\n",
       "      <th>late_night</th>\n",
       "      <td>-0.108730</td>\n",
       "      <td>0.046705</td>\n",
       "      <td>-0.085427</td>\n",
       "      <td>0.026227</td>\n",
       "      <td>0.056337</td>\n",
       "      <td>0.030801</td>\n",
       "      <td>-0.582277</td>\n",
       "      <td>-0.395039</td>\n",
       "      <td>1.000000</td>\n",
       "      <td>-0.084007</td>\n",
       "      <td>0.030225</td>\n",
       "      <td>-0.030916</td>\n",
       "      <td>-0.050195</td>\n",
       "      <td>0.015092</td>\n",
       "      <td>0.014592</td>\n",
       "    </tr>\n",
       "    <tr>\n",
       "      <th>genre_prev</th>\n",
       "      <td>0.070911</td>\n",
       "      <td>0.064213</td>\n",
       "      <td>0.654386</td>\n",
       "      <td>-0.036981</td>\n",
       "      <td>0.148377</td>\n",
       "      <td>0.159586</td>\n",
       "      <td>0.065546</td>\n",
       "      <td>0.014394</td>\n",
       "      <td>-0.084007</td>\n",
       "      <td>1.000000</td>\n",
       "      <td>0.134538</td>\n",
       "      <td>-0.070925</td>\n",
       "      <td>-0.055893</td>\n",
       "      <td>0.132397</td>\n",
       "      <td>-0.062897</td>\n",
       "    </tr>\n",
       "    <tr>\n",
       "      <th>macro_genre_prev</th>\n",
       "      <td>-0.005163</td>\n",
       "      <td>0.030716</td>\n",
       "      <td>0.046903</td>\n",
       "      <td>0.353162</td>\n",
       "      <td>-0.034368</td>\n",
       "      <td>0.000913</td>\n",
       "      <td>-0.050239</td>\n",
       "      <td>0.024942</td>\n",
       "      <td>0.030225</td>\n",
       "      <td>0.134538</td>\n",
       "      <td>1.000000</td>\n",
       "      <td>-0.007310</td>\n",
       "      <td>-0.120318</td>\n",
       "      <td>-0.017281</td>\n",
       "      <td>-0.019016</td>\n",
       "    </tr>\n",
       "    <tr>\n",
       "      <th>series_popularity</th>\n",
       "      <td>0.096457</td>\n",
       "      <td>-0.060922</td>\n",
       "      <td>-0.117282</td>\n",
       "      <td>-0.084874</td>\n",
       "      <td>-0.142839</td>\n",
       "      <td>-0.121896</td>\n",
       "      <td>0.001971</td>\n",
       "      <td>0.030327</td>\n",
       "      <td>-0.030916</td>\n",
       "      <td>-0.070925</td>\n",
       "      <td>-0.007310</td>\n",
       "      <td>1.000000</td>\n",
       "      <td>0.215635</td>\n",
       "      <td>-0.137764</td>\n",
       "      <td>0.036414</td>\n",
       "    </tr>\n",
       "    <tr>\n",
       "      <th>genre_popularity</th>\n",
       "      <td>0.056404</td>\n",
       "      <td>-0.022396</td>\n",
       "      <td>-0.086947</td>\n",
       "      <td>-0.275663</td>\n",
       "      <td>0.113808</td>\n",
       "      <td>0.053562</td>\n",
       "      <td>0.054604</td>\n",
       "      <td>-0.008846</td>\n",
       "      <td>-0.050195</td>\n",
       "      <td>-0.055893</td>\n",
       "      <td>-0.120318</td>\n",
       "      <td>0.215635</td>\n",
       "      <td>1.000000</td>\n",
       "      <td>0.149638</td>\n",
       "      <td>0.033882</td>\n",
       "    </tr>\n",
       "    <tr>\n",
       "      <th>same_genre_percent_watched</th>\n",
       "      <td>0.024635</td>\n",
       "      <td>-0.083321</td>\n",
       "      <td>0.165740</td>\n",
       "      <td>-0.052311</td>\n",
       "      <td>0.353226</td>\n",
       "      <td>0.270216</td>\n",
       "      <td>-0.003458</td>\n",
       "      <td>-0.011984</td>\n",
       "      <td>0.015092</td>\n",
       "      <td>0.132397</td>\n",
       "      <td>-0.017281</td>\n",
       "      <td>-0.137764</td>\n",
       "      <td>0.149638</td>\n",
       "      <td>1.000000</td>\n",
       "      <td>0.027999</td>\n",
       "    </tr>\n",
       "    <tr>\n",
       "      <th>same_macro_genre_percent_watched</th>\n",
       "      <td>0.002851</td>\n",
       "      <td>-0.050960</td>\n",
       "      <td>-0.074307</td>\n",
       "      <td>-0.189515</td>\n",
       "      <td>0.020989</td>\n",
       "      <td>0.050231</td>\n",
       "      <td>-0.017451</td>\n",
       "      <td>0.004354</td>\n",
       "      <td>0.014592</td>\n",
       "      <td>-0.062897</td>\n",
       "      <td>-0.019016</td>\n",
       "      <td>0.036414</td>\n",
       "      <td>0.033882</td>\n",
       "      <td>0.027999</td>\n",
       "      <td>1.000000</td>\n",
       "    </tr>\n",
       "  </tbody>\n",
       "</table>\n",
       "</div>"
      ],
      "text/plain": [
       "                                  rewatched  total_consumption     genre  \\\n",
       "rewatched                          1.000000           0.033597  0.061650   \n",
       "total_consumption                  0.033597           1.000000  0.064693   \n",
       "genre                              0.061650           0.064693  1.000000   \n",
       "macro_genre                       -0.028773           0.031305  0.001648   \n",
       "same_previous_genre               -0.066094          -0.024739  0.172128   \n",
       "same_previous_macro_genre         -0.044383          -0.017678  0.173184   \n",
       "daytime                            0.040080           0.004714  0.072860   \n",
       "evening                            0.069203          -0.054507  0.007624   \n",
       "late_night                        -0.108730           0.046705 -0.085427   \n",
       "genre_prev                         0.070911           0.064213  0.654386   \n",
       "macro_genre_prev                  -0.005163           0.030716  0.046903   \n",
       "series_popularity                  0.096457          -0.060922 -0.117282   \n",
       "genre_popularity                   0.056404          -0.022396 -0.086947   \n",
       "same_genre_percent_watched         0.024635          -0.083321  0.165740   \n",
       "same_macro_genre_percent_watched   0.002851          -0.050960 -0.074307   \n",
       "\n",
       "                                  macro_genre  same_previous_genre  \\\n",
       "rewatched                           -0.028773            -0.066094   \n",
       "total_consumption                    0.031305            -0.024739   \n",
       "genre                                0.001648             0.172128   \n",
       "macro_genre                          1.000000            -0.074588   \n",
       "same_previous_genre                 -0.074588             1.000000   \n",
       "same_previous_macro_genre           -0.050776             0.782261   \n",
       "daytime                             -0.040441            -0.022589   \n",
       "evening                              0.018081            -0.033798   \n",
       "late_night                           0.026227             0.056337   \n",
       "genre_prev                          -0.036981             0.148377   \n",
       "macro_genre_prev                     0.353162            -0.034368   \n",
       "series_popularity                   -0.084874            -0.142839   \n",
       "genre_popularity                    -0.275663             0.113808   \n",
       "same_genre_percent_watched          -0.052311             0.353226   \n",
       "same_macro_genre_percent_watched    -0.189515             0.020989   \n",
       "\n",
       "                                  same_previous_macro_genre   daytime  \\\n",
       "rewatched                                         -0.044383  0.040080   \n",
       "total_consumption                                 -0.017678  0.004714   \n",
       "genre                                              0.173184  0.072860   \n",
       "macro_genre                                       -0.050776 -0.040441   \n",
       "same_previous_genre                                0.782261 -0.022589   \n",
       "same_previous_macro_genre                          1.000000 -0.011788   \n",
       "daytime                                           -0.011788  1.000000   \n",
       "evening                                           -0.019113 -0.516843   \n",
       "late_night                                         0.030801 -0.582277   \n",
       "genre_prev                                         0.159586  0.065546   \n",
       "macro_genre_prev                                   0.000913 -0.050239   \n",
       "series_popularity                                 -0.121896  0.001971   \n",
       "genre_popularity                                   0.053562  0.054604   \n",
       "same_genre_percent_watched                         0.270216 -0.003458   \n",
       "same_macro_genre_percent_watched                   0.050231 -0.017451   \n",
       "\n",
       "                                   evening  late_night  genre_prev  \\\n",
       "rewatched                         0.069203   -0.108730    0.070911   \n",
       "total_consumption                -0.054507    0.046705    0.064213   \n",
       "genre                             0.007624   -0.085427    0.654386   \n",
       "macro_genre                       0.018081    0.026227   -0.036981   \n",
       "same_previous_genre              -0.033798    0.056337    0.148377   \n",
       "same_previous_macro_genre        -0.019113    0.030801    0.159586   \n",
       "daytime                          -0.516843   -0.582277    0.065546   \n",
       "evening                           1.000000   -0.395039    0.014394   \n",
       "late_night                       -0.395039    1.000000   -0.084007   \n",
       "genre_prev                        0.014394   -0.084007    1.000000   \n",
       "macro_genre_prev                  0.024942    0.030225    0.134538   \n",
       "series_popularity                 0.030327   -0.030916   -0.070925   \n",
       "genre_popularity                 -0.008846   -0.050195   -0.055893   \n",
       "same_genre_percent_watched       -0.011984    0.015092    0.132397   \n",
       "same_macro_genre_percent_watched  0.004354    0.014592   -0.062897   \n",
       "\n",
       "                                  macro_genre_prev  series_popularity  \\\n",
       "rewatched                                -0.005163           0.096457   \n",
       "total_consumption                         0.030716          -0.060922   \n",
       "genre                                     0.046903          -0.117282   \n",
       "macro_genre                               0.353162          -0.084874   \n",
       "same_previous_genre                      -0.034368          -0.142839   \n",
       "same_previous_macro_genre                 0.000913          -0.121896   \n",
       "daytime                                  -0.050239           0.001971   \n",
       "evening                                   0.024942           0.030327   \n",
       "late_night                                0.030225          -0.030916   \n",
       "genre_prev                                0.134538          -0.070925   \n",
       "macro_genre_prev                          1.000000          -0.007310   \n",
       "series_popularity                        -0.007310           1.000000   \n",
       "genre_popularity                         -0.120318           0.215635   \n",
       "same_genre_percent_watched               -0.017281          -0.137764   \n",
       "same_macro_genre_percent_watched         -0.019016           0.036414   \n",
       "\n",
       "                                  genre_popularity  \\\n",
       "rewatched                                 0.056404   \n",
       "total_consumption                        -0.022396   \n",
       "genre                                    -0.086947   \n",
       "macro_genre                              -0.275663   \n",
       "same_previous_genre                       0.113808   \n",
       "same_previous_macro_genre                 0.053562   \n",
       "daytime                                   0.054604   \n",
       "evening                                  -0.008846   \n",
       "late_night                               -0.050195   \n",
       "genre_prev                               -0.055893   \n",
       "macro_genre_prev                         -0.120318   \n",
       "series_popularity                         0.215635   \n",
       "genre_popularity                          1.000000   \n",
       "same_genre_percent_watched                0.149638   \n",
       "same_macro_genre_percent_watched          0.033882   \n",
       "\n",
       "                                  same_genre_percent_watched  \\\n",
       "rewatched                                           0.024635   \n",
       "total_consumption                                  -0.083321   \n",
       "genre                                               0.165740   \n",
       "macro_genre                                        -0.052311   \n",
       "same_previous_genre                                 0.353226   \n",
       "same_previous_macro_genre                           0.270216   \n",
       "daytime                                            -0.003458   \n",
       "evening                                            -0.011984   \n",
       "late_night                                          0.015092   \n",
       "genre_prev                                          0.132397   \n",
       "macro_genre_prev                                   -0.017281   \n",
       "series_popularity                                  -0.137764   \n",
       "genre_popularity                                    0.149638   \n",
       "same_genre_percent_watched                          1.000000   \n",
       "same_macro_genre_percent_watched                    0.027999   \n",
       "\n",
       "                                  same_macro_genre_percent_watched  \n",
       "rewatched                                                 0.002851  \n",
       "total_consumption                                        -0.050960  \n",
       "genre                                                    -0.074307  \n",
       "macro_genre                                              -0.189515  \n",
       "same_previous_genre                                       0.020989  \n",
       "same_previous_macro_genre                                 0.050231  \n",
       "daytime                                                  -0.017451  \n",
       "evening                                                   0.004354  \n",
       "late_night                                                0.014592  \n",
       "genre_prev                                               -0.062897  \n",
       "macro_genre_prev                                         -0.019016  \n",
       "series_popularity                                         0.036414  \n",
       "genre_popularity                                          0.033882  \n",
       "same_genre_percent_watched                                0.027999  \n",
       "same_macro_genre_percent_watched                          1.000000  "
      ]
     },
     "execution_count": 78,
     "metadata": {},
     "output_type": "execute_result"
    }
   ],
   "source": [
    "data.corr()"
   ]
  },
  {
   "cell_type": "markdown",
   "metadata": {},
   "source": [
    "Comments on collinearity"
   ]
  },
  {
   "cell_type": "markdown",
   "metadata": {},
   "source": [
    "#### "
   ]
  },
  {
   "cell_type": "markdown",
   "metadata": {},
   "source": [
    "Comments"
   ]
  },
  {
   "cell_type": "markdown",
   "metadata": {},
   "source": [
    "## Revisions on original work plan"
   ]
  },
  {
   "cell_type": "code",
   "execution_count": 117,
   "metadata": {},
   "outputs": [
    {
     "data": {
      "text/plain": [
       "<seaborn.axisgrid.FacetGrid at 0x13929a58>"
      ]
     },
     "execution_count": 117,
     "metadata": {},
     "output_type": "execute_result"
    },
    {
     "data": {
      "image/png": "[encoded data removed]",
      "text/plain": [
       "<matplotlib.figure.Figure at 0x11689438>"
      ]
     },
     "metadata": {},
     "output_type": "display_data"
    }
   ],
   "source": [
    "import seaborn as sb\n",
    "%matplotlib inline\n",
    "\n",
    "p = sb.factorplot(x='time_of_day', \n",
    "              y='rewatched',\n",
    "              kind='bar',\n",
    "              data = data,\n",
    "              size = 8,\n",
    "              estimator=len\n",
    "            )\n",
    "p.set_xticklabels(rotation=45, horizontalalignment='right')"
   ]
  },
  {
   "cell_type": "code",
   "execution_count": 118,
   "metadata": {},
   "outputs": [
    {
     "data": {
      "text/plain": [
       "<seaborn.axisgrid.FacetGrid at 0x146e2e10>"
      ]
     },
     "execution_count": 118,
     "metadata": {},
     "output_type": "execute_result"
    },
    {
     "data": {
      "image/png": "[encoded data removed]",
      "text/plain": [
       "<matplotlib.figure.Figure at 0x146e2668>"
      ]
     },
     "metadata": {},
     "output_type": "display_data"
    }
   ],
   "source": [
    "p = sb.factorplot(x='time_of_day', \n",
    "              y='rewatched',\n",
    "              kind='bar',\n",
    "              data = data,\n",
    "              size = 8\n",
    "            )\n",
    "p.set_xticklabels(rotation=45, horizontalalignment='right')"
   ]
  },
  {
   "cell_type": "markdown",
   "metadata": {},
   "source": [
    "#### "
   ]
  },
  {
   "cell_type": "code",
   "execution_count": 119,
   "metadata": {},
   "outputs": [
    {
     "data": {
      "text/plain": [
       "<seaborn.axisgrid.FacetGrid at 0x10a50128>"
      ]
     },
     "execution_count": 119,
     "metadata": {},
     "output_type": "execute_result"
    },
    {
     "data": {
      "image/png": "[encoded data removed]",
      "text/plain": [
       "<matplotlib.figure.Figure at 0x13797be0>"
      ]
     },
     "metadata": {},
     "output_type": "display_data"
    }
   ],
   "source": [
    "p = sb.factorplot(x='macro_genre', \n",
    "              y='rewatched',\n",
    "              kind='bar',\n",
    "              data = data,\n",
    "              size = 8,\n",
    "              estimator=len\n",
    "            )\n",
    "p.set_xticklabels(rotation=45, horizontalalignment='right')"
   ]
  },
  {
   "cell_type": "code",
   "execution_count": 120,
   "metadata": {},
   "outputs": [
    {
     "data": {
      "text/plain": [
       "<seaborn.axisgrid.FacetGrid at 0x13ac7390>"
      ]
     },
     "execution_count": 120,
     "metadata": {},
     "output_type": "execute_result"
    },
    {
     "data": {
      "image/png": "[encoded data removed]",
      "text/plain": [
       "<matplotlib.figure.Figure at 0x13ac72e8>"
      ]
     },
     "metadata": {},
     "output_type": "display_data"
    }
   ],
   "source": [
    "p = sb.factorplot(x='macro_genre', \n",
    "              y='rewatched',\n",
    "              kind='bar',\n",
    "              data = data,\n",
    "              size = 8\n",
    "            )\n",
    "p.set_xticklabels(rotation=45, horizontalalignment='right')"
   ]
  },
  {
   "cell_type": "markdown",
   "metadata": {},
   "source": []
  },
  {
   "cell_type": "markdown",
   "metadata": {},
   "source": [
    "p = sb.factorplot(x='macro_genre', \n",
    "              y='rewatched',\n",
    "              kind='bar',\n",
    "              data = data,\n",
    "              size = 8,\n",
    "              estimator=len\n",
    "            )\n",
    "p.set_xticklabels(rotation=45, horizontalalignment='right')"
   ]
  },
  {
   "cell_type": "code",
   "execution_count": 116,
   "metadata": {},
   "outputs": [
    {
     "data": {
      "text/plain": [
       "<seaborn.axisgrid.FacetGrid at 0x13665908>"
      ]
     },
     "execution_count": 116,
     "metadata": {},
     "output_type": "execute_result"
    },
    {
     "data": {
      "image/png": "[encoded data removed]",
      "text/plain": [
       "<matplotlib.figure.Figure at 0x280ef6a0>"
      ]
     },
     "metadata": {},
     "output_type": "display_data"
    }
   ],
   "source": [
    "p = sb.factorplot(x='genre', \n",
    "              y='rewatched',\n",
    "              kind='bar',\n",
    "              data = data,\n",
    "              size = 8,\n",
    "              estimator=len\n",
    "            )\n",
    "p.set_xticklabels(rotation=45, horizontalalignment='right')"
   ]
  },
  {
   "cell_type": "code",
   "execution_count": 115,
   "metadata": {},
   "outputs": [
    {
     "data": {
      "text/plain": [
       "<seaborn.axisgrid.FacetGrid at 0x28abe320>"
      ]
     },
     "execution_count": 115,
     "metadata": {},
     "output_type": "execute_result"
    },
    {
     "data": {
      "image/png": "[encoded data removed]",
      "text/plain": [
       "<matplotlib.figure.Figure at 0x28abe198>"
      ]
     },
     "metadata": {},
     "output_type": "display_data"
    }
   ],
   "source": [
    "p = sb.factorplot(x='genre', \n",
    "              y='rewatched',\n",
    "              kind='bar',\n",
    "              data = data,\n",
    "              size = 8\n",
    "            )\n",
    "p.set_xticklabels(rotation=45, horizontalalignment='right')"
   ]
  },
  {
   "cell_type": "markdown",
   "metadata": {},
   "source": []
  },
  {
   "cell_type": "markdown",
   "metadata": {},
   "source": [
    "# Random Forest"
   ]
  },
  {
   "cell_type": "code",
   "execution_count": 131,
   "metadata": {},
   "outputs": [],
   "source": [
    "from sklearn.tree import DecisionTreeClassifier\n",
    "\n",
    "model = DecisionTreeClassifier()\n",
    "\n",
    "model.fit(X, y)\n",
    "\n",
    "from sklearn.tree import export_graphviz\n",
    "from os import system \n",
    "def build_tree_image(model):\n",
    "    dotfile = open(\"tree.dot\", 'w')\n",
    "    export_graphviz(model,\n",
    "                              out_file = dotfile,\n",
    "                              feature_names = X.columns)\n",
    "    dotfile.close()\n",
    "    system(\"dot -Tpng tree.dot -o tree.png\")\n",
    "    \n",
    "build_tree_image(model)"
   ]
  },
  {
   "cell_type": "code",
   "execution_count": 135,
   "metadata": {},
   "outputs": [
    {
     "name": "stdout",
     "output_type": "stream",
     "text": [
      "CV AUC [ 0.55260584  0.5575273   0.55629121  0.5540491   0.54342814], Average AUC 0.552780317303\n"
     ]
    }
   ],
   "source": [
    "from sklearn.cross_validation import cross_val_score\n",
    "scores = cross_val_score(model, X, y, scoring='roc_auc', cv=5)\n",
    "print('CV AUC {}, Average AUC {}'.format(scores, scores.mean()))"
   ]
  },
  {
   "cell_type": "code",
   "execution_count": 136,
   "metadata": {
    "collapsed": true
   },
   "outputs": [],
   "source": [
    "model = DecisionTreeClassifier(\n",
    "                max_depth = 2,\n",
    "                min_samples_leaf = 5)\n",
    "\n",
    "model.fit(X, y)\n",
    "build_tree_image(model)"
   ]
  },
  {
   "cell_type": "code",
   "execution_count": 137,
   "metadata": {},
   "outputs": [
    {
     "data": {
      "text/plain": [
       "RandomForestClassifier(bootstrap=True, class_weight=None, criterion='gini',\n",
       "            max_depth=None, max_features='auto', max_leaf_nodes=None,\n",
       "            min_impurity_decrease=0.0, min_impurity_split=None,\n",
       "            min_samples_leaf=1, min_samples_split=2,\n",
       "            min_weight_fraction_leaf=0.0, n_estimators=20, n_jobs=1,\n",
       "            oob_score=False, random_state=None, verbose=0,\n",
       "            warm_start=False)"
      ]
     },
     "execution_count": 137,
     "metadata": {},
     "output_type": "execute_result"
    }
   ],
   "source": [
    "from sklearn.ensemble import RandomForestClassifier\n",
    "\n",
    "model = RandomForestClassifier(n_estimators = 20)\n",
    "    \n",
    "model.fit(X, y)"
   ]
  },
  {
   "cell_type": "code",
   "execution_count": 140,
   "metadata": {},
   "outputs": [
    {
     "data": {
      "text/html": [
       "<div>\n",
       "<style>\n",
       "    .dataframe thead tr:only-child th {\n",
       "        text-align: right;\n",
       "    }\n",
       "\n",
       "    .dataframe thead th {\n",
       "        text-align: left;\n",
       "    }\n",
       "\n",
       "    .dataframe tbody tr th {\n",
       "        vertical-align: top;\n",
       "    }\n",
       "</style>\n",
       "<table border=\"1\" class=\"dataframe\">\n",
       "  <thead>\n",
       "    <tr style=\"text-align: right;\">\n",
       "      <th></th>\n",
       "      <th>Features</th>\n",
       "      <th>Importance Score</th>\n",
       "    </tr>\n",
       "  </thead>\n",
       "  <tbody>\n",
       "    <tr>\n",
       "      <th>1</th>\n",
       "      <td>total_consumption</td>\n",
       "      <td>0.424335</td>\n",
       "    </tr>\n",
       "    <tr>\n",
       "      <th>3</th>\n",
       "      <td>same_macro_genre_percent_watched</td>\n",
       "      <td>0.307899</td>\n",
       "    </tr>\n",
       "    <tr>\n",
       "      <th>4</th>\n",
       "      <td>series_popularity</td>\n",
       "      <td>0.193351</td>\n",
       "    </tr>\n",
       "    <tr>\n",
       "      <th>5</th>\n",
       "      <td>genre_popularity</td>\n",
       "      <td>0.041217</td>\n",
       "    </tr>\n",
       "    <tr>\n",
       "      <th>2</th>\n",
       "      <td>same_previous_macro_genre</td>\n",
       "      <td>0.009169</td>\n",
       "    </tr>\n",
       "    <tr>\n",
       "      <th>6</th>\n",
       "      <td>daytime</td>\n",
       "      <td>0.007890</td>\n",
       "    </tr>\n",
       "    <tr>\n",
       "      <th>7</th>\n",
       "      <td>evening</td>\n",
       "      <td>0.007158</td>\n",
       "    </tr>\n",
       "    <tr>\n",
       "      <th>10</th>\n",
       "      <td>35</td>\n",
       "      <td>0.003716</td>\n",
       "    </tr>\n",
       "    <tr>\n",
       "      <th>9</th>\n",
       "      <td>34</td>\n",
       "      <td>0.002772</td>\n",
       "    </tr>\n",
       "    <tr>\n",
       "      <th>8</th>\n",
       "      <td>33</td>\n",
       "      <td>0.002492</td>\n",
       "    </tr>\n",
       "  </tbody>\n",
       "</table>\n",
       "</div>"
      ],
      "text/plain": [
       "                            Features  Importance Score\n",
       "1                  total_consumption          0.424335\n",
       "3   same_macro_genre_percent_watched          0.307899\n",
       "4                  series_popularity          0.193351\n",
       "5                   genre_popularity          0.041217\n",
       "2          same_previous_macro_genre          0.009169\n",
       "6                            daytime          0.007890\n",
       "7                            evening          0.007158\n",
       "10                                35          0.003716\n",
       "9                                 34          0.002772\n",
       "8                                 33          0.002492"
      ]
     },
     "execution_count": 140,
     "metadata": {},
     "output_type": "execute_result"
    }
   ],
   "source": [
    "features = X.columns\n",
    "feature_importances = model.feature_importances_\n",
    "\n",
    "features_df = pd.DataFrame({'Features': features, 'Importance Score': feature_importances})\n",
    "features_df.sort_values('Importance Score', inplace=True, ascending=False)\n",
    "\n",
    "features_df.head(10)"
   ]
  },
  {
   "cell_type": "code",
   "execution_count": 141,
   "metadata": {},
   "outputs": [
    {
     "name": "stdout",
     "output_type": "stream",
     "text": [
      "CV AUC [ 0.62780268  0.63031889  0.6153364 ], Average AUC 0.624485987897\n",
      "n trees: 1, CV AUC [ 0.54771236  0.54586377  0.54043107], Average AUC 0.544669067738\n",
      "n trees: 11, CV AUC [ 0.62174978  0.6198834   0.60670818], Average AUC 0.616113786962\n",
      "n trees: 21, CV AUC [ 0.6287753   0.6308413   0.61342149], Average AUC 0.624346028704\n",
      "n trees: 31, CV AUC [ 0.63196009  0.63574403  0.6182381 ], Average AUC 0.628647405073\n",
      "n trees: 41, CV AUC [ 0.63398674  0.63607497  0.61977586], Average AUC 0.629945853563\n",
      "n trees: 51, CV AUC [ 0.63679308  0.63789074  0.62203756], Average AUC 0.632240461475\n",
      "n trees: 61, CV AUC [ 0.63682028  0.63740866  0.62357176], Average AUC 0.632600230402\n",
      "n trees: 71, CV AUC [ 0.63796455  0.63740721  0.62466851], Average AUC 0.633346756534\n",
      "n trees: 81, CV AUC [ 0.63892558  0.6387651   0.62405799], Average AUC 0.633916221457\n",
      "n trees: 91, CV AUC [ 0.63870589  0.63973091  0.62445006], Average AUC 0.634295618923\n"
     ]
    }
   ],
   "source": [
    "from sklearn.cross_validation import cross_val_score\n",
    "\n",
    "scores = cross_val_score(model, X, y, scoring='roc_auc')\n",
    "print('CV AUC {}, Average AUC {}'.format(scores, scores.mean()))\n",
    "\n",
    "for n_trees in range(1, 100, 10):\n",
    "    model = RandomForestClassifier(n_estimators = n_trees)\n",
    "    scores = cross_val_score(model, X, y, scoring='roc_auc')\n",
    "    print('n trees: {}, CV AUC {}, Average AUC {}'.format(n_trees, scores, scores.mean()))"
   ]
  },
  {
   "cell_type": "markdown",
   "metadata": {},
   "source": [
    "## Additional edits and analysis"
   ]
  },
  {
   "cell_type": "code",
   "execution_count": 146,
   "metadata": {
    "collapsed": true
   },
   "outputs": [],
   "source": [
    "genre_dummy = (pd.get_dummies(data['genre']))\n",
    "macro_genre_dummy = (pd.get_dummies(data['macro_genre']))\n",
    "data = data.join(genre_dummy).join(macro_genre_dummy)"
   ]
  },
  {
   "cell_type": "code",
   "execution_count": 147,
   "metadata": {
    "collapsed": true
   },
   "outputs": [],
   "source": [
    "log_vars = data[['series_popularity','genre_popularity']]\n",
    "log_vars = log_vars.apply(np.log10)\n",
    "data['series_popularity'] = log_vars['series_popularity']\n",
    "data['genre_popularity'] = log_vars['genre_popularity']"
   ]
  },
  {
   "cell_type": "code",
   "execution_count": 97,
   "metadata": {},
   "outputs": [
    {
     "data": {
      "text/html": [
       "<div>\n",
       "<style>\n",
       "    .dataframe thead tr:only-child th {\n",
       "        text-align: right;\n",
       "    }\n",
       "\n",
       "    .dataframe thead th {\n",
       "        text-align: left;\n",
       "    }\n",
       "\n",
       "    .dataframe tbody tr th {\n",
       "        vertical-align: top;\n",
       "    }\n",
       "</style>\n",
       "<table border=\"1\" class=\"dataframe\">\n",
       "  <thead>\n",
       "    <tr style=\"text-align: right;\">\n",
       "      <th></th>\n",
       "      <th>33</th>\n",
       "      <th>34</th>\n",
       "      <th>35</th>\n",
       "      <th>36</th>\n",
       "    </tr>\n",
       "  </thead>\n",
       "  <tbody>\n",
       "    <tr>\n",
       "      <th>33</th>\n",
       "      <td>1.000000</td>\n",
       "      <td>-0.338037</td>\n",
       "      <td>-0.467546</td>\n",
       "      <td>-0.317954</td>\n",
       "    </tr>\n",
       "    <tr>\n",
       "      <th>34</th>\n",
       "      <td>-0.338037</td>\n",
       "      <td>1.000000</td>\n",
       "      <td>-0.325361</td>\n",
       "      <td>-0.221262</td>\n",
       "    </tr>\n",
       "    <tr>\n",
       "      <th>35</th>\n",
       "      <td>-0.467546</td>\n",
       "      <td>-0.325361</td>\n",
       "      <td>1.000000</td>\n",
       "      <td>-0.306032</td>\n",
       "    </tr>\n",
       "    <tr>\n",
       "      <th>36</th>\n",
       "      <td>-0.317954</td>\n",
       "      <td>-0.221262</td>\n",
       "      <td>-0.306032</td>\n",
       "      <td>1.000000</td>\n",
       "    </tr>\n",
       "  </tbody>\n",
       "</table>\n",
       "</div>"
      ],
      "text/plain": [
       "          33        34        35        36\n",
       "33  1.000000 -0.338037 -0.467546 -0.317954\n",
       "34 -0.338037  1.000000 -0.325361 -0.221262\n",
       "35 -0.467546 -0.325361  1.000000 -0.306032\n",
       "36 -0.317954 -0.221262 -0.306032  1.000000"
      ]
     },
     "execution_count": 97,
     "metadata": {},
     "output_type": "execute_result"
    }
   ],
   "source": [
    "data[[33,34,35,36]].corr()"
   ]
  },
  {
   "cell_type": "markdown",
   "metadata": {},
   "source": [
    "## Logistic Regression"
   ]
  },
  {
   "cell_type": "code",
   "execution_count": 148,
   "metadata": {},
   "outputs": [
    {
     "name": "stdout",
     "output_type": "stream",
     "text": [
      "Optimization terminated successfully.\n",
      "         Current function value: 0.580085\n",
      "         Iterations 5\n",
      "0.280792905462\n"
     ]
    },
    {
     "data": {
      "text/html": [
       "<table class=\"simpletable\">\n",
       "<caption>Logit Regression Results</caption>\n",
       "<tr>\n",
       "  <th>Dep. Variable:</th>     <td>rewatched</td>    <th>  No. Observations:  </th>   <td>173993</td>   \n",
       "</tr>\n",
       "<tr>\n",
       "  <th>Model:</th>               <td>Logit</td>      <th>  Df Residuals:      </th>   <td>173982</td>   \n",
       "</tr>\n",
       "<tr>\n",
       "  <th>Method:</th>               <td>MLE</td>       <th>  Df Model:          </th>   <td>    10</td>   \n",
       "</tr>\n",
       "<tr>\n",
       "  <th>Date:</th>          <td>Sun, 22 Oct 2017</td> <th>  Pseudo R-squ.:     </th>   <td>0.02293</td>  \n",
       "</tr>\n",
       "<tr>\n",
       "  <th>Time:</th>              <td>17:47:28</td>     <th>  Log-Likelihood:    </th> <td>-1.0093e+05</td>\n",
       "</tr>\n",
       "<tr>\n",
       "  <th>converged:</th>           <td>True</td>       <th>  LL-Null:           </th> <td>-1.0330e+05</td>\n",
       "</tr>\n",
       "<tr>\n",
       "  <th> </th>                      <td> </td>        <th>  LLR p-value:       </th>   <td> 0.000</td>   \n",
       "</tr>\n",
       "</table>\n",
       "<table class=\"simpletable\">\n",
       "<tr>\n",
       "                  <td></td>                    <th>coef</th>     <th>std err</th>      <th>z</th>      <th>P>|z|</th>  <th>[0.025</th>    <th>0.975]</th>  \n",
       "</tr>\n",
       "<tr>\n",
       "  <th>const</th>                            <td>   -3.7004</td> <td>    0.101</td> <td>  -36.519</td> <td> 0.000</td> <td>   -3.899</td> <td>   -3.502</td>\n",
       "</tr>\n",
       "<tr>\n",
       "  <th>total_consumption</th>                <td> 2.196e-05</td> <td> 1.05e-06</td> <td>   20.922</td> <td> 0.000</td> <td> 1.99e-05</td> <td>  2.4e-05</td>\n",
       "</tr>\n",
       "<tr>\n",
       "  <th>same_previous_macro_genre</th>        <td>   -0.1515</td> <td>    0.011</td> <td>  -13.533</td> <td> 0.000</td> <td>   -0.173</td> <td>   -0.130</td>\n",
       "</tr>\n",
       "<tr>\n",
       "  <th>same_macro_genre_percent_watched</th> <td>   -0.0719</td> <td>    0.019</td> <td>   -3.769</td> <td> 0.000</td> <td>   -0.109</td> <td>   -0.034</td>\n",
       "</tr>\n",
       "<tr>\n",
       "  <th>series_popularity</th>                <td>    0.2655</td> <td>    0.008</td> <td>   33.266</td> <td> 0.000</td> <td>    0.250</td> <td>    0.281</td>\n",
       "</tr>\n",
       "<tr>\n",
       "  <th>genre_popularity</th>                 <td>    0.1990</td> <td>    0.019</td> <td>   10.311</td> <td> 0.000</td> <td>    0.161</td> <td>    0.237</td>\n",
       "</tr>\n",
       "<tr>\n",
       "  <th>daytime</th>                          <td>    0.5053</td> <td>    0.013</td> <td>   37.663</td> <td> 0.000</td> <td>    0.479</td> <td>    0.532</td>\n",
       "</tr>\n",
       "<tr>\n",
       "  <th>evening</th>                          <td>    0.6555</td> <td>    0.015</td> <td>   44.454</td> <td> 0.000</td> <td>    0.627</td> <td>    0.684</td>\n",
       "</tr>\n",
       "<tr>\n",
       "  <th>33</th>                               <td>    0.2085</td> <td>    0.017</td> <td>   12.186</td> <td> 0.000</td> <td>    0.175</td> <td>    0.242</td>\n",
       "</tr>\n",
       "<tr>\n",
       "  <th>34</th>                               <td>    0.4280</td> <td>    0.019</td> <td>   22.696</td> <td> 0.000</td> <td>    0.391</td> <td>    0.465</td>\n",
       "</tr>\n",
       "<tr>\n",
       "  <th>35</th>                               <td>    0.3016</td> <td>    0.017</td> <td>   17.561</td> <td> 0.000</td> <td>    0.268</td> <td>    0.335</td>\n",
       "</tr>\n",
       "</table>"
      ],
      "text/plain": [
       "<class 'statsmodels.iolib.summary.Summary'>\n",
       "\"\"\"\n",
       "                           Logit Regression Results                           \n",
       "==============================================================================\n",
       "Dep. Variable:              rewatched   No. Observations:               173993\n",
       "Model:                          Logit   Df Residuals:                   173982\n",
       "Method:                           MLE   Df Model:                           10\n",
       "Date:                Sun, 22 Oct 2017   Pseudo R-squ.:                 0.02293\n",
       "Time:                        17:47:28   Log-Likelihood:            -1.0093e+05\n",
       "converged:                       True   LL-Null:                   -1.0330e+05\n",
       "                                        LLR p-value:                     0.000\n",
       "====================================================================================================\n",
       "                                       coef    std err          z      P>|z|      [0.025      0.975]\n",
       "----------------------------------------------------------------------------------------------------\n",
       "const                               -3.7004      0.101    -36.519      0.000      -3.899      -3.502\n",
       "total_consumption                 2.196e-05   1.05e-06     20.922      0.000    1.99e-05     2.4e-05\n",
       "same_previous_macro_genre           -0.1515      0.011    -13.533      0.000      -0.173      -0.130\n",
       "same_macro_genre_percent_watched    -0.0719      0.019     -3.769      0.000      -0.109      -0.034\n",
       "series_popularity                    0.2655      0.008     33.266      0.000       0.250       0.281\n",
       "genre_popularity                     0.1990      0.019     10.311      0.000       0.161       0.237\n",
       "daytime                              0.5053      0.013     37.663      0.000       0.479       0.532\n",
       "evening                              0.6555      0.015     44.454      0.000       0.627       0.684\n",
       "33                                   0.2085      0.017     12.186      0.000       0.175       0.242\n",
       "34                                   0.4280      0.019     22.696      0.000       0.391       0.465\n",
       "35                                   0.3016      0.017     17.561      0.000       0.268       0.335\n",
       "====================================================================================================\n",
       "\"\"\""
      ]
     },
     "execution_count": 148,
     "metadata": {},
     "output_type": "execute_result"
    }
   ],
   "source": [
    "X = data[['total_consumption','same_previous_macro_genre','same_macro_genre_percent_watched','series_popularity','genre_popularity','daytime','evening',33,34,35]]\n",
    "X = sm.add_constant(X)\n",
    "y = data['rewatched']\n",
    "lm2 = sm.Logit(y, X)\n",
    "result2 = lm2.fit()\n",
    "print data.rewatched.mean()\n",
    "result2.summary()"
   ]
  },
  {
   "cell_type": "code",
   "execution_count": 99,
   "metadata": {},
   "outputs": [
    {
     "name": "stdout",
     "output_type": "stream",
     "text": [
      "const                               0.024715\n",
      "total_consumption                   1.000022\n",
      "same_previous_macro_genre           0.859405\n",
      "same_macro_genre_percent_watched    0.930651\n",
      "series_popularity                   1.304132\n",
      "genre_popularity                    1.220149\n",
      "daytime                             1.657414\n",
      "evening                             1.926076\n",
      "33                                  1.231777\n",
      "34                                  1.534248\n",
      "35                                  1.352074\n",
      "dtype: float64\n"
     ]
    }
   ],
   "source": [
    "print np.exp(result2.params)"
   ]
  },
  {
   "cell_type": "code",
   "execution_count": 100,
   "metadata": {},
   "outputs": [
    {
     "name": "stdout",
     "output_type": "stream",
     "text": [
      "                                      2.5%     97.5%        OR\n",
      "const                             0.020263  0.030144  0.024715\n",
      "total_consumption                 1.000020  1.000024  1.000022\n",
      "same_previous_macro_genre         0.840752  0.878471  0.859405\n",
      "same_macro_genre_percent_watched  0.896513  0.966088  0.930651\n",
      "series_popularity                 1.283887  1.324695  1.304132\n",
      "genre_popularity                  1.174864  1.267180  1.220149\n",
      "daytime                           1.614403  1.701571  1.657414\n",
      "evening                           1.871208  1.982553  1.926076\n",
      "33                                1.191164  1.273775  1.231777\n",
      "34                                1.478570  1.592022  1.534248\n",
      "35                                1.307314  1.398366  1.352074\n"
     ]
    }
   ],
   "source": [
    "params = result2.params\n",
    "conf = result2.conf_int()\n",
    "conf['OR'] = params\n",
    "conf.columns = ['2.5%', '97.5%', 'OR']\n",
    "print np.exp(conf)"
   ]
  },
  {
   "cell_type": "code",
   "execution_count": 101,
   "metadata": {},
   "outputs": [
    {
     "name": "stdout",
     "output_type": "stream",
     "text": [
      "[ 0.          0.63087582  1.26175165  1.89262747  2.52350329  3.15437911\n",
      "  3.78525494  4.41613076  5.04700658  5.67788241]\n",
      "[ 3.70526486  3.92882924  4.15239361  4.37595799  4.59952237  4.82308674\n",
      "  5.04665112  5.27021549  5.49377987  5.71734424]\n",
      "[     0.           6039.12504444  12078.25008889  18117.37513333\n",
      "  24156.50017778  30195.62522222  36234.75026667  42273.87531111\n",
      "  48313.00035556  54352.1254    ]\n",
      "[ 0.          0.11111111  0.22222222  0.33333333  0.44444444  0.55555556\n",
      "  0.66666667  0.77777778  0.88888889  1.        ]\n"
     ]
    }
   ],
   "source": [
    "series_pop = np.linspace(data['series_popularity'].min(), data['series_popularity'].max(), 10)\n",
    "genre_pop = np.linspace(data['genre_popularity'].min(), data['genre_popularity'].max(), 10)\n",
    "tot_cons = np.linspace(data['total_consumption'].min(), data['total_consumption'].max(), 10)\n",
    "sm_pw = np.linspace(data['same_macro_genre_percent_watched'].min(), data['same_macro_genre_percent_watched'].max(), 10)\n",
    "print series_pop\n",
    "print genre_pop\n",
    "print tot_cons\n",
    "print sm_pw"
   ]
  },
  {
   "cell_type": "code",
   "execution_count": 102,
   "metadata": {
    "collapsed": true
   },
   "outputs": [],
   "source": [
    "def cartesian2(arrays):\n",
    "    arrays = [np.asarray(a) for a in arrays]\n",
    "    shape = (len(x) for x in arrays)\n",
    "\n",
    "    ix = np.indices(shape, dtype=int)\n",
    "    ix = ix.reshape(len(arrays), -1).T\n",
    "\n",
    "    for n, arr in enumerate(arrays):\n",
    "        ix[:, n] = arrays[n][ix[:, n]]\n",
    "\n",
    "    return ix"
   ]
  },
  {
   "cell_type": "code",
   "execution_count": 103,
   "metadata": {},
   "outputs": [],
   "source": [
    "combos = pd.DataFrame(cartesian2([series_pop, genre_pop,tot_cons, sm_pw, [0,1],[0,1],[0,1],[0,1],[0,1],[0,1],[1.]]))\n",
    "# recreate the dummy variables\n",
    "combos.columns = ['series_popularity', 'genre_popularity','total_consumption','same_macro_genre_percent_watched','same_previous_macro_genre',33,34,35,'daytime','evening','const']\n",
    "\n",
    "combos['rewatch_pred'] = result2.predict(combos)\n",
    "combos['macro_genre'] = np.where(combos[33] == 1, 33,np.where(combos[34] == 1,34,np.where(combos[35] == 1,35,36)))"
   ]
  },
  {
   "cell_type": "code",
   "execution_count": 104,
   "metadata": {
    "collapsed": true
   },
   "outputs": [],
   "source": [
    "def isolate_and_plot(variable):\n",
    "    \n",
    "    grouped = pd.pivot_table(combos, values=['rewatch_pred'], index=[variable, 'macro_genre'],\n",
    "                            aggfunc=np.mean)\n",
    "\n",
    "    colors = 'rbgyrbgyrbgyrbgyrbgyrbgyrbgyrbgyrbgyrbgyrbgyrbgyrbgyrbgyrbgyrbgyrbgyrbgy'\n",
    "    for col in combos.macro_genre.unique():\n",
    "        plt_data = grouped.ix[grouped.index.get_level_values(1)==col]\n",
    "        pl.plot(plt_data.index.get_level_values(0), plt_data['rewatch_pred'],\n",
    "                color=colors[int(col)])\n",
    "\n",
    "    pl.xlabel(variable)\n",
    "    pl.ylabel(\"P(rewatch=1)\")\n",
    "    pl.legend(['36', '33', '34', '35'], loc='upper left', title='Macro-Genre')\n",
    "    pl.title(\"Prob(rewatch=1) isolating \" + variable + \" and Macro-Genre\")\n",
    "    pl.show()\n"
   ]
  },
  {
   "cell_type": "code",
   "execution_count": 65,
   "metadata": {},
   "outputs": [
    {
     "name": "stderr",
     "output_type": "stream",
     "text": [
      "C:\\Users\\emanuele.rusina\\AppData\\Local\\Continuum\\Anaconda2\\lib\\site-packages\\ipykernel_launcher.py:19: DeprecationWarning: \n",
      ".ix is deprecated. Please use\n",
      ".loc for label based indexing or\n",
      ".iloc for positional indexing\n",
      "\n",
      "See the documentation here:\n",
      "http://pandas.pydata.org/pandas-docs/stable/indexing.html#ix-indexer-is-deprecated\n"
     ]
    },
    {
     "data": {
      "image/png": "[encoded data removed]",
      "text/plain": [
       "<matplotlib.figure.Figure at 0x13ee7320>"
      ]
     },
     "metadata": {},
     "output_type": "display_data"
    },
    {
     "data": {
      "image/png": "[encoded data removed]",
      "text/plain": [
       "<matplotlib.figure.Figure at 0xd373ef0>"
      ]
     },
     "metadata": {},
     "output_type": "display_data"
    }
   ],
   "source": [
    "isolate_and_plot('genre_popularity')\n",
    "isolate_and_plot('series_popularity')"
   ]
  },
  {
   "cell_type": "code",
   "execution_count": null,
   "metadata": {
    "collapsed": true
   },
   "outputs": [],
   "source": []
  },
  {
   "cell_type": "markdown",
   "metadata": {},
   "source": [
    "### Logistic Regression"
   ]
  },
  {
   "cell_type": "code",
   "execution_count": 152,
   "metadata": {},
   "outputs": [
    {
     "data": {
      "text/html": [
       "<div>\n",
       "<style>\n",
       "    .dataframe thead tr:only-child th {\n",
       "        text-align: right;\n",
       "    }\n",
       "\n",
       "    .dataframe thead th {\n",
       "        text-align: left;\n",
       "    }\n",
       "\n",
       "    .dataframe tbody tr th {\n",
       "        vertical-align: top;\n",
       "    }\n",
       "</style>\n",
       "<table border=\"1\" class=\"dataframe\">\n",
       "  <thead>\n",
       "    <tr style=\"text-align: right;\">\n",
       "      <th></th>\n",
       "      <th>rewatched</th>\n",
       "      <th>total_consumption</th>\n",
       "      <th>genre</th>\n",
       "      <th>macro_genre</th>\n",
       "      <th>same_previous_genre</th>\n",
       "      <th>same_previous_macro_genre</th>\n",
       "      <th>time_of_day</th>\n",
       "      <th>daytime</th>\n",
       "      <th>evening</th>\n",
       "      <th>late_night</th>\n",
       "      <th>...</th>\n",
       "      <th>26</th>\n",
       "      <th>27</th>\n",
       "      <th>28</th>\n",
       "      <th>29</th>\n",
       "      <th>30</th>\n",
       "      <th>31</th>\n",
       "      <th>33</th>\n",
       "      <th>34</th>\n",
       "      <th>35</th>\n",
       "      <th>36</th>\n",
       "    </tr>\n",
       "  </thead>\n",
       "  <tbody>\n",
       "    <tr>\n",
       "      <th>0</th>\n",
       "      <td>1</td>\n",
       "      <td>1296.681883</td>\n",
       "      <td>27</td>\n",
       "      <td>34</td>\n",
       "      <td>0</td>\n",
       "      <td>0</td>\n",
       "      <td>late_night</td>\n",
       "      <td>0</td>\n",
       "      <td>0</td>\n",
       "      <td>1</td>\n",
       "      <td>...</td>\n",
       "      <td>0</td>\n",
       "      <td>1</td>\n",
       "      <td>0</td>\n",
       "      <td>0</td>\n",
       "      <td>0</td>\n",
       "      <td>0</td>\n",
       "      <td>0</td>\n",
       "      <td>1</td>\n",
       "      <td>0</td>\n",
       "      <td>0</td>\n",
       "    </tr>\n",
       "    <tr>\n",
       "      <th>1</th>\n",
       "      <td>0</td>\n",
       "      <td>6099.655533</td>\n",
       "      <td>14</td>\n",
       "      <td>35</td>\n",
       "      <td>1</td>\n",
       "      <td>1</td>\n",
       "      <td>daytime</td>\n",
       "      <td>1</td>\n",
       "      <td>0</td>\n",
       "      <td>0</td>\n",
       "      <td>...</td>\n",
       "      <td>0</td>\n",
       "      <td>0</td>\n",
       "      <td>0</td>\n",
       "      <td>0</td>\n",
       "      <td>0</td>\n",
       "      <td>0</td>\n",
       "      <td>0</td>\n",
       "      <td>0</td>\n",
       "      <td>1</td>\n",
       "      <td>0</td>\n",
       "    </tr>\n",
       "    <tr>\n",
       "      <th>2</th>\n",
       "      <td>1</td>\n",
       "      <td>15174.247814</td>\n",
       "      <td>26</td>\n",
       "      <td>33</td>\n",
       "      <td>0</td>\n",
       "      <td>0</td>\n",
       "      <td>late_night</td>\n",
       "      <td>0</td>\n",
       "      <td>0</td>\n",
       "      <td>1</td>\n",
       "      <td>...</td>\n",
       "      <td>1</td>\n",
       "      <td>0</td>\n",
       "      <td>0</td>\n",
       "      <td>0</td>\n",
       "      <td>0</td>\n",
       "      <td>0</td>\n",
       "      <td>1</td>\n",
       "      <td>0</td>\n",
       "      <td>0</td>\n",
       "      <td>0</td>\n",
       "    </tr>\n",
       "    <tr>\n",
       "      <th>3</th>\n",
       "      <td>0</td>\n",
       "      <td>2635.334800</td>\n",
       "      <td>11</td>\n",
       "      <td>34</td>\n",
       "      <td>0</td>\n",
       "      <td>0</td>\n",
       "      <td>daytime</td>\n",
       "      <td>1</td>\n",
       "      <td>0</td>\n",
       "      <td>0</td>\n",
       "      <td>...</td>\n",
       "      <td>0</td>\n",
       "      <td>0</td>\n",
       "      <td>0</td>\n",
       "      <td>0</td>\n",
       "      <td>0</td>\n",
       "      <td>0</td>\n",
       "      <td>0</td>\n",
       "      <td>1</td>\n",
       "      <td>0</td>\n",
       "      <td>0</td>\n",
       "    </tr>\n",
       "    <tr>\n",
       "      <th>4</th>\n",
       "      <td>0</td>\n",
       "      <td>2461.840700</td>\n",
       "      <td>19</td>\n",
       "      <td>36</td>\n",
       "      <td>0</td>\n",
       "      <td>0</td>\n",
       "      <td>evening</td>\n",
       "      <td>0</td>\n",
       "      <td>1</td>\n",
       "      <td>0</td>\n",
       "      <td>...</td>\n",
       "      <td>0</td>\n",
       "      <td>0</td>\n",
       "      <td>0</td>\n",
       "      <td>0</td>\n",
       "      <td>0</td>\n",
       "      <td>0</td>\n",
       "      <td>0</td>\n",
       "      <td>0</td>\n",
       "      <td>0</td>\n",
       "      <td>1</td>\n",
       "    </tr>\n",
       "  </tbody>\n",
       "</table>\n",
       "<p>5 rows × 51 columns</p>\n",
       "</div>"
      ],
      "text/plain": [
       "   rewatched  total_consumption  genre  macro_genre  same_previous_genre  \\\n",
       "0          1        1296.681883     27           34                    0   \n",
       "1          0        6099.655533     14           35                    1   \n",
       "2          1       15174.247814     26           33                    0   \n",
       "3          0        2635.334800     11           34                    0   \n",
       "4          0        2461.840700     19           36                    0   \n",
       "\n",
       "   same_previous_macro_genre time_of_day  daytime  evening  late_night ...  \\\n",
       "0                          0  late_night        0        0           1 ...   \n",
       "1                          1     daytime        1        0           0 ...   \n",
       "2                          0  late_night        0        0           1 ...   \n",
       "3                          0     daytime        1        0           0 ...   \n",
       "4                          0     evening        0        1           0 ...   \n",
       "\n",
       "   26  27  28  29  30  31  33  34  35  36  \n",
       "0   0   1   0   0   0   0   0   1   0   0  \n",
       "1   0   0   0   0   0   0   0   0   1   0  \n",
       "2   1   0   0   0   0   0   1   0   0   0  \n",
       "3   0   0   0   0   0   0   0   1   0   0  \n",
       "4   0   0   0   0   0   0   0   0   0   1  \n",
       "\n",
       "[5 rows x 51 columns]"
      ]
     },
     "execution_count": 152,
     "metadata": {},
     "output_type": "execute_result"
    }
   ],
   "source": [
    "data.head()"
   ]
  },
  {
   "cell_type": "code",
   "execution_count": 163,
   "metadata": {},
   "outputs": [
    {
     "name": "stdout",
     "output_type": "stream",
     "text": [
      "Optimization terminated successfully.\n",
      "         Current function value: 0.567625\n",
      "         Iterations 6\n",
      "0.280792905462\n"
     ]
    },
    {
     "data": {
      "text/html": [
       "<table class=\"simpletable\">\n",
       "<caption>Logit Regression Results</caption>\n",
       "<tr>\n",
       "  <th>Dep. Variable:</th>     <td>rewatched</td>    <th>  No. Observations:  </th>   <td>173993</td>   \n",
       "</tr>\n",
       "<tr>\n",
       "  <th>Model:</th>               <td>Logit</td>      <th>  Df Residuals:      </th>   <td>173956</td>   \n",
       "</tr>\n",
       "<tr>\n",
       "  <th>Method:</th>               <td>MLE</td>       <th>  Df Model:          </th>   <td>    36</td>   \n",
       "</tr>\n",
       "<tr>\n",
       "  <th>Date:</th>          <td>Sun, 22 Oct 2017</td> <th>  Pseudo R-squ.:     </th>   <td>0.04392</td>  \n",
       "</tr>\n",
       "<tr>\n",
       "  <th>Time:</th>              <td>17:54:59</td>     <th>  Log-Likelihood:    </th>  <td> -98763.</td>  \n",
       "</tr>\n",
       "<tr>\n",
       "  <th>converged:</th>           <td>True</td>       <th>  LL-Null:           </th> <td>-1.0330e+05</td>\n",
       "</tr>\n",
       "<tr>\n",
       "  <th> </th>                      <td> </td>        <th>  LLR p-value:       </th>   <td> 0.000</td>   \n",
       "</tr>\n",
       "</table>\n",
       "<table class=\"simpletable\">\n",
       "<tr>\n",
       "               <td></td>                 <th>coef</th>     <th>std err</th>      <th>z</th>      <th>P>|z|</th>  <th>[0.025</th>    <th>0.975]</th>  \n",
       "</tr>\n",
       "<tr>\n",
       "  <th>const</th>                      <td>   -3.7433</td> <td>    0.054</td> <td>  -68.835</td> <td> 0.000</td> <td>   -3.850</td> <td>   -3.637</td>\n",
       "</tr>\n",
       "<tr>\n",
       "  <th>total_consumption</th>          <td> 1.892e-05</td> <td> 1.08e-06</td> <td>   17.584</td> <td> 0.000</td> <td> 1.68e-05</td> <td>  2.1e-05</td>\n",
       "</tr>\n",
       "<tr>\n",
       "  <th>same_previous_genre</th>        <td>   -0.3790</td> <td>    0.012</td> <td>  -30.413</td> <td> 0.000</td> <td>   -0.403</td> <td>   -0.355</td>\n",
       "</tr>\n",
       "<tr>\n",
       "  <th>same_genre_percent_watched</th> <td>    0.4366</td> <td>    0.024</td> <td>   18.286</td> <td> 0.000</td> <td>    0.390</td> <td>    0.483</td>\n",
       "</tr>\n",
       "<tr>\n",
       "  <th>series_popularity</th>          <td>    0.3878</td> <td>    0.009</td> <td>   42.520</td> <td> 0.000</td> <td>    0.370</td> <td>    0.406</td>\n",
       "</tr>\n",
       "<tr>\n",
       "  <th>daytime</th>                    <td>    0.4308</td> <td>    0.014</td> <td>   31.413</td> <td> 0.000</td> <td>    0.404</td> <td>    0.458</td>\n",
       "</tr>\n",
       "<tr>\n",
       "  <th>evening</th>                    <td>    0.5998</td> <td>    0.015</td> <td>   39.986</td> <td> 0.000</td> <td>    0.570</td> <td>    0.629</td>\n",
       "</tr>\n",
       "<tr>\n",
       "  <th>1</th>                          <td>    0.9984</td> <td>    0.074</td> <td>   13.535</td> <td> 0.000</td> <td>    0.854</td> <td>    1.143</td>\n",
       "</tr>\n",
       "<tr>\n",
       "  <th>2</th>                          <td>    1.7913</td> <td>    0.118</td> <td>   15.216</td> <td> 0.000</td> <td>    1.561</td> <td>    2.022</td>\n",
       "</tr>\n",
       "<tr>\n",
       "  <th>3</th>                          <td>    0.7707</td> <td>    0.044</td> <td>   17.330</td> <td> 0.000</td> <td>    0.684</td> <td>    0.858</td>\n",
       "</tr>\n",
       "<tr>\n",
       "  <th>4</th>                          <td>    1.3152</td> <td>    0.081</td> <td>   16.281</td> <td> 0.000</td> <td>    1.157</td> <td>    1.474</td>\n",
       "</tr>\n",
       "<tr>\n",
       "  <th>5</th>                          <td>    0.8146</td> <td>    0.051</td> <td>   15.900</td> <td> 0.000</td> <td>    0.714</td> <td>    0.915</td>\n",
       "</tr>\n",
       "<tr>\n",
       "  <th>6</th>                          <td>    0.3080</td> <td>    0.046</td> <td>    6.730</td> <td> 0.000</td> <td>    0.218</td> <td>    0.398</td>\n",
       "</tr>\n",
       "<tr>\n",
       "  <th>7</th>                          <td>    0.2166</td> <td>    0.065</td> <td>    3.345</td> <td> 0.001</td> <td>    0.090</td> <td>    0.343</td>\n",
       "</tr>\n",
       "<tr>\n",
       "  <th>8</th>                          <td>    1.0804</td> <td>    0.057</td> <td>   19.103</td> <td> 0.000</td> <td>    0.970</td> <td>    1.191</td>\n",
       "</tr>\n",
       "<tr>\n",
       "  <th>9</th>                          <td>    1.5030</td> <td>    0.076</td> <td>   19.696</td> <td> 0.000</td> <td>    1.353</td> <td>    1.653</td>\n",
       "</tr>\n",
       "<tr>\n",
       "  <th>10</th>                         <td>    0.6689</td> <td>    0.054</td> <td>   12.331</td> <td> 0.000</td> <td>    0.563</td> <td>    0.775</td>\n",
       "</tr>\n",
       "<tr>\n",
       "  <th>11</th>                         <td>    0.7559</td> <td>    0.045</td> <td>   16.656</td> <td> 0.000</td> <td>    0.667</td> <td>    0.845</td>\n",
       "</tr>\n",
       "<tr>\n",
       "  <th>13</th>                         <td>    0.5401</td> <td>    0.060</td> <td>    8.967</td> <td> 0.000</td> <td>    0.422</td> <td>    0.658</td>\n",
       "</tr>\n",
       "<tr>\n",
       "  <th>14</th>                         <td>    0.9742</td> <td>    0.045</td> <td>   21.829</td> <td> 0.000</td> <td>    0.887</td> <td>    1.062</td>\n",
       "</tr>\n",
       "<tr>\n",
       "  <th>15</th>                         <td>    1.3842</td> <td>    0.050</td> <td>   27.681</td> <td> 0.000</td> <td>    1.286</td> <td>    1.482</td>\n",
       "</tr>\n",
       "<tr>\n",
       "  <th>16</th>                         <td>    0.5107</td> <td>    0.051</td> <td>   10.010</td> <td> 0.000</td> <td>    0.411</td> <td>    0.611</td>\n",
       "</tr>\n",
       "<tr>\n",
       "  <th>17</th>                         <td>    0.9655</td> <td>    0.087</td> <td>   11.079</td> <td> 0.000</td> <td>    0.795</td> <td>    1.136</td>\n",
       "</tr>\n",
       "<tr>\n",
       "  <th>18</th>                         <td>    0.9616</td> <td>    0.158</td> <td>    6.078</td> <td> 0.000</td> <td>    0.652</td> <td>    1.272</td>\n",
       "</tr>\n",
       "<tr>\n",
       "  <th>19</th>                         <td>    0.8022</td> <td>    0.047</td> <td>   17.248</td> <td> 0.000</td> <td>    0.711</td> <td>    0.893</td>\n",
       "</tr>\n",
       "<tr>\n",
       "  <th>20</th>                         <td>    0.9719</td> <td>    0.046</td> <td>   21.296</td> <td> 0.000</td> <td>    0.882</td> <td>    1.061</td>\n",
       "</tr>\n",
       "<tr>\n",
       "  <th>21</th>                         <td>    0.9465</td> <td>    0.096</td> <td>    9.897</td> <td> 0.000</td> <td>    0.759</td> <td>    1.134</td>\n",
       "</tr>\n",
       "<tr>\n",
       "  <th>22</th>                         <td>    1.3791</td> <td>    0.048</td> <td>   28.747</td> <td> 0.000</td> <td>    1.285</td> <td>    1.473</td>\n",
       "</tr>\n",
       "<tr>\n",
       "  <th>23</th>                         <td>    1.5613</td> <td>    0.107</td> <td>   14.641</td> <td> 0.000</td> <td>    1.352</td> <td>    1.770</td>\n",
       "</tr>\n",
       "<tr>\n",
       "  <th>24</th>                         <td>    1.2712</td> <td>    0.055</td> <td>   23.238</td> <td> 0.000</td> <td>    1.164</td> <td>    1.378</td>\n",
       "</tr>\n",
       "<tr>\n",
       "  <th>25</th>                         <td>    0.9374</td> <td>    0.047</td> <td>   19.812</td> <td> 0.000</td> <td>    0.845</td> <td>    1.030</td>\n",
       "</tr>\n",
       "<tr>\n",
       "  <th>26</th>                         <td>    1.2502</td> <td>    0.044</td> <td>   28.586</td> <td> 0.000</td> <td>    1.165</td> <td>    1.336</td>\n",
       "</tr>\n",
       "<tr>\n",
       "  <th>27</th>                         <td>    1.3984</td> <td>    0.048</td> <td>   29.359</td> <td> 0.000</td> <td>    1.305</td> <td>    1.492</td>\n",
       "</tr>\n",
       "<tr>\n",
       "  <th>28</th>                         <td>    1.3252</td> <td>    0.069</td> <td>   19.314</td> <td> 0.000</td> <td>    1.191</td> <td>    1.460</td>\n",
       "</tr>\n",
       "<tr>\n",
       "  <th>29</th>                         <td>    0.3488</td> <td>    0.071</td> <td>    4.933</td> <td> 0.000</td> <td>    0.210</td> <td>    0.487</td>\n",
       "</tr>\n",
       "<tr>\n",
       "  <th>30</th>                         <td>    0.7562</td> <td>    0.087</td> <td>    8.741</td> <td> 0.000</td> <td>    0.587</td> <td>    0.926</td>\n",
       "</tr>\n",
       "<tr>\n",
       "  <th>31</th>                         <td>    2.1819</td> <td>    0.080</td> <td>   27.161</td> <td> 0.000</td> <td>    2.024</td> <td>    2.339</td>\n",
       "</tr>\n",
       "</table>"
      ],
      "text/plain": [
       "<class 'statsmodels.iolib.summary.Summary'>\n",
       "\"\"\"\n",
       "                           Logit Regression Results                           \n",
       "==============================================================================\n",
       "Dep. Variable:              rewatched   No. Observations:               173993\n",
       "Model:                          Logit   Df Residuals:                   173956\n",
       "Method:                           MLE   Df Model:                           36\n",
       "Date:                Sun, 22 Oct 2017   Pseudo R-squ.:                 0.04392\n",
       "Time:                        17:54:59   Log-Likelihood:                -98763.\n",
       "converged:                       True   LL-Null:                   -1.0330e+05\n",
       "                                        LLR p-value:                     0.000\n",
       "==============================================================================================\n",
       "                                 coef    std err          z      P>|z|      [0.025      0.975]\n",
       "----------------------------------------------------------------------------------------------\n",
       "const                         -3.7433      0.054    -68.835      0.000      -3.850      -3.637\n",
       "total_consumption           1.892e-05   1.08e-06     17.584      0.000    1.68e-05     2.1e-05\n",
       "same_previous_genre           -0.3790      0.012    -30.413      0.000      -0.403      -0.355\n",
       "same_genre_percent_watched     0.4366      0.024     18.286      0.000       0.390       0.483\n",
       "series_popularity              0.3878      0.009     42.520      0.000       0.370       0.406\n",
       "daytime                        0.4308      0.014     31.413      0.000       0.404       0.458\n",
       "evening                        0.5998      0.015     39.986      0.000       0.570       0.629\n",
       "1                              0.9984      0.074     13.535      0.000       0.854       1.143\n",
       "2                              1.7913      0.118     15.216      0.000       1.561       2.022\n",
       "3                              0.7707      0.044     17.330      0.000       0.684       0.858\n",
       "4                              1.3152      0.081     16.281      0.000       1.157       1.474\n",
       "5                              0.8146      0.051     15.900      0.000       0.714       0.915\n",
       "6                              0.3080      0.046      6.730      0.000       0.218       0.398\n",
       "7                              0.2166      0.065      3.345      0.001       0.090       0.343\n",
       "8                              1.0804      0.057     19.103      0.000       0.970       1.191\n",
       "9                              1.5030      0.076     19.696      0.000       1.353       1.653\n",
       "10                             0.6689      0.054     12.331      0.000       0.563       0.775\n",
       "11                             0.7559      0.045     16.656      0.000       0.667       0.845\n",
       "13                             0.5401      0.060      8.967      0.000       0.422       0.658\n",
       "14                             0.9742      0.045     21.829      0.000       0.887       1.062\n",
       "15                             1.3842      0.050     27.681      0.000       1.286       1.482\n",
       "16                             0.5107      0.051     10.010      0.000       0.411       0.611\n",
       "17                             0.9655      0.087     11.079      0.000       0.795       1.136\n",
       "18                             0.9616      0.158      6.078      0.000       0.652       1.272\n",
       "19                             0.8022      0.047     17.248      0.000       0.711       0.893\n",
       "20                             0.9719      0.046     21.296      0.000       0.882       1.061\n",
       "21                             0.9465      0.096      9.897      0.000       0.759       1.134\n",
       "22                             1.3791      0.048     28.747      0.000       1.285       1.473\n",
       "23                             1.5613      0.107     14.641      0.000       1.352       1.770\n",
       "24                             1.2712      0.055     23.238      0.000       1.164       1.378\n",
       "25                             0.9374      0.047     19.812      0.000       0.845       1.030\n",
       "26                             1.2502      0.044     28.586      0.000       1.165       1.336\n",
       "27                             1.3984      0.048     29.359      0.000       1.305       1.492\n",
       "28                             1.3252      0.069     19.314      0.000       1.191       1.460\n",
       "29                             0.3488      0.071      4.933      0.000       0.210       0.487\n",
       "30                             0.7562      0.087      8.741      0.000       0.587       0.926\n",
       "31                             2.1819      0.080     27.161      0.000       2.024       2.339\n",
       "==============================================================================================\n",
       "\"\"\""
      ]
     },
     "execution_count": 163,
     "metadata": {},
     "output_type": "execute_result"
    }
   ],
   "source": [
    "X2 = data[['total_consumption','same_previous_genre','same_genre_percent_watched','series_popularity','daytime','evening',1,2,3,4,5,6,7,8,9,10,11,13,14,15,16,17,18,19,20,21,22,23,24,25,26,27,28,29,30,31]]\n",
    "X2 = sm.add_constant(X2)\n",
    "y2 = data['rewatched']\n",
    "lm2 = sm.Logit(y2, X2)\n",
    "result1 = lm2.fit()\n",
    "print data.rewatched.mean()\n",
    "result1.summary()print np.exp(result2.params)"
   ]
  },
  {
   "cell_type": "code",
   "execution_count": 196,
   "metadata": {},
   "outputs": [
    {
     "data": {
      "text/plain": [
       "<matplotlib.axes._subplots.AxesSubplot at 0x13f51dd8>"
      ]
     },
     "execution_count": 196,
     "metadata": {},
     "output_type": "execute_result"
    },
    {
     "data": {
      "image/png": "[encoded data removed]",
      "text/plain": [
       "<matplotlib.figure.Figure at 0x13f67d30>"
      ]
     },
     "metadata": {},
     "output_type": "display_data"
    }
   ],
   "source": [
    "genres_odds = np.exp(result1.params[[7,8,9,10,11,13,14,15,16,17,18,19,20,21,22,23,24,25,26,27,28,29,30,31,32,33,34,35,36]])\n",
    "genres_odds.plot(kind='bar')"
   ]
  },
  {
   "cell_type": "code",
   "execution_count": 173,
   "metadata": {},
   "outputs": [
    {
     "name": "stdout",
     "output_type": "stream",
     "text": [
      "                                2.5%      97.5%        OR\n",
      "const                       0.021282   0.026339  0.023676\n",
      "total_consumption           1.000017   1.000021  1.000019\n",
      "same_previous_genre         0.668027   0.701470  0.684544\n",
      "same_genre_percent_watched  1.476748   1.621650  1.547504\n",
      "series_popularity           1.447664   1.500359  1.473776\n",
      "daytime                     1.497710   1.580429  1.538514\n",
      "evening                     1.768957   1.876089  1.821736\n",
      "1                           2.348537   3.135913  2.713818\n",
      "2                           4.761647   7.553982  5.997449\n",
      "3                           1.980825   2.358046  2.161221\n",
      "4                           3.179967   4.364583  3.725484\n",
      "5                           2.042436   2.496682  2.258166\n",
      "6                           1.243999   1.488486  1.360763\n",
      "7                           1.093834   1.409857  1.241833\n",
      "8                           2.636782   3.291228  2.945887\n",
      "9                           3.870654   5.220276  4.495095\n",
      "10                          1.755198   2.171066  1.952089\n",
      "11                          1.948294   2.327651  2.129542\n",
      "13                          1.525096   1.931223  1.716188\n",
      "14                          2.427151   2.891156  2.649013\n",
      "15                          3.619016   4.402702  3.991672\n",
      "16                          1.507898   1.841738  1.666479\n",
      "17                          2.213712   3.115141  2.626029\n",
      "18                          1.918451   3.566931  2.615909\n",
      "19                          2.036141   2.443370  2.230481\n",
      "20                          2.416822   2.890259  2.642961\n",
      "21                          2.136254   3.107813  2.576641\n",
      "22                          3.614904   4.362813  3.971290\n",
      "23                          3.866253   5.872615  4.764978\n",
      "24                          3.202585   3.968477  3.565022\n",
      "25                          2.327193   2.801441  2.553330\n",
      "26                          3.204354   3.803601  3.491144\n",
      "27                          3.687936   4.445008  4.048815\n",
      "28                          3.289333   4.304376  3.762782\n",
      "29                          1.233939   1.628019  1.417348\n",
      "30                          1.797986   2.523935  2.130258\n",
      "31                          7.571924  10.374367  8.863065\n"
     ]
    }
   ],
   "source": [
    "params = result1.params\n",
    "conf = result1.conf_int()\n",
    "conf['OR'] = params\n",
    "conf.columns = ['2.5%', '97.5%', 'OR']\n",
    "print np.exp(conf)"
   ]
  },
  {
   "cell_type": "code",
   "execution_count": 174,
   "metadata": {},
   "outputs": [
    {
     "name": "stdout",
     "output_type": "stream",
     "text": [
      "const                        -3.743303\n",
      "total_consumption             0.000019\n",
      "same_previous_genre          -0.379002\n",
      "same_genre_percent_watched    0.436643\n",
      "series_popularity             0.387828\n",
      "dtype: float64\n"
     ]
    }
   ],
   "source": [
    "print params.head()"
   ]
  },
  {
   "cell_type": "code",
   "execution_count": null,
   "metadata": {
    "collapsed": true
   },
   "outputs": [],
   "source": []
  }
 ],
 "metadata": {
  "kernelspec": {
   "display_name": "Python 2",
   "language": "python",
   "name": "python2"
  },
  "language_info": {
   "codemirror_mode": {
    "name": "ipython",
    "version": 2
   },
   "file_extension": ".py",
   "mimetype": "text/x-python",
   "name": "python",
   "nbconvert_exporter": "python",
   "pygments_lexer": "ipython2",
   "version": "2.7.13"
  }
 },
 "nbformat": 4,
 "nbformat_minor": 1
}
